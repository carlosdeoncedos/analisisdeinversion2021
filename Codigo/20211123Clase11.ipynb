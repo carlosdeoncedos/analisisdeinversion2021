{
 "cells": [
  {
   "cell_type": "markdown",
   "id": "ce4ff83f-2603-4e4a-b0c8-e283bcec2fff",
   "metadata": {
    "tags": []
   },
   "source": [
    "# OPTIMIZACION PORTAFOLIOS DE INVERSION CON SIMULACION MONTE CARLO\n",
    "Ing. Carlos Crespo Elizondo, MSF<br>\n",
    "MF-013 Análisis de Inversión<br>\n",
    "Clase del 23 de noviembre 2021<br>\n",
    "<br>\n",
    "Maestría de Finanzas, Facultad de Economía<br>\n",
    "UANL<br>"
   ]
  },
  {
   "cell_type": "markdown",
   "id": "69aecdcc-c99c-4272-8683-54f0fa57c75f",
   "metadata": {},
   "source": [
    "## OBJETIVO"
   ]
  },
  {
   "cell_type": "markdown",
   "id": "436362cb-fa1a-48e7-b827-6812f260aaa7",
   "metadata": {},
   "source": [
    "Generar un algoritmo de mayor complejidad seleccionando de manera cuantitativa las acciones que formaran un portafolio de inversión."
   ]
  },
  {
   "cell_type": "markdown",
   "id": "7067697d-cadd-4b7f-b24e-5d85d308e466",
   "metadata": {},
   "source": [
    "## PASOS A SEGUIR"
   ]
  },
  {
   "cell_type": "markdown",
   "id": "dab2c18d-535b-40db-bb4a-0a6fdf7c494c",
   "metadata": {},
   "source": [
    "1. Importar librerías\n",
    "1. Importar precios de cierre\n",
    "1. Calcular retornos diarios\n",
    "1. Anualizar retornos promedios diarios\n",
    "1. Calcular $\\sigma$ diaria\n",
    "1. Anualizar $\\sigma$ diaria\n",
    "1. Graficar dispersiones de los retornos anuales Vs $\\sigma$ anual\n",
    "1. Seleccionar de manera cuantitativa las acciones que formaran el portafolio (Sharp Ratio)\n",
    "1. Calcular matriz de covarianza  de las acciones seleccionadas\n",
    "1. Crear array NumPy para guardar los resultados de las simulaciones.  Debe de incluir las siguientes columnas:\n",
    "  1. \\# de simulación\n",
    "  1. Retorno generado\n",
    "  1. $\\sigma$ del portafolio\n",
    "  1. Sharp Ratio del portafolio\n",
    "  1. y el nombre de cada acción que forman el portafolio\n",
    "1. Realizar simulación Monte Carlo\n",
    "1. Visualizar portafolio\n",
    "1. Visualizar resultados óptimos"
   ]
  },
  {
   "cell_type": "markdown",
   "id": "67f3d54b-7246-42aa-8282-4016eb673dc7",
   "metadata": {},
   "source": [
    "## Desarrollo del código"
   ]
  },
  {
   "cell_type": "markdown",
   "id": "355adf29-fc54-4f36-9731-d0140c73f32e",
   "metadata": {},
   "source": [
    "### 1. Importar librerías"
   ]
  },
  {
   "cell_type": "code",
   "execution_count": null,
   "id": "19092dfd",
   "metadata": {},
   "outputs": [],
   "source": []
  },
  {
   "cell_type": "markdown",
   "id": "9c0d8912-6112-4e89-a32e-432e51b2507b",
   "metadata": {},
   "source": [
    "### 2. Importar precios de cierre"
   ]
  },
  {
   "cell_type": "code",
   "execution_count": null,
   "id": "e60318d4",
   "metadata": {},
   "outputs": [],
   "source": []
  },
  {
   "cell_type": "markdown",
   "id": "d5ce48d0-6e3b-4367-ae7e-52a09b5850ee",
   "metadata": {},
   "source": [
    "### 3. Calcular retornos diarios"
   ]
  },
  {
   "cell_type": "code",
   "execution_count": null,
   "id": "23dfa959",
   "metadata": {},
   "outputs": [],
   "source": []
  },
  {
   "cell_type": "markdown",
   "id": "804afffb-c40a-4429-b0c0-7cfe53812c4d",
   "metadata": {},
   "source": [
    "### 4. Anualizar retornos promedios diarios"
   ]
  },
  {
   "cell_type": "code",
   "execution_count": null,
   "id": "3e408d39",
   "metadata": {},
   "outputs": [],
   "source": []
  },
  {
   "cell_type": "markdown",
   "id": "8ee82720-2e3b-4b44-afa4-7c58d7340db1",
   "metadata": {},
   "source": [
    "### 5. Calcular  $\\sigma$  diaria"
   ]
  },
  {
   "cell_type": "code",
   "execution_count": null,
   "id": "1e8e53a2",
   "metadata": {},
   "outputs": [],
   "source": []
  },
  {
   "cell_type": "markdown",
   "id": "588d832a-fc29-449a-ad3e-5523c4195751",
   "metadata": {
    "tags": []
   },
   "source": [
    "### 6. Anualizar  $\\sigma$  diaria"
   ]
  },
  {
   "cell_type": "code",
   "execution_count": null,
   "id": "5a96e234",
   "metadata": {},
   "outputs": [],
   "source": []
  },
  {
   "cell_type": "markdown",
   "id": "77ecc41e-c792-4f8c-b854-1b8716b3f9e2",
   "metadata": {},
   "source": [
    "### 7. Graficar dispersiones de los retornos anuales Vs $\\sigma$ anual"
   ]
  },
  {
   "cell_type": "code",
   "execution_count": null,
   "id": "b838e40a",
   "metadata": {},
   "outputs": [],
   "source": []
  },
  {
   "cell_type": "markdown",
   "id": "2f77d9dd-b645-487e-be28-42a05ce163f5",
   "metadata": {},
   "source": [
    "### 8. Seleccionar de manera cuantitativa las acciones que formaran el portafolio (Sharp Ratio)"
   ]
  },
  {
   "cell_type": "markdown",
   "id": "d62f3f2c-a462-4783-b6df-44d2fdc4050b",
   "metadata": {},
   "source": [
    "$$SharpRatio = \\frac{R_p - R_f}{\\sigma_p}$$"
   ]
  },
  {
   "cell_type": "markdown",
   "id": "40b1a157-7419-415f-9453-248081f42d6b",
   "metadata": {},
   "source": [
    "### 9. Calcular matriz de covarianza de las acciones seleccionadas"
   ]
  },
  {
   "cell_type": "code",
   "execution_count": null,
   "id": "b077dd0a",
   "metadata": {},
   "outputs": [],
   "source": []
  },
  {
   "cell_type": "markdown",
   "id": "3e3464df-c9f8-409d-9b5e-ca1e587c6fb1",
   "metadata": {},
   "source": [
    "### 10. Crear array NumPy para guardar los resultados de las simulaciones"
   ]
  },
  {
   "cell_type": "code",
   "execution_count": null,
   "id": "9a202f0f",
   "metadata": {},
   "outputs": [],
   "source": []
  },
  {
   "cell_type": "markdown",
   "id": "c90cba96-553a-4f63-95e7-ca3bfb135551",
   "metadata": {},
   "source": [
    "### 11. Realizar simulación Monte Carlo"
   ]
  },
  {
   "cell_type": "code",
   "execution_count": null,
   "id": "e2580bad",
   "metadata": {},
   "outputs": [],
   "source": []
  },
  {
   "cell_type": "markdown",
   "id": "3569a9b6-c470-4418-9d7c-faeb81cc682c",
   "metadata": {},
   "source": [
    "### 12. Visualizar portafolio"
   ]
  },
  {
   "cell_type": "code",
   "execution_count": null,
   "id": "a70430c1",
   "metadata": {},
   "outputs": [],
   "source": []
  },
  {
   "cell_type": "markdown",
   "id": "b61fde38-978b-4e15-b271-025101a76f8c",
   "metadata": {},
   "source": [
    "### 13. Visualizar resultados óptimos"
   ]
  },
  {
   "cell_type": "code",
   "execution_count": null,
   "id": "cca2e0cf",
   "metadata": {},
   "outputs": [],
   "source": []
  }
 ],
 "metadata": {
  "kernelspec": {
   "display_name": "Python 3 (ipykernel)",
   "language": "python",
   "name": "python3"
  },
  "language_info": {
   "codemirror_mode": {
    "name": "ipython",
    "version": 3
   },
   "file_extension": ".py",
   "mimetype": "text/x-python",
   "name": "python",
   "nbconvert_exporter": "python",
   "pygments_lexer": "ipython3",
   "version": "3.9.7"
  }
 },
 "nbformat": 4,
 "nbformat_minor": 5
}
