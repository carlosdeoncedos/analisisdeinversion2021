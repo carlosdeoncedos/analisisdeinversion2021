{
 "cells": [
  {
   "cell_type": "markdown",
   "id": "b5c3095a-6ea5-416e-833d-6d1701abbb36",
   "metadata": {},
   "source": [
    "# Introducción a Algotrading\n",
    "Ing. Carlos Crespo Elizondo, MSF<br>\n",
    "MF-013 Análisis de Inversión<br>\n",
    "Clase del 9 de noviembre 2021<br>\n",
    "\n",
    "Maestría de Finanzas, Facultad de Economía<br>\n",
    "UANL<br>"
   ]
  },
  {
   "cell_type": "markdown",
   "id": "2a3ac0db-44f7-4471-bc4a-5e461c6f4cd2",
   "metadata": {},
   "source": [
    "## La serie Fibonacci en el análisis técnico"
   ]
  },
  {
   "cell_type": "markdown",
   "id": "186e69f8-5a03-4e93-8c3b-12cc2c794f98",
   "metadata": {},
   "source": [
    "La secuecia de números de la serie Fibonacci son representados por 1, 1, 2, 3, 5, 8, 13, 21, 34, 55, 89, 144 $\\cdots\\infty$<br><br>\n",
    "\n",
    "Se obtiene al sumar los dos números precedentes, empezando con $F_0 = 0, F_1 = 1$:\n",
    "$$F_n = F_{n-1} + F_{n-2}$$\n",
    "* $F_0 = 0$\n",
    "* $F_1 = 1$\n",
    "* $F_2 = F_1 + F_0 = 1$\n",
    "* $F_3 = F_2 + F_1 = 2$\n",
    "* $F_4 = F_3 + F_2 = 3$\n",
    "* $F_5 = F_4 + F_3 = 5$\n",
    "* $F_6 = F_5 + F_4 = 8$\n",
    "* $F_7 = F6 + F_5 = 13$\n",
    "* $F_8 = F_7 + F_6 = 21$\n",
    "* $F_9 = F_8 + F_7 = 34$\n",
    "* $F_{10} = F_9 + F_8 = 55$\n",
    "* $F_{11} = F_{10} + F_{9} = 89$\n",
    "* $F_{12} = F_{11} + F_{10} = 144$\n",
    "* $F_{13} = F_{12} + F_{11} = 233$\n",
    "* $\\cdots$\n",
    "* $\\infty$<br><br>\n",
    "\n",
    "Esta secuencia, tiene unas propiedades muy interesantes:\n",
    "* La razón o proporción de cualquier número con el siguiente, se aproxima a $0.618$, después de los primeros 4 valores.\n",
    "    * $\\frac{1}{1}=1.00$\n",
    "    * $\\frac{1}{2}=0.50$\n",
    "    * $\\frac{2}{3}=0.67$\n",
    "    * $\\frac{3}{5}=0.60$\n",
    "    * $\\frac{5}{8}=0.625$\n",
    "    * $\\frac{8}{13}=0.615$\n",
    "    * $\\frac{13}{21}=0.619$\n"
   ]
  },
  {
   "cell_type": "markdown",
   "id": "c2ffc4b7-7251-4efa-ad58-756a389762c0",
   "metadata": {},
   "source": [
    "## Sobre los promedios móviles"
   ]
  },
  {
   "cell_type": "markdown",
   "id": "f44ea53b-4767-4ef0-97ce-1273d983a6a3",
   "metadata": {},
   "source": [
    "* Una de las herramientas más versátiles y usadas en el análisis técnico.\n",
    "* Muchos sistemas basados en estrategias de \"trend following, utilizan los promedios móviles como base de sus algorítmos.\n",
    "* Un promedio móvil, es un promedio de unos datos que se actualiza de acuerdo a una ventana de tiempo.\n",
    "* Funciona como un seguidor de una tendencia.\n",
    "* Su objetivo es identificar si empieza una tendencia nueva o si la actual ya se terminó.\n",
    "* Su objetivo no es intentar anticipar el movimiento del mercado.\n",
    "* Una ventana de tiempo relativamente corta es mucho más sensible al movimientos unitarios del mercado que una ventana de tiempo larga.\n",
    "* Definir la ventana del tiempo puede ser la parte más crucial.\n",
    "    * Se deben de contestar las siguientes preguntas:\n",
    "        * Días a considerar?\n",
    "        * Utilizar los precios de cierre, apertura, máximo, mínimo, última transacción?\n",
    "        * Utilizar promedio simple, ponderado, suavizado exponencialmente?\n",
    "        \n",
    "_Siempre hay un \"**trade off**\":  Utilizar promedios móviles cortos, genera mayor cantidad de señales falsas. Mientras que un promedio móvil largo, suaviza más el precio, pero se tarda en reaccionar a la tendencia del mercado._\n"
   ]
  },
  {
   "cell_type": "markdown",
   "id": "5ef34bcf-b12a-4f31-ab4b-2a24c33fdf43",
   "metadata": {},
   "source": [
    "## Programar algoritmo"
   ]
  },
  {
   "cell_type": "markdown",
   "id": "d96b97e7-1280-44bf-834d-ef1449754cc0",
   "metadata": {},
   "source": [
    "### Importar librerías"
   ]
  },
  {
   "cell_type": "code",
   "execution_count": null,
   "id": "493a395e-23b4-42c7-aeee-cb59f873d5d7",
   "metadata": {},
   "outputs": [],
   "source": []
  },
  {
   "cell_type": "markdown",
   "id": "65ec3690-e536-4d47-bf90-a791edccc704",
   "metadata": {},
   "source": [
    "### Cargar datos"
   ]
  },
  {
   "cell_type": "code",
   "execution_count": null,
   "id": "cf7aeeff-890e-4de3-b344-73502ce44c5a",
   "metadata": {},
   "outputs": [],
   "source": []
  },
  {
   "cell_type": "markdown",
   "id": "49a73c0c-1042-4a33-997b-2208bfdce93f",
   "metadata": {},
   "source": [
    "### Calcular promedios móviles"
   ]
  },
  {
   "cell_type": "code",
   "execution_count": null,
   "id": "23903145-a997-4031-9895-73b707547200",
   "metadata": {},
   "outputs": [],
   "source": []
  },
  {
   "cell_type": "markdown",
   "id": "12eccca3-e208-4037-a4ff-90971f278ce3",
   "metadata": {},
   "source": [
    "### Visualizar cruces"
   ]
  },
  {
   "cell_type": "code",
   "execution_count": null,
   "id": "30c6a5d4-e204-460c-a354-7bc3d6bbdbef",
   "metadata": {},
   "outputs": [],
   "source": []
  },
  {
   "cell_type": "markdown",
   "id": "3b10b1a5-9cff-407b-8308-3692223e53d8",
   "metadata": {},
   "source": [
    "### Generar señales de compra/venta"
   ]
  },
  {
   "cell_type": "code",
   "execution_count": null,
   "id": "e217ef05-415d-4228-9212-f79427e32c24",
   "metadata": {},
   "outputs": [],
   "source": []
  },
  {
   "cell_type": "markdown",
   "id": "765f81a5-961b-4805-86f8-cd3696bf3a4a",
   "metadata": {},
   "source": [
    "### Graficar posiciones en el mercado"
   ]
  },
  {
   "cell_type": "code",
   "execution_count": null,
   "id": "b6ffe44a-a661-4ce8-b2f7-8dcf14a8467b",
   "metadata": {},
   "outputs": [],
   "source": []
  },
  {
   "cell_type": "markdown",
   "id": "ae55d16d-24c6-41e6-9744-8ad3fe08e6fe",
   "metadata": {},
   "source": [
    "### Realizar back testing de la estrategia"
   ]
  },
  {
   "cell_type": "markdown",
   "id": "078051f8-89ed-40bc-896e-47ba0d96bab0",
   "metadata": {},
   "source": [
    "#### Calcular retornos del mercado"
   ]
  },
  {
   "cell_type": "code",
   "execution_count": null,
   "id": "123abf68-8cdb-4c40-83c7-85887584df86",
   "metadata": {},
   "outputs": [],
   "source": []
  },
  {
   "cell_type": "markdown",
   "id": "ebc910e0-53bc-4cff-9339-f8b04457b2aa",
   "metadata": {},
   "source": [
    "#### Calcular retornos de la estrategia"
   ]
  },
  {
   "cell_type": "code",
   "execution_count": null,
   "id": "49e7cba7-e85f-4708-be69-7d204f6919bb",
   "metadata": {},
   "outputs": [],
   "source": []
  },
  {
   "cell_type": "markdown",
   "id": "2b78a3d4-47ee-42dc-9e63-fce3225cf253",
   "metadata": {},
   "source": [
    "#### Graficar retornos del mercado Vs retornos de la estrategia"
   ]
  },
  {
   "cell_type": "code",
   "execution_count": null,
   "id": "2aeb6892-4bed-4ef0-9aa4-b398ab2a5da7",
   "metadata": {},
   "outputs": [],
   "source": []
  }
 ],
 "metadata": {
  "kernelspec": {
   "display_name": "Python 3 (ipykernel)",
   "language": "python",
   "name": "python3"
  },
  "language_info": {
   "codemirror_mode": {
    "name": "ipython",
    "version": 3
   },
   "file_extension": ".py",
   "mimetype": "text/x-python",
   "name": "python",
   "nbconvert_exporter": "python",
   "pygments_lexer": "ipython3",
   "version": "3.9.7"
  }
 },
 "nbformat": 4,
 "nbformat_minor": 5
}
