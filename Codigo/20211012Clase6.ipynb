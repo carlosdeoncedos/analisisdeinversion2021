{
 "cells": [
  {
   "cell_type": "markdown",
   "metadata": {
    "slideshow": {
     "slide_type": "slide"
    }
   },
   "source": [
    "# Introducción a Pandas\n",
    "Ing. Carlos Crespo Elizondo, MSF\n",
    "MF-013 Análisis de Inversión<br>\n",
    "Clase del 12 de octubre 2021<br>\n",
    "\n",
    "Maestría de Finanzas, Facultad de Economía<br>\n",
    "UANL<br>"
   ]
  },
  {
   "cell_type": "markdown",
   "metadata": {
    "slideshow": {
     "slide_type": "slide"
    }
   },
   "source": [
    "## ![](https://pandas.pydata.org/static/img/pandas.svg)"
   ]
  },
  {
   "cell_type": "markdown",
   "metadata": {
    "slideshow": {
     "slide_type": "slide"
    }
   },
   "source": [
    "> _\"pandas es una librería de Python que provee una rápida y flexible estructura de datos diseñada para trabajar con datos relacionados o etiquetados de manera fácil e intuitiva.\"_\n",
    ">\n",
    "> _\"Python junto con pandas se usa en una amplia variedad áreas que incluyen finanzas, data science, neurociencia, economía, estadísticas, publicidad, análisis web y más.\"_<br>\n",
    "> https://pandas.pydata.org"
   ]
  },
  {
   "cell_type": "markdown",
   "metadata": {
    "slideshow": {
     "slide_type": "slide"
    }
   },
   "source": [
    "## Características de Pandas"
   ]
  },
  {
   "cell_type": "markdown",
   "metadata": {
    "slideshow": {
     "slide_type": "fragment"
    }
   },
   "source": [
    "* Rápido y eficiente para la manipulación de información a través de DataFrames"
   ]
  },
  {
   "cell_type": "markdown",
   "metadata": {
    "slideshow": {
     "slide_type": "fragment"
    }
   },
   "source": [
    "* Herramientas para leer y guardar información entre los datos generados y diferentes formatos como CSV, Excel, archivos de texto, bases de datos SQL, HDF5."
   ]
  },
  {
   "cell_type": "markdown",
   "metadata": {
    "slideshow": {
     "slide_type": "fragment"
    }
   },
   "source": [
    "* Funcionalidad de series de tiempo."
   ]
  },
  {
   "cell_type": "markdown",
   "metadata": {},
   "source": [
    "## Estructura de datos en Pandas"
   ]
  },
  {
   "cell_type": "markdown",
   "metadata": {
    "slideshow": {
     "slide_type": "slide"
    }
   },
   "source": [
    "Las estructuras de datos de Pandas más importante son:\n",
    "1. Series:  Arreglos unidimensional que contiene una secuencia de valores y un array asociado de etiquetas para los datos, que se llama *__index__*.\n",
    "2. DataFrames:  Representa una tabla rectangular que contiene una colección ordenada de columnas.  Contiene *__index__* tanto para las filas, como para las columnas."
   ]
  },
  {
   "cell_type": "markdown",
   "metadata": {
    "slideshow": {
     "slide_type": "slide"
    }
   },
   "source": [
    "## Cargando la librería pandas en Python"
   ]
  },
  {
   "cell_type": "code",
   "execution_count": null,
   "metadata": {},
   "outputs": [],
   "source": []
  },
  {
   "cell_type": "markdown",
   "metadata": {
    "slideshow": {
     "slide_type": "slide"
    }
   },
   "source": [
    "## Tipos de estructuras de datos en pandas"
   ]
  },
  {
   "cell_type": "markdown",
   "metadata": {},
   "source": [
    "###  Serie"
   ]
  },
  {
   "cell_type": "markdown",
   "metadata": {},
   "source": [
    "### DataFrame"
   ]
  },
  {
   "cell_type": "code",
   "execution_count": null,
   "metadata": {},
   "outputs": [],
   "source": [
    "datos = {'Estados':['Coah', 'NL', 'Tam', 'SLP'], 'Poblacion':[2.9, 5.0, 3.5, 2.7],\n",
    "         '#Municipios':[38, 51, 43, 58]}"
   ]
  },
  {
   "cell_type": "code",
   "execution_count": null,
   "metadata": {},
   "outputs": [],
   "source": []
  },
  {
   "cell_type": "markdown",
   "metadata": {},
   "source": [
    "### Comparando valores"
   ]
  },
  {
   "cell_type": "code",
   "execution_count": null,
   "metadata": {},
   "outputs": [],
   "source": []
  },
  {
   "cell_type": "markdown",
   "metadata": {},
   "source": [
    "### Una manera de borrar columnas"
   ]
  },
  {
   "cell_type": "code",
   "execution_count": null,
   "metadata": {},
   "outputs": [],
   "source": []
  },
  {
   "cell_type": "markdown",
   "metadata": {},
   "source": [
    "## Trabajando con DataFrame's"
   ]
  },
  {
   "cell_type": "markdown",
   "metadata": {},
   "source": [
    "### Formas para construir desde cero un DataFrame"
   ]
  },
  {
   "cell_type": "markdown",
   "metadata": {},
   "source": [
    "<table>\n",
    "  <tr>\n",
    "      <th><center>Tipo</center></th>\n",
    "      <th><center>Comentario</center></th>\n",
    "    \n",
    "  </tr>\n",
    "  <tr>\n",
    "    <td style=\"text-align:left;\">ndarryas de 2D.</td>\n",
    "    <td style=\"text-align:left;\">Una matriz de datos.</td>\n",
    "  </tr>\n",
    "  \n",
    "  <tr>\n",
    "    <td style=\"text-align:left;\">Diccionario de arrays, listas o tuplas.</td>\n",
    "    <td style=\"text-align:left;\">Cada secuencia se vuelve una columna en el DataFrame.  Todas las secuencias deben de ser de la misma longitud.</td>\n",
    "  </tr>\n",
    "  \n",
    "  <tr>\n",
    "    <td style=\"text-align:left;\">Numpy.</td>\n",
    "    <td style=\"text-align:left;\">pandas lo trata como un diccionario de arrays.</td>\n",
    "  </tr>\n",
    "  \n",
    "  <tr>\n",
    "    <td style=\"text-align:left;\">Diccionario de Series.</td>\n",
    "    <td style=\"text-align:left;\">Cada valor se vuelve una columna.  Los index de cada Serie son unidos para formar el index del DataFrame.</td>\n",
    "  </tr>\n",
    "  \n",
    "  <tr>\n",
    "    <td style=\"text-align:left;\">Diccionario de diccionario</td>\n",
    "    <td style=\"text-align:left;\">Cada diccionario interno se vuelve una columna y sus llaves se vuelven el index.  La llave exterior de los diccionarios se vuelven los titulos de las columnas.</td>\n",
    "  </tr>\n",
    "  \n",
    "  <tr>\n",
    "    <td style=\"text-align:left;\">Lista de diccionarios o Series.</td>\n",
    "    <td style=\"text-align:left;\">Cada elemento se convierte en una fila del DataFrame.  La unión de las llaves de los diccionarios o el index de las Series, se vuelven los titulos de las columnas.</td>\n",
    "  </tr>\n",
    "  \n",
    "<tr>\n",
    "    <td style=\"text-align:left;\">Lista de listas.</td>\n",
    "    <td style=\"text-align:left;\">Se trata al igual que los ndarrays de 2D.</td>\n",
    "  </tr>\n",
    "\n",
    "<tr>\n",
    "    <td style=\"text-align:left;\">Otro DataFrame</td>\n",
    "    <td style=\"text-align:left;\">Se utilizan los index del DataFrame original, al menos que se indiquen otros.</td>\n",
    "  </tr>\n",
    "\n",
    "</table>"
   ]
  },
  {
   "cell_type": "markdown",
   "metadata": {},
   "source": [
    "### Método \"drop\""
   ]
  },
  {
   "cell_type": "markdown",
   "metadata": {},
   "source": [
    "#### \"drop\" momentaneo"
   ]
  },
  {
   "cell_type": "code",
   "execution_count": null,
   "metadata": {},
   "outputs": [],
   "source": []
  },
  {
   "cell_type": "markdown",
   "metadata": {},
   "source": [
    "#### \"drop\" permanente"
   ]
  },
  {
   "cell_type": "code",
   "execution_count": null,
   "metadata": {},
   "outputs": [],
   "source": []
  },
  {
   "cell_type": "markdown",
   "metadata": {},
   "source": [
    "### Atributo \"inplace\""
   ]
  },
  {
   "cell_type": "code",
   "execution_count": null,
   "metadata": {},
   "outputs": [],
   "source": []
  },
  {
   "cell_type": "markdown",
   "metadata": {},
   "source": [
    "### Indexing"
   ]
  },
  {
   "cell_type": "markdown",
   "metadata": {},
   "source": [
    "#### Indexing en series"
   ]
  },
  {
   "cell_type": "code",
   "execution_count": null,
   "metadata": {},
   "outputs": [],
   "source": []
  },
  {
   "cell_type": "markdown",
   "metadata": {},
   "source": [
    "#### Indexing en DataFrames"
   ]
  },
  {
   "cell_type": "code",
   "execution_count": null,
   "metadata": {},
   "outputs": [],
   "source": []
  },
  {
   "cell_type": "markdown",
   "metadata": {},
   "source": [
    "### Slicing index con \"iloc\" y \"loc\""
   ]
  },
  {
   "cell_type": "markdown",
   "metadata": {},
   "source": [
    "*__iloc__* y *__loc__* están diseñados para hacer slicing en los *__index__* de los DataFrame's.  Nos permiten seleccionar un subset de **indexes** y también **columnas**.\n",
    "* *__loc__* lo utilizamos si queremos seleccionar con las **etiquetas** del index o columna\n",
    "* *__iloc__* lo utilizamos si queremos seleccionar con la **posición númerica** del index o columna."
   ]
  },
  {
   "cell_type": "code",
   "execution_count": null,
   "metadata": {},
   "outputs": [],
   "source": []
  },
  {
   "cell_type": "markdown",
   "metadata": {},
   "source": [
    "### Operaciones artiméticas y alineación de datos"
   ]
  },
  {
   "cell_type": "code",
   "execution_count": null,
   "metadata": {},
   "outputs": [],
   "source": []
  },
  {
   "cell_type": "markdown",
   "metadata": {
    "slideshow": {
     "slide_type": "slide"
    }
   },
   "source": [
    "## Estadísticas descriptivas"
   ]
  },
  {
   "cell_type": "markdown",
   "metadata": {},
   "source": [
    "\n",
    "<table>\n",
    "  <tr>\n",
    "    <th style=\"text-align:center;\">Método</th>\n",
    "    <th style=\"text-align:center;\">Descripción</th>\n",
    "  </tr>\n",
    "  \n",
    "  <tr>\n",
    "    <td style=\"text-align:left;\">count</td>\n",
    "    <td style=\"text-align:left;\">El número de valores que no sean NaN</td>\n",
    "  </tr>\n",
    "  \n",
    "  <tr>\n",
    "    <td style=\"text-align:left;\">describe</td>\n",
    "    <td style=\"text-align:left;\">Calcula un resumen de varias estadísticas por columna </td>\n",
    "  </tr>\n",
    "  \n",
    "  <tr>\n",
    "    <td style=\"text-align:left;\">min</td>\n",
    "    <td style=\"text-align:left;\">Valor mínimo</td>\n",
    "  </tr>\n",
    "  \n",
    "  <tr>\n",
    "    <td style=\"text-align:left;\">max</td>\n",
    "    <td style=\"text-align:left;\">Valor máximo</td>\n",
    "  </tr>\n",
    "  \n",
    "  <tr>\n",
    "    <td style=\"text-align:left;\">idxmin</td>\n",
    "    <td style=\"text-align:left;\">Encuentra el valor del index en donde está el valor mínimo</td>\n",
    "  </tr>\n",
    "  \n",
    "  <tr>\n",
    "    <td style=\"text-align:left;\">idxmax</td>\n",
    "    <td style=\"text-align:left;\">Encuentra el valor del index en donde está el valor máximo</td>\n",
    "  </tr>\n",
    "  \n",
    "  <tr>\n",
    "    <td style=\"text-align:left;\">quantile</td>\n",
    "    <td style=\"text-align:left;\">Valor cuantil</td>\n",
    "  </tr>\n",
    "  \n",
    "  <tr>\n",
    "    <td style=\"text-align:left;\">sum</td>\n",
    "    <td style=\"text-align:left;\">Suma los valores</td>\n",
    "  </tr>\n",
    "  \n",
    "  <tr>\n",
    "    <td style=\"text-align:left;\">mean</td>\n",
    "    <td style=\"text-align:left;\">Media de los valores</td>\n",
    "  </tr>\n",
    "  \n",
    "  <tr>\n",
    "    <td style=\"text-align:left;\">median</td>\n",
    "    <td style=\"text-align:left;\">Media de los valores</td>\n",
    "  </tr>\n",
    "  \n",
    "  <tr>\n",
    "    <td style=\"text-align:left;\">prod</td>\n",
    "    <td style=\"text-align:left;\">Multiplica todos los valores</td>\n",
    "  </tr>\n",
    "  \n",
    "  <tr>\n",
    "    <td style=\"text-align:left;\">var</td>\n",
    "        <td style=\"text-align:left;\">Varianza de la muestra de los valores</td>\n",
    "  </tr>\n",
    "  \n",
    "  <tr>\n",
    "    <td style=\"text-align:left;\">std</td>\n",
    "    <td style=\"text-align:left;\">Desviación estándar de la muestra de los valores</td>\n",
    "  </tr>\n",
    "  \n",
    "  <tr>\n",
    "    <td style=\"text-align:left;\">skew</td>\n",
    "    <td style=\"text-align:left;\">Asimetría de la muestra de los valores</td>\n",
    "  </tr>\n",
    "  \n",
    "  <tr>\n",
    "    <td style=\"text-align:left;\">kurt</td>\n",
    "    <td style=\"text-align:left;\">Kurtosis de la muestra de los valores</td>\n",
    "  </tr>\n",
    "  \n",
    "  <tr>\n",
    "    <td style=\"text-align:left;\">cumsum</td>\n",
    "    <td style=\"text-align:left;\">Suma acomulada de los valores</td>\n",
    "  </tr>\n",
    "  \n",
    "  <tr>\n",
    "    <td style=\"text-align:left;\">cumprod</td>\n",
    "    <td style=\"text-align:left;\">Producto acomulado de los valores</td>\n",
    "  </tr>\n",
    "  \n",
    "  <tr>\n",
    "    <td style=\"text-align:left;\">pct_change</td>\n",
    "    <td style=\"text-align:left;\">Porcentaje de cambio</td>\n",
    "  </tr>\n",
    "\n",
    "\n",
    "\n",
    "</table>"
   ]
  },
  {
   "cell_type": "code",
   "execution_count": null,
   "metadata": {},
   "outputs": [],
   "source": []
  },
  {
   "cell_type": "markdown",
   "metadata": {
    "slideshow": {
     "slide_type": "slide"
    }
   },
   "source": [
    "## Series de tiempo"
   ]
  },
  {
   "cell_type": "code",
   "execution_count": null,
   "metadata": {},
   "outputs": [],
   "source": []
  },
  {
   "cell_type": "markdown",
   "metadata": {},
   "source": [
    "Estos son algunas de las frecuencias de mayor utilidad:\n",
    "<table>\n",
    "  <tr>\n",
    "    <th style=\"text-align:center;\">Alias</th>\n",
    "    <th style=\"text-align:center;\">Tipo</th>\n",
    "    <th style=\"text-align:center;\">Descripción</th>\n",
    "  </tr>\n",
    "  \n",
    "  <tr>\n",
    "    <td style=\"text-align:center;\">D</td>\n",
    "    <td style=\"text-align:left;\">Día</td>\n",
    "    <td style=\"text-align:left;\">Día calendario</td>\n",
    "  </tr>\n",
    "  \n",
    "  <tr>\n",
    "    <td style=\"text-align:center;\">B</td>\n",
    "    <td style=\"text-align:left;\">Dia laborables</td>\n",
    "    <td style=\"text-align:left;\">Dias laborales diarios</td>\n",
    "  </tr>\n",
    "  \n",
    "  <tr>\n",
    "    <td style=\"text-align:center;\">H</td>\n",
    "    <td style=\"text-align:left;\">Hora</td>\n",
    "    <td style=\"text-align:left;\">Por hora</td>\n",
    "  </tr>\n",
    "  \n",
    "  <tr>\n",
    "    <td style=\"text-align:center;\">T</td>\n",
    "    <td style=\"text-align:left;\">minuto</td>\n",
    "    <td style=\"text-align:left;\">Por minuto</td>\n",
    "  </tr>\n",
    "  \n",
    "  <tr>\n",
    "    <td style=\"text-align:center;\">S</td>\n",
    "    <td style=\"text-align:left;\">Segundos</td>\n",
    "    <td style=\"text-align:left;\">Por segundo</td>\n",
    "  </tr>\n",
    "  \n",
    "  <tr>\n",
    "    <td style=\"text-align:center;\">M</td>\n",
    "    <td style=\"text-align:left;\">Fin de mes</td>\n",
    "    <td style=\"text-align:left;\">Último día calendario del mes</td>\n",
    "  </tr>\n",
    "  \n",
    "  <tr>\n",
    "    <td style=\"text-align:center;\">BM</td>\n",
    "    <td style=\"text-align:left;\"></td>\n",
    "    <td style=\"text-align:left;\">Último día laboral del mes</td>\n",
    "  </tr>\n",
    "  \n",
    "  <tr>\n",
    "    <td style=\"text-align:center;\">MS</td>\n",
    "    <td style=\"text-align:left;\"></td>\n",
    "    <td style=\"text-align:left;\">Primer día calendario del mes</td>\n",
    "  </tr>\n",
    "  \n",
    "  <tr>\n",
    "    <td style=\"text-align:center;\">BMS</td>\n",
    "    <td style=\"text-align:left;\"></td>\n",
    "    <td style=\"text-align:left;\">Primer día laboral entre semana</td>\n",
    "  </tr>\n",
    "  \n",
    "  <tr>\n",
    "    <td style=\"text-align:left;\">W-MON, W-TUE,...</td>\n",
    "    <td style=\"text-align:left;\">Semana</td>\n",
    "    <td style=\"text-align:left;\">Semanal en el día dado (MON, TUE, WED, THU, FRI, SAT, SUN</td>\n",
    "  </tr>\n",
    "  \n",
    "  <tr>\n",
    "    <td style=\"text-align:left;\">BQ-JAN, BQ-FEB...</td>\n",
    "    <td style=\"text-align:left;\">Trimestres</td>\n",
    "    <td style=\"text-align:left;\">Trimestral a partir del último día laboral del mes seleccionado</td>\n",
    "  </tr>\n",
    "  \n",
    "</table>"
   ]
  },
  {
   "cell_type": "markdown",
   "metadata": {
    "slideshow": {
     "slide_type": "slide"
    }
   },
   "source": [
    "## Leer datos externos"
   ]
  },
  {
   "cell_type": "markdown",
   "metadata": {},
   "source": [
    "<table>\n",
    "  <tr>\n",
    "    <th style=\"text-align:center;\">Función</th>\n",
    "    <th style=\"text-align:center;\">Descripción</th>\n",
    "  </tr>\n",
    "  \n",
    "  <tr>\n",
    "    <td style=\"text-align:left;\">read_csv</td>\n",
    "    <td style=\"text-align:left;\">Lee archivos delimitados de un directorio, URL.  El delimitador por default es \",\"</td>\n",
    "  </tr>\n",
    "  \n",
    "  <tr>\n",
    "  \n",
    "  <tr>\n",
    "    <td style=\"text-align:left;\">read_table</td>\n",
    "    <td style=\"text-align:left;\">Lee archivos delimitados de un directorio, URL.  El delimitador por default es \"-TAB-\"</td>\n",
    "  </tr>\n",
    "  \n",
    "  <tr>\n",
    "    <td style=\"text-align:left;\">read_fwf</td>\n",
    "    <td style=\"text-align:left;\">Lee archivos con datos con anchos de columna fijos, no delimitados</td>\n",
    "  </tr>\n",
    "  \n",
    "  <tr>\n",
    "    <td style=\"text-align:left;\">read_clipboard</td>\n",
    "    <td style=\"text-align:left;\">Similar a read_table, pero lee lo que tienes copiado en el clipboard!</td>\n",
    "  </tr>\n",
    "  \n",
    "  <tr>\n",
    "    <td style=\"text-align:left;\">read_excel</td>\n",
    "    <td style=\"text-align:left;\">Lee datos tabulares en XLS o XLSX</td>\n",
    "  </tr>\n",
    "  \n",
    "  <tr>\n",
    "    <td style=\"text-align:left;\">read_html</td>\n",
    "    <td style=\"text-align:left;\">Lee todas las tablas HTML de una dirección web</td>\n",
    "  </tr>\n",
    "  \n",
    "  <tr>\n",
    "    <td style=\"text-align:left;\">read_json</td>\n",
    "    <td style=\"text-align:left;\">Lee datos de archivos JSON</td>\n",
    "  </tr>\n",
    "  \n",
    "  <tr>\n",
    "    <td style=\"text-align:left;\">read_sas</td>\n",
    "    <td style=\"text-align:left;\">Lee datos de archivos SAS</td>\n",
    "  </tr>\n",
    "  \n",
    "  <tr>\n",
    "    <td style=\"text-align:left;\">read_sql</td>\n",
    "    <td style=\"text-align:left;\">Lee datos de la BD SQL</td>\n",
    "  </tr>\n",
    "  \n",
    "  <tr>\n",
    "    <td style=\"text-align:left;\">read_stat</td>\n",
    "    <td style=\"text-align:left;\">Lee datos de archivos STAT</td>\n",
    "  </tr>"
   ]
  },
  {
   "cell_type": "markdown",
   "metadata": {},
   "source": [
    "## Datos históricos del Baseball 1871-2021 (bateo)"
   ]
  },
  {
   "cell_type": "markdown",
   "metadata": {},
   "source": [
    "> \"*The game breaks your heart. It is designed to break your heart. The game begins in spring, when everything else begins again, and it blossoms in the summer, filling the afternoons and evenings, and then as soon as the chill rains come, it stops and leaves you to face the fall alone.”.-* Bartlett Giamatti<br><br>\n",
    ">\"*A baseball game has six minutes of action crammed into two-and-one-half hours.*\".- Ray Fitzgerald "
   ]
  },
  {
   "cell_type": "code",
   "execution_count": null,
   "metadata": {},
   "outputs": [],
   "source": [
    "url = 'https://github.com/chadwickbureau/baseballdatabank/raw/master/core/Batting.csv'"
   ]
  },
  {
   "cell_type": "markdown",
   "metadata": {},
   "source": [
    "## Graficar utilizando Matplotlib"
   ]
  },
  {
   "cell_type": "code",
   "execution_count": null,
   "metadata": {},
   "outputs": [],
   "source": []
  }
 ],
 "metadata": {
  "kernelspec": {
   "display_name": "Python 3 (ipykernel)",
   "language": "python",
   "name": "python3"
  },
  "language_info": {
   "codemirror_mode": {
    "name": "ipython",
    "version": 3
   },
   "file_extension": ".py",
   "mimetype": "text/x-python",
   "name": "python",
   "nbconvert_exporter": "python",
   "pygments_lexer": "ipython3",
   "version": "3.9.7"
  }
 },
 "nbformat": 4,
 "nbformat_minor": 4
}
