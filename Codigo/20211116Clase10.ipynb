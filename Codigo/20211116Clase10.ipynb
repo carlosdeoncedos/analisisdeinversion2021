{
 "cells": [
  {
   "cell_type": "markdown",
   "id": "ec3f59b0-6d9b-459e-95c2-19b91506e5d0",
   "metadata": {
    "tags": []
   },
   "source": [
    "# Algoritmo basado en \"Bollinger Bands\n",
    "Ing. Carlos Crespo Elizondo, MSF<br>\n",
    "MF-013 Análisis de Inversión<br>\n",
    "Clase del 16 de noviembre 2021<br>\n",
    "<br>\n",
    "Maestría de Finanzas, Facultad de Economía<br>\n",
    "UANL<br>"
   ]
  },
  {
   "cell_type": "markdown",
   "id": "807fce3b-db44-49c5-8e6c-7561021e2bcc",
   "metadata": {},
   "source": [
    "## Sobre las Bandas de Bollinger"
   ]
  },
  {
   "cell_type": "markdown",
   "id": "f553f1e0-17f0-40a3-9caf-28c3254ad05c",
   "metadata": {},
   "source": [
    "La técnica fue desarrollada por John Bollinger.  Y consiste en colocar una banda superior y una ineferior alrededor de un promedio móvil.  Por lo general el promedio móvil de las Bandas de Bollinger, tiene una ventana de 20 días.  La distancia entre las bandas y el promedio móvil son dos desviaciones estándar o  $\\pm2 \\sigma$.  Al utilizar $\\pm2 \\sigma$ nos aseguramos que el 95% de los datos de los precios están entre las dos bandas.  Se concidera que el precio de la acción está sobrevaluado, cuando toca la banda $+2\\sigma$ (superior) y subvaluado cuando toca la banda $-2\\sigma$ (inferior)."
   ]
  },
  {
   "cell_type": "markdown",
   "id": "d16069f8-a81b-4eb3-bc8a-44c6784209f6",
   "metadata": {},
   "source": [
    "## Estrategia básica de las Bandas de Bollinger"
   ]
  },
  {
   "cell_type": "markdown",
   "id": "340ef37f-4dd7-4a72-8ad2-0456b8790bac",
   "metadata": {},
   "source": [
    "La estrategia más básica es comprar cuando el mercado está subvaluado y vender cuando está sobrevaluado.  En otras palabras, comprar cuando el precio de cierre toca la banda inferior $-2\\sigma$ y vender cuando toca la banda superior $+2\\sigma$."
   ]
  },
  {
   "cell_type": "markdown",
   "id": "5efa3588-d6a7-45fa-b3d8-9438b28b46e9",
   "metadata": {},
   "source": [
    "## Codificar estrategia básica de Bollinger Bands de AC en Python"
   ]
  },
  {
   "cell_type": "markdown",
   "id": "30ef0712-3193-4291-9656-66c4c22c956a",
   "metadata": {},
   "source": [
    "### Importar librerías"
   ]
  },
  {
   "cell_type": "code",
   "execution_count": null,
   "id": "46088263-44f8-4263-9509-04b3a0ac0502",
   "metadata": {},
   "outputs": [],
   "source": []
  },
  {
   "cell_type": "markdown",
   "id": "74a13e6b-f0f0-4829-b706-8f151022993a",
   "metadata": {},
   "source": [
    "### Recordar lista de emisoras"
   ]
  },
  {
   "cell_type": "markdown",
   "id": "cf62a682-3d73-41d2-ad36-1ee7543394da",
   "metadata": {},
   "source": [
    "<table>\n",
    "    <tr>\n",
    "      <th><center></center></th>\n",
    "      <th><center></center></th>\n",
    "      <th><center></center></th>\n",
    "      <th><center></center></th>\n",
    "  </tr>\n",
    "    \n",
    "  <tr>\n",
    "    <td style=\"text-align:center;\">ac</td>\n",
    "    <td style=\"text-align:center;\">alfaa</td>\n",
    "    <td style=\"text-align:center;\">alpeka</td>\n",
    "    <td style=\"text-align:center;\">alsea</td>\n",
    "  </tr>\n",
    "  \n",
    "  <tr>\n",
    "    <td style=\"text-align:center;\">amxl</td>\n",
    "    <td style=\"text-align:center;\">asurb</td>\n",
    "    <td style=\"text-align:center;\">bimboa</td>\n",
    "    <td style=\"text-align:center;\">bolsaa</td>\n",
    "  </tr>\n",
    "  \n",
    "  <tr>\n",
    "    <td style=\"text-align:center;\">cemexcpo</td>\n",
    "    <td style=\"text-align:center;\">elektra</td>\n",
    "    <td style=\"text-align:center;\">femsaubd</td>\n",
    "    <td style=\"text-align:center;\">gapb</td>\n",
    "  </tr>\n",
    "  \n",
    "  <tr>\n",
    "    <td style=\"text-align:center;\">gcarsoa1</td>\n",
    "    <td style=\"text-align:center;\">gcc</td>\n",
    "    <td style=\"text-align:center;\">gmexicob</td>\n",
    "    <td style=\"text-align:center;\">grumab</td>\n",
    "  </tr>\n",
    "  \n",
    "  <tr>\n",
    "    <td style=\"text-align:center;\">ienova</td>\n",
    "    <td style=\"text-align:center;\">kimbera</td>\n",
    "    <td style=\"text-align:center;\">kofubl</td>\n",
    "    <td style=\"text-align:center;\">labb</td>\n",
    "  </tr>\n",
    "  \n",
    "  <tr>\n",
    "    <td style=\"text-align:center;\">livepolc1</td>\n",
    "    <td style=\"text-align:center;\">megacpo</td>\n",
    "    <td style=\"text-align:center;\">omab</td>\n",
    "    <td style=\"text-align:center;\">orbia</td>\n",
    "  </tr>\n",
    "\n",
    "  <tr>\n",
    "    <td style=\"text-align:center;\">penoles</td>\n",
    "    <td style=\"text-align:center;\">pinfra</td>\n",
    "    <td style=\"text-align:center;\">tlevisacpo</td>\n",
    "    <td style=\"text-align:center;\">walmex</td>\n",
    "  </tr>\n",
    "\n",
    "</table>"
   ]
  },
  {
   "cell_type": "markdown",
   "id": "83175bc8-0629-4aea-b063-c47729e70d48",
   "metadata": {},
   "source": [
    "### Importar Datos AC"
   ]
  },
  {
   "cell_type": "code",
   "execution_count": null,
   "id": "86542d65-89f9-41fe-940b-dc846912a032",
   "metadata": {},
   "outputs": [],
   "source": []
  },
  {
   "cell_type": "markdown",
   "id": "6a08f8d7-eb52-4293-b6a9-e74ee4bc7058",
   "metadata": {},
   "source": [
    "### Filtrar a partir del 2016"
   ]
  },
  {
   "cell_type": "code",
   "execution_count": null,
   "id": "bd9d961a-1d35-42ab-b053-7da67f58122e",
   "metadata": {},
   "outputs": [],
   "source": []
  },
  {
   "cell_type": "markdown",
   "id": "a5e9d724-fe68-434b-8158-496bc3b86856",
   "metadata": {},
   "source": [
    "### Calcular el promedio móvil de 20 días"
   ]
  },
  {
   "cell_type": "code",
   "execution_count": null,
   "id": "e69229e3-ad71-4820-a3e7-8b2c83a7eb09",
   "metadata": {},
   "outputs": [],
   "source": []
  },
  {
   "cell_type": "markdown",
   "id": "ee7591de-2a08-4f44-9561-24655059e587",
   "metadata": {},
   "source": [
    "### Calcular $\\pm2 \\sigma$ del promedio móvil"
   ]
  },
  {
   "cell_type": "code",
   "execution_count": null,
   "id": "c85720d9-d85b-4da0-81ee-1c83b886c8d0",
   "metadata": {},
   "outputs": [],
   "source": []
  },
  {
   "cell_type": "markdown",
   "id": "04a71497-325f-4364-a13f-95424b2f436f",
   "metadata": {},
   "source": [
    "### Visualizar el precio de cierre, el PM20 días y las líneas de $\\pm2\\sigma$"
   ]
  },
  {
   "cell_type": "code",
   "execution_count": null,
   "id": "9d847f0b-dc7e-4926-8219-dbdf6f44a0de",
   "metadata": {},
   "outputs": [],
   "source": []
  },
  {
   "cell_type": "markdown",
   "id": "c8c5ccc8-d859-4462-b2f0-d23cef330661",
   "metadata": {},
   "source": [
    "### Calcular posición en el mercado"
   ]
  },
  {
   "cell_type": "markdown",
   "id": "e4f0580d-2d10-47a3-a743-1b78fcec5ecd",
   "metadata": {},
   "source": [
    "Pasos a seguir:\n",
    "1. Crear columna poblada de \"**_NaN_**\"\n",
    "1. Evaluar si el precio de cierre cruzo $+2\\sigma$, y en su caso generar una señal **SHORT**\n",
    "1. Evaluar si el precio de cierre cruzo $-2\\sigma$, y en su caso generar una señal **LONG**\n",
    "1. Cambiar todos los **NaN** a la señal inmediata anterior"
   ]
  },
  {
   "cell_type": "markdown",
   "id": "2e27c072-cfba-4d5c-a6d4-0d88805768f9",
   "metadata": {},
   "source": [
    "#### 1. Crear columna poblada de \"NaN\""
   ]
  },
  {
   "cell_type": "code",
   "execution_count": null,
   "id": "d8cb66a1-0bdc-44ad-8c01-37dbc5954c39",
   "metadata": {},
   "outputs": [],
   "source": []
  },
  {
   "cell_type": "markdown",
   "id": "730a9f6a-bd9f-402f-994c-355715364531",
   "metadata": {
    "tags": []
   },
   "source": [
    "#### 2. Evaluar si el precio de cierre cruzo $+2\\sigma$, y en su caso generar una señal **SHORT**"
   ]
  },
  {
   "cell_type": "code",
   "execution_count": null,
   "id": "62476652-27f9-4b70-b764-205280beab89",
   "metadata": {},
   "outputs": [],
   "source": []
  },
  {
   "cell_type": "markdown",
   "id": "27e43f20-9b66-44ad-ae04-3f26f2ff5707",
   "metadata": {},
   "source": [
    "#### 3. Evaluar si el precio de cierre cruzo $-2\\sigma$, y en su caso generar una señal **LONG**"
   ]
  },
  {
   "cell_type": "code",
   "execution_count": null,
   "id": "f4c07a89-aedd-4d01-b8f3-6d3dcebc4b6a",
   "metadata": {},
   "outputs": [],
   "source": []
  },
  {
   "cell_type": "markdown",
   "id": "9cc65949-28d0-4cef-857d-b2448c68f49e",
   "metadata": {},
   "source": [
    "#### 4. Cambiar todos los **NaN** a la señal inmediata anterior"
   ]
  },
  {
   "cell_type": "code",
   "execution_count": null,
   "id": "a2489679-d669-4e6c-94bd-557fd1fa95b4",
   "metadata": {},
   "outputs": [],
   "source": []
  },
  {
   "cell_type": "markdown",
   "id": "38c16cbe-ea79-4615-ac7a-7dad8d642cd8",
   "metadata": {},
   "source": [
    "### BackTesting"
   ]
  },
  {
   "cell_type": "code",
   "execution_count": null,
   "id": "1c7c682d-2ceb-4c76-a7d3-f2157736efae",
   "metadata": {},
   "outputs": [],
   "source": []
  }
 ],
 "metadata": {
  "kernelspec": {
   "display_name": "Python 3 (ipykernel)",
   "language": "python",
   "name": "python3"
  },
  "language_info": {
   "codemirror_mode": {
    "name": "ipython",
    "version": 3
   },
   "file_extension": ".py",
   "mimetype": "text/x-python",
   "name": "python",
   "nbconvert_exporter": "python",
   "pygments_lexer": "ipython3",
   "version": "3.9.7"
  }
 },
 "nbformat": 4,
 "nbformat_minor": 5
}
