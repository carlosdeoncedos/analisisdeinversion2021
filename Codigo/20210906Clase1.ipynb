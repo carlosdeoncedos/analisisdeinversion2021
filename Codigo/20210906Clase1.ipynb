{
 "cells": [
  {
   "cell_type": "markdown",
   "metadata": {},
   "source": [
    "# <font color='navygray'>MF013 Análisis de inversión:  Introducción a Python</font>\n",
    "Por Carlos Crespo Elizondo, MSF<br>\n",
    "2021-09-06"
   ]
  },
  {
   "cell_type": "markdown",
   "metadata": {},
   "source": [
    "## <font color='navygray'>Función `print`</font>"
   ]
  },
  {
   "cell_type": "code",
   "execution_count": null,
   "metadata": {},
   "outputs": [],
   "source": []
  },
  {
   "cell_type": "markdown",
   "metadata": {},
   "source": [
    "## <font color='navygray'>Operaciones matemáticas</font>\n"
   ]
  },
  {
   "cell_type": "markdown",
   "metadata": {},
   "source": [
    "### <font color='MediumBlue'>Operadores matemáticos básicos</font>\n",
    "<table>\n",
    "    <tr>\n",
    "        <th>Operación</th>\n",
    "        <th>Símbolo</th>\n",
    "    </tr>\n",
    "    <tr>\n",
    "        <td>Suma</td>\n",
    "        <td>+</td>\n",
    "    </tr>\n",
    "    <tr>\n",
    "        <td>Resta</td>\n",
    "        <td>-</td>\n",
    "    </tr>\n",
    "    <tr>\n",
    "        <td>Multiplicación</td>\n",
    "        <td>*</td>\n",
    "    </tr>\n",
    "    <tr>\n",
    "        <td>División</td>\n",
    "        <td>/</td>\n",
    "    </tr>\n",
    "    <tr>\n",
    "        <td>Exponente</td>\n",
    "        <td>**</td>\n",
    "    </tr>\n",
    "</table>\n",
    "    "
   ]
  },
  {
   "cell_type": "markdown",
   "metadata": {},
   "source": [
    "#### <font color='Blue'>Suma</font>"
   ]
  },
  {
   "cell_type": "code",
   "execution_count": null,
   "metadata": {},
   "outputs": [],
   "source": []
  },
  {
   "cell_type": "markdown",
   "metadata": {},
   "source": [
    "#### <font color='Blue'>Resta</font>"
   ]
  },
  {
   "cell_type": "code",
   "execution_count": null,
   "metadata": {},
   "outputs": [],
   "source": []
  },
  {
   "cell_type": "markdown",
   "metadata": {},
   "source": [
    "#### <font color='Blue'>Multiplicación</font>"
   ]
  },
  {
   "cell_type": "code",
   "execution_count": null,
   "metadata": {},
   "outputs": [],
   "source": []
  },
  {
   "cell_type": "markdown",
   "metadata": {},
   "source": [
    "#### <font color='Blue'>División</font>"
   ]
  },
  {
   "cell_type": "code",
   "execution_count": null,
   "metadata": {},
   "outputs": [],
   "source": []
  },
  {
   "cell_type": "markdown",
   "metadata": {},
   "source": [
    "#### <font color='Blue'>Elevar a un exponente</font>"
   ]
  },
  {
   "cell_type": "code",
   "execution_count": null,
   "metadata": {},
   "outputs": [],
   "source": []
  },
  {
   "cell_type": "markdown",
   "metadata": {},
   "source": [
    "#### <font color='Blue'>Raices</font>"
   ]
  },
  {
   "cell_type": "code",
   "execution_count": null,
   "metadata": {},
   "outputs": [],
   "source": []
  },
  {
   "cell_type": "markdown",
   "metadata": {},
   "source": [
    "## <font color='navygray'>Variables</font>"
   ]
  },
  {
   "cell_type": "code",
   "execution_count": null,
   "metadata": {},
   "outputs": [],
   "source": []
  },
  {
   "cell_type": "markdown",
   "metadata": {},
   "source": [
    "### <font color='MediumBlue'>Reglas para nombrar variables</font>"
   ]
  },
  {
   "cell_type": "markdown",
   "metadata": {},
   "source": [
    "El nombre de las variables:\n",
    "* _Solo pueden contener letras, números y guión bajo_.\n",
    "* _Pueden empezar con letra o guión bajo, pero nunca con un número_.\n",
    "* _No se permiten espacion.  Puedes usar guión bajo como separador de dos palabras_.\n",
    "* _Debe de ser corto pero descriptivo_.\n",
    "* _CASE SENSITIVE_\n",
    "* _Tener cuidado cuando al usar \"l\" o \"O\", se pueden confundir con \"1\" y \"0\"_.\n",
    "* _No usar nombres de funciones de Python, se borrará la utilidad de la función_.\n",
    "\n",
    "De acuerdo a \"_PEP 8 -- Style Guide for Python Code_\", el nombre de las variables debe:\n",
    "* _Las variables deberán de ser en minúsculas y las palabras separadas por guión bajo para facilitar su lectura_.\n",
    "\n",
    "Algunos estilos para nombrar variables:\n",
    "* nombre_variable\n",
    "* nombreVariable\n",
    "* NombreVariable"
   ]
  },
  {
   "cell_type": "markdown",
   "metadata": {},
   "source": [
    "### <font color='MediumBlue'>Tipos de variable</font>\n",
    "Python tiene varios tipos de datos.  En el curso solo usaremos cuatro de ellos:\n",
    "\n",
    "<table>\n",
    "    <tr>\n",
    "        <th>Nombre</th>\n",
    "        <th>Código</th>\n",
    "        <th>Descripción</th>\n",
    "        <th>Ejemplo</th>\n",
    "    </tr>\n",
    "    <tr>\n",
    "        <td>Interger</td>\n",
    "        <td>int</td>\n",
    "        <td>Números enteros</td>\n",
    "        <td>234</td>\n",
    "    </tr>\n",
    "    <tr>\n",
    "        <td>Float</td>\n",
    "        <td>float</td>\n",
    "        <td>Números con decimales</td>\n",
    "        <td>234.56</td>\n",
    "    </tr>\n",
    "    <tr>\n",
    "        <td>String</td>\n",
    "        <td>str</td>\n",
    "        <td>Texto ó interpretación de núm. como texto</td>\n",
    "        <td>'Hola', '234'</td>\n",
    "    </tr>\n",
    "    <tr>\n",
    "        <td>Boolean</td>\n",
    "        <td>bool</td>\n",
    "        <td>Verdadero o Falso</td>\n",
    "        <td>True, False</td>\n",
    "    </tr>\n",
    "</table>"
   ]
  },
  {
   "cell_type": "markdown",
   "metadata": {},
   "source": [
    "## <font color='navygray'>Strings</font>"
   ]
  },
  {
   "cell_type": "code",
   "execution_count": null,
   "metadata": {},
   "outputs": [],
   "source": []
  },
  {
   "cell_type": "markdown",
   "metadata": {},
   "source": [
    "### <font color='MediumBlue'>Cambiando mayúsculas y minúsculas en un string</font>"
   ]
  },
  {
   "cell_type": "code",
   "execution_count": null,
   "metadata": {},
   "outputs": [],
   "source": []
  },
  {
   "cell_type": "markdown",
   "metadata": {},
   "source": [
    "### <font color='MediumBlue'>Literales de texto</font>"
   ]
  },
  {
   "cell_type": "code",
   "execution_count": null,
   "metadata": {},
   "outputs": [],
   "source": []
  },
  {
   "cell_type": "markdown",
   "metadata": {},
   "source": [
    "### <font color='MediumBlue'>Multiplicar strings</font>"
   ]
  },
  {
   "cell_type": "code",
   "execution_count": null,
   "metadata": {},
   "outputs": [],
   "source": []
  },
  {
   "cell_type": "markdown",
   "metadata": {},
   "source": [
    "### <font color='MediumBlue'>Concatenar strings</font>"
   ]
  },
  {
   "cell_type": "code",
   "execution_count": null,
   "metadata": {},
   "outputs": [],
   "source": []
  },
  {
   "cell_type": "markdown",
   "metadata": {},
   "source": [
    "### <font color='MediumBlue'>Eliminar espacios en blanco</font>"
   ]
  },
  {
   "cell_type": "code",
   "execution_count": null,
   "metadata": {},
   "outputs": [],
   "source": []
  },
  {
   "cell_type": "markdown",
   "metadata": {},
   "source": [
    "### <font color='MediumBlue'>Concatenar números y string</font>"
   ]
  },
  {
   "cell_type": "code",
   "execution_count": null,
   "metadata": {},
   "outputs": [],
   "source": []
  },
  {
   "cell_type": "markdown",
   "metadata": {},
   "source": [
    "### <font color='MediumBlue'>f-strings o \"formated string literals\"</font>"
   ]
  },
  {
   "cell_type": "markdown",
   "metadata": {},
   "source": [
    "#### <font color='Blue'>Operador %</"
   ]
  },
  {
   "cell_type": "code",
   "execution_count": null,
   "metadata": {},
   "outputs": [],
   "source": []
  },
  {
   "cell_type": "markdown",
   "metadata": {},
   "source": [
    "#### format( )"
   ]
  },
  {
   "cell_type": "code",
   "execution_count": null,
   "metadata": {},
   "outputs": [],
   "source": []
  },
  {
   "cell_type": "markdown",
   "metadata": {},
   "source": [
    "#### f-string"
   ]
  },
  {
   "cell_type": "code",
   "execution_count": null,
   "metadata": {},
   "outputs": [],
   "source": []
  },
  {
   "cell_type": "markdown",
   "metadata": {},
   "source": [
    "## <font color='navygray'>Función `input`</font>"
   ]
  },
  {
   "cell_type": "code",
   "execution_count": null,
   "metadata": {},
   "outputs": [],
   "source": []
  },
  {
   "cell_type": "markdown",
   "metadata": {},
   "source": [
    "## <font color='navygray'>Nuestro \"primer\" programa de Python (por lo menos en la clase)</font>\n",
    "El programa consiste en preguntarle al usuario:\n",
    "* La cantidad de dinero que va a invertir el cliente por un año.\n",
    "* La tasa de interés anual simple pactada.\n",
    "La tasa de interés debera de ser ingresada en decimales no en porcentaje.<br><br>\n",
    "El programa debera de calcular:\n",
    "* El interés generado durante el año\n",
    "* El saldo final del cliente\n",
    "\n",
    "Al final el programa deberá de desplegar:\n",
    "1. El monto del interés generado durante el periodo\n",
    "1. El saldo final de la cuenta"
   ]
  },
  {
   "cell_type": "code",
   "execution_count": null,
   "metadata": {},
   "outputs": [],
   "source": []
  },
  {
   "cell_type": "markdown",
   "metadata": {},
   "source": [
    "# <font color='navygray'>TODOS COMETEMOS ERRORES</font>\n",
    "Todos los programadores cometemos errores.  Los buenos programadores crean errores, pero también saben como responder a los errores de manera eficiente."
   ]
  },
  {
   "cell_type": "code",
   "execution_count": null,
   "metadata": {},
   "outputs": [],
   "source": []
  }
 ],
 "metadata": {
  "kernelspec": {
   "display_name": "Python 3",
   "language": "python",
   "name": "python3"
  },
  "language_info": {
   "codemirror_mode": {
    "name": "ipython",
    "version": 3
   },
   "file_extension": ".py",
   "mimetype": "text/x-python",
   "name": "python",
   "nbconvert_exporter": "python",
   "pygments_lexer": "ipython3",
   "version": "3.9.1"
  },
  "varInspector": {
   "cols": {
    "lenName": 16,
    "lenType": 16,
    "lenVar": 40
   },
   "kernels_config": {
    "python": {
     "delete_cmd_postfix": "",
     "delete_cmd_prefix": "del ",
     "library": "var_list.py",
     "varRefreshCmd": "print(var_dic_list())"
    },
    "r": {
     "delete_cmd_postfix": ") ",
     "delete_cmd_prefix": "rm(",
     "library": "var_list.r",
     "varRefreshCmd": "cat(var_dic_list()) "
    }
   },
   "types_to_exclude": [
    "module",
    "function",
    "builtin_function_or_method",
    "instance",
    "_Feature"
   ],
   "window_display": false
  }
 },
 "nbformat": 4,
 "nbformat_minor": 4
}
