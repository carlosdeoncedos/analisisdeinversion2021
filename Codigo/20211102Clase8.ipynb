{
 "cells": [
  {
   "cell_type": "markdown",
   "id": "02a2c243-8d11-4c7f-8365-82884d97dba7",
   "metadata": {},
   "source": [
    "# <font color='navy'>Introducción a Algotrading</font>\n",
    "<font color='blue'>Ing. Carlos Crespo Elizondo, MSF</font><br>\n",
    "MF-013 Análisis de Inversión<br>\n",
    "Clase del 26 de octubre 2021<br>\n",
    "\n",
    "Maestría de Finanzas, Facultad de Economía<br>\n",
    "UANL<br>"
   ]
  },
  {
   "cell_type": "markdown",
   "id": "2035c283-ed17-4311-8ccb-183eb670c28f",
   "metadata": {},
   "source": [
    "## Trabajando con datos financieros"
   ]
  },
  {
   "cell_type": "markdown",
   "id": "957d85c0-e0ac-4fae-b885-328405e7dd84",
   "metadata": {},
   "source": [
    "> _\"Claramente los datos le ganan a los algortimos.  Sin datos exahustivos tiendes a obtener predicciones no-exahustivas.\"_  Rob Thomas (Gerente General la división Analytics Business de IBM)."
   ]
  },
  {
   "cell_type": "markdown",
   "id": "bcf1d28e-3eae-460a-9196-89558fdaa290",
   "metadata": {},
   "source": [
    "Tipos de información financiera (ejemplos).\n",
    "<table>\n",
    "    <th></th>\n",
    "    <th>Datos Estructurados</th>\n",
    "    <th>Datos No Estructurados</th>\n",
    "    <tr>\n",
    "        <td>Datos históricos</td>\n",
    "        <td>Precios de cierre</td>\n",
    "        <td>Noticias financieras</td>\n",
    "    </tr>\n",
    "    <tr>\n",
    "        <td>Datos en tiempo real</td>\n",
    "        <td>Precios bid/ask de las criptos</td>\n",
    "        <td>Un tweet de Ellon Musk</td>\n",
    "    "
   ]
  },
  {
   "cell_type": "markdown",
   "id": "82572c07-b079-4712-abc4-3a1c7e1b1475",
   "metadata": {},
   "source": [
    "## Tipos de archivos"
   ]
  },
  {
   "cell_type": "markdown",
   "id": "8aad95ca-75fc-41de-8f71-0cc62ba7f129",
   "metadata": {},
   "source": [
    "Hay muchos formatos de datos que provienen de fuentes externas.  Durante el resto del curso trabajaremos con archivos CSV y JSON's."
   ]
  },
  {
   "cell_type": "markdown",
   "id": "fba6b516-b732-4e41-8e51-9690697ad080",
   "metadata": {},
   "source": [
    "### Archivos CSV"
   ]
  },
  {
   "cell_type": "markdown",
   "id": "9a6e0251-9e31-4b74-b26a-d2be7e009797",
   "metadata": {},
   "source": [
    "Son archivos de texto simple, separados por comas.  CSV es la abreviación de \"Comma Separated Values\".<br><br>\n",
    "En la mayoría de los archivos CSV, la primer fila representa los encabezados de las columnas.  Todas las filas posteriores, representan entradas de datos.  En otros casos, las primeras filas representan espcificaciones del archivo en cuestión. \n",
    "\n",
    "Por lo general es una descarga manual del usuario."
   ]
  },
  {
   "cell_type": "markdown",
   "id": "14f56797-3820-49c9-be9e-da70503cf7f3",
   "metadata": {},
   "source": [
    "### Archivos JSON"
   ]
  },
  {
   "cell_type": "markdown",
   "id": "b403e490-81f7-4ce2-b4ca-6c70b393a62c",
   "metadata": {},
   "source": [
    "Son archivos que guarda estructura de datos en formato JSON (JavaScript Object Notation).  Es un formato utilizado para transmitir datos entre una aplicación y un servidor."
   ]
  },
  {
   "cell_type": "markdown",
   "id": "597aa5e0-7940-4650-a126-56ef7a22fbf9",
   "metadata": {
    "tags": []
   },
   "source": [
    "## Archivos CSV y Python"
   ]
  },
  {
   "cell_type": "markdown",
   "id": "10e9d1e7-02f0-43e9-ba89-af31d3d72afe",
   "metadata": {},
   "source": [
    "Python tiene su propia librería para leer archivos CSV.  La librería se llama `csv`.  Una limitante es que no puedes cargar directamente un archivo de internet como lo hicmos con la función de Numpy `loadtxt( )`.  Para poder obtener datos de internet se ocuparía otra librería como `requests` o `urlib`, haciendo la obtención de datos de internet más complicada de lo que es.\n",
    "\n",
    "Por lo anterior solo utilizaremos pandas para leer archivos csv."
   ]
  },
  {
   "cell_type": "markdown",
   "id": "8d2d89c1-6cf6-4cae-a567-10c87453f503",
   "metadata": {
    "tags": []
   },
   "source": [
    "## Importar precios de WALMEX"
   ]
  },
  {
   "cell_type": "markdown",
   "id": "026f22a0-22e3-41ee-994c-aca00ae83884",
   "metadata": {},
   "source": [
    "Pasos:\n",
    "1. Importar datos de internet, guardarlos en un DataFrame de pandas y gurdarlo como \"__*walmex*__\"\n",
    "1. Formato del DataFrame:\n",
    "    * Index: Columna de fechas\n",
    "    * Fecha más antigua:  Index 0\n",
    "    * Fecha más reciente:  Index -1\n",
    "    * Nombre y órden de las columnas: \"Apertura\", \"Maximo\", \"Minimo\", \"Cierre\"$^+$\n",
    "1. Crear una columna del DataFrame con los Retornos logarítmicos de los precios de cierre diarios\n",
    "1. Realizar las siguientes gráficas:\n",
    "    * Precios de cierre\n",
    "    * Retornos diarios\n",
    "    * Histograma de los retornos\n",
    "<br><br>\n",
    "\n",
    "__**NOTAS:__<br>\n",
    "$+$ No te recomiendo utilizar acentos al momento de definir el nombre de variables, columnas, df, etc."
   ]
  },
  {
   "cell_type": "markdown",
   "id": "67b28c78-e7f9-4703-891a-78ae9f86252e",
   "metadata": {},
   "source": [
    "### Lista de emisoras"
   ]
  },
  {
   "cell_type": "markdown",
   "id": "f5108d41-7222-4d4e-a3fa-75e3cb221b0e",
   "metadata": {},
   "source": [
    "<table>\n",
    "    <tr>\n",
    "      <th><center></center></th>\n",
    "      <th><center></center></th>\n",
    "      <th><center></center></th>\n",
    "      <th><center></center></th>\n",
    "  </tr>\n",
    "    \n",
    "  <tr>\n",
    "    <td style=\"text-align:center;\">ac</td>\n",
    "    <td style=\"text-align:center;\">alfaa</td>\n",
    "    <td style=\"text-align:center;\">alpeka</td>\n",
    "    <td style=\"text-align:center;\">alsea</td>\n",
    "  </tr>\n",
    "  \n",
    "  <tr>\n",
    "    <td style=\"text-align:center;\">amxl</td>\n",
    "    <td style=\"text-align:center;\">asurb</td>\n",
    "    <td style=\"text-align:center;\">bimboa</td>\n",
    "    <td style=\"text-align:center;\">bolsaa</td>\n",
    "  </tr>\n",
    "  \n",
    "  <tr>\n",
    "    <td style=\"text-align:center;\">cemexcpo</td>\n",
    "    <td style=\"text-align:center;\">elektra</td>\n",
    "    <td style=\"text-align:center;\">femsaubd</td>\n",
    "    <td style=\"text-align:center;\">gapb</td>\n",
    "  </tr>\n",
    "  \n",
    "  <tr>\n",
    "    <td style=\"text-align:center;\">gcarsoa1</td>\n",
    "    <td style=\"text-align:center;\">gcc</td>\n",
    "    <td style=\"text-align:center;\">gmexicob</td>\n",
    "    <td style=\"text-align:center;\">grumab</td>\n",
    "  </tr>\n",
    "  \n",
    "  <tr>\n",
    "    <td style=\"text-align:center;\">ienova</td>\n",
    "    <td style=\"text-align:center;\">kimbera</td>\n",
    "    <td style=\"text-align:center;\">kofubl</td>\n",
    "    <td style=\"text-align:center;\">labb</td>\n",
    "  </tr>\n",
    "  \n",
    "  <tr>\n",
    "    <td style=\"text-align:center;\">livepolc1</td>\n",
    "    <td style=\"text-align:center;\">megacpo</td>\n",
    "    <td style=\"text-align:center;\">omab</td>\n",
    "    <td style=\"text-align:center;\">orbia</td>\n",
    "  </tr>\n",
    "\n",
    "  <tr>\n",
    "    <td style=\"text-align:center;\">penoles</td>\n",
    "    <td style=\"text-align:center;\">pinfra</td>\n",
    "    <td style=\"text-align:center;\">tlevisacpo</td>\n",
    "    <td style=\"text-align:center;\">walmex</td>\n",
    "  </tr>\n",
    "\n",
    "</table>"
   ]
  },
  {
   "cell_type": "markdown",
   "id": "a22a0f3e-2953-4f95-bca7-518a9b3cf459",
   "metadata": {},
   "source": [
    "#### Obtener datos de más acciones"
   ]
  },
  {
   "cell_type": "markdown",
   "id": "a4ae16a9-a6d2-42cb-83e9-5f7f0859c2d1",
   "metadata": {},
   "source": [
    "De la liga cambiar \"walmex\" por la acción de interés, por ejemplo \"ac\":<br>\n",
    "http://bit.ly/oncedos-walmex ---> http://bit.ly/oncedos-ac"
   ]
  },
  {
   "cell_type": "markdown",
   "id": "9d004f89-510b-4470-86f0-5c58f757e9e6",
   "metadata": {},
   "source": [
    "## Función `read_csv( )` de pandas"
   ]
  },
  {
   "cell_type": "markdown",
   "id": "95413344-3da0-4e58-924d-63c6b84b8d49",
   "metadata": {},
   "source": [
    "`read_csv( )` nos permite controlar varios parámetros y termina siendo un DataFrame.  La clase `DataFrame` tiene varios métodos que tienen muchos usos en el campo de las finanzas. "
   ]
  },
  {
   "cell_type": "markdown",
   "id": "6e1c66c2-bf93-47a8-9049-fc87fa8ac8df",
   "metadata": {},
   "source": [
    "https://pandas.pydata.org/docs/reference/api/pandas.read_csv.html"
   ]
  },
  {
   "cell_type": "code",
   "execution_count": null,
   "id": "8d3d31a8-6d7a-4fb5-9eb3-c53d82db37e5",
   "metadata": {},
   "outputs": [],
   "source": []
  },
  {
   "cell_type": "markdown",
   "id": "38b51bc3-3a6d-43a7-aeba-9a169c961c30",
   "metadata": {
    "tags": []
   },
   "source": [
    "### 1. Importar datos de Walmex"
   ]
  },
  {
   "cell_type": "code",
   "execution_count": null,
   "id": "f3c44a96-d9ab-4e67-9e6d-349d346c71e8",
   "metadata": {},
   "outputs": [],
   "source": []
  },
  {
   "cell_type": "markdown",
   "id": "c4be7b6c-c9a5-4237-a3ea-6867dc7bc0e8",
   "metadata": {
    "tags": []
   },
   "source": [
    "#### Importar datos sin las primeras 6 líneas"
   ]
  },
  {
   "cell_type": "code",
   "execution_count": null,
   "id": "4a306854-244b-4a44-9bc7-a3e9c0ca0ea4",
   "metadata": {},
   "outputs": [],
   "source": []
  },
  {
   "cell_type": "markdown",
   "id": "58e34c1a-ae3b-475c-ba74-b5f4ed06ef6b",
   "metadata": {},
   "source": [
    "### 2. Formato del DataFrame"
   ]
  },
  {
   "cell_type": "markdown",
   "id": "010eb997-7cf5-4c96-bef2-3cc9d4d148da",
   "metadata": {
    "tags": []
   },
   "source": [
    "#### 2.1 Index: Columna de fechas"
   ]
  },
  {
   "cell_type": "markdown",
   "id": "025117cb-9409-416f-875e-7dec45c46ac9",
   "metadata": {},
   "source": [
    "Dos opciones para cambiar la columna \"*__Date__*\" al index:\n",
    "1. Cambiar la columan \"*__Date__*\" a index de manera manual.\n",
    "2. Importar los datos espcificando que la columna \"_**Date**_\" es el index."
   ]
  },
  {
   "cell_type": "markdown",
   "id": "f928fdb5-dc03-4743-a921-e79d08543669",
   "metadata": {},
   "source": [
    "##### Una vez ya importado el `DataFrame`"
   ]
  },
  {
   "cell_type": "code",
   "execution_count": null,
   "id": "8b917c2c-f3ed-4172-b954-47929f10579f",
   "metadata": {},
   "outputs": [],
   "source": []
  },
  {
   "cell_type": "markdown",
   "id": "efb8f378-1474-4fd1-9519-ed02c03eb7c1",
   "metadata": {
    "tags": []
   },
   "source": [
    "##### Importar datos especificando que la columan \"Date\" será el index"
   ]
  },
  {
   "cell_type": "code",
   "execution_count": null,
   "id": "9f51c86c-1f9f-49d5-a07f-286bc6275989",
   "metadata": {},
   "outputs": [],
   "source": []
  },
  {
   "cell_type": "markdown",
   "id": "da172636-c3a4-4565-b3f8-9604e24ce601",
   "metadata": {
    "tags": []
   },
   "source": [
    "### 2.2 / 2.3 Orden de fechas"
   ]
  },
  {
   "cell_type": "code",
   "execution_count": null,
   "id": "c56f6674-6d9a-46f7-9e37-92613b31d15c",
   "metadata": {},
   "outputs": [],
   "source": []
  },
  {
   "cell_type": "markdown",
   "id": "0ce489cb-d24c-47fc-a087-babba249f742",
   "metadata": {},
   "source": [
    "#### Método `sort_index( )`"
   ]
  },
  {
   "cell_type": "code",
   "execution_count": null,
   "id": "030c2d00-1c49-404b-8e56-d3413e507a6c",
   "metadata": {},
   "outputs": [],
   "source": []
  },
  {
   "cell_type": "markdown",
   "id": "8062d4a7-05f9-4105-8fd9-5102f8f65a18",
   "metadata": {},
   "source": [
    "#### Atributo `parse_dates`"
   ]
  },
  {
   "cell_type": "code",
   "execution_count": null,
   "id": "08af37e9-1e81-4aeb-9e86-f04d95258a1f",
   "metadata": {},
   "outputs": [],
   "source": []
  },
  {
   "cell_type": "markdown",
   "id": "20734660-633a-4fb8-9b05-c46ac226770a",
   "metadata": {},
   "source": [
    "### 2.4 Nombre y órden de las columnas: \"Apertura\", \"Maximo\", \"Minimo\", \"Cierre\" "
   ]
  },
  {
   "cell_type": "markdown",
   "id": "514cc752-c145-43e2-b2b6-20df2a40376b",
   "metadata": {},
   "source": [
    "Cambios finales al df:\n",
    "1. Borrar las columnas que no utilizaremos\n",
    "1. Renombrar las columnas a español\n",
    "1. Ordenar las columnas en el formato O-H-L-C"
   ]
  },
  {
   "cell_type": "markdown",
   "id": "5cd3907c-5de7-47d7-85b0-faaa912a8c03",
   "metadata": {
    "tags": []
   },
   "source": [
    "#### 2.4.1 Borrar columnas"
   ]
  },
  {
   "cell_type": "code",
   "execution_count": null,
   "id": "0ff4aced-7d32-41cb-9f85-b8c25601c1c1",
   "metadata": {},
   "outputs": [],
   "source": []
  },
  {
   "cell_type": "markdown",
   "id": "9fb06c96-efd9-481b-8afa-95ebc1379e0b",
   "metadata": {},
   "source": [
    "#### 2.4.2 Renombrar columnas"
   ]
  },
  {
   "cell_type": "code",
   "execution_count": null,
   "id": "43010dad-414b-4dae-91e0-da2c3c045088",
   "metadata": {},
   "outputs": [],
   "source": []
  },
  {
   "cell_type": "markdown",
   "id": "8dd4b80b-134b-49f2-90d4-d51396ece461",
   "metadata": {
    "tags": []
   },
   "source": [
    "#### 2.4.3 Reordenar columnas"
   ]
  },
  {
   "cell_type": "code",
   "execution_count": null,
   "id": "a34bffb1-189b-43ea-94ee-dd1e1c9b6866",
   "metadata": {},
   "outputs": [],
   "source": []
  },
  {
   "cell_type": "markdown",
   "id": "fb6bff1e-43ce-49c3-82c0-61e8328b06c7",
   "metadata": {},
   "source": [
    "### Volver a hacer todo en una sola celda"
   ]
  },
  {
   "cell_type": "code",
   "execution_count": null,
   "id": "7b61fd46-aeac-4fef-a535-f71e946a190f",
   "metadata": {},
   "outputs": [],
   "source": []
  },
  {
   "cell_type": "markdown",
   "id": "7bbfda7d-f2a6-4461-98e2-5abed03e6a72",
   "metadata": {
    "tags": []
   },
   "source": [
    "### 2.3 Crear columna de retornos diarios\n",
    "$$RetLogaritmico = ln(Precio_n) - ln(Precio_{n-1})$$<br>\n",
    "$$ =ln\\frac{Precio_n}{Precio_{n-1}}$$"
   ]
  },
  {
   "cell_type": "code",
   "execution_count": null,
   "id": "7332ed3f-d27c-41f0-b136-75278f2c5842",
   "metadata": {},
   "outputs": [],
   "source": []
  },
  {
   "cell_type": "markdown",
   "id": "0a075250-341f-4e05-82a9-2ba24de6db27",
   "metadata": {},
   "source": [
    "#### Retornos en la escala logarítmica"
   ]
  },
  {
   "cell_type": "code",
   "execution_count": null,
   "id": "ca0504ac-3c39-48ea-b461-1223cbfed985",
   "metadata": {},
   "outputs": [],
   "source": []
  },
  {
   "cell_type": "markdown",
   "id": "43dadb9c-2004-4519-b3e2-60610c1b5cb3",
   "metadata": {},
   "source": [
    "#### Retornos en la escala números reales"
   ]
  },
  {
   "cell_type": "code",
   "execution_count": null,
   "id": "2be169fd-accf-4826-a978-92aeb559dc1d",
   "metadata": {},
   "outputs": [],
   "source": []
  },
  {
   "cell_type": "markdown",
   "id": "0752f4f7-d011-4663-8bd3-2c83694604f7",
   "metadata": {},
   "source": [
    "### 2.4 Graficar"
   ]
  },
  {
   "cell_type": "markdown",
   "id": "f30c9190-7a9c-467a-8a2e-d986aeffddc6",
   "metadata": {},
   "source": [
    "#### 2.4.1 Precio de cierre"
   ]
  },
  {
   "cell_type": "code",
   "execution_count": null,
   "id": "e813fe94-6f42-482a-b74f-6e0a2ea71980",
   "metadata": {},
   "outputs": [],
   "source": []
  },
  {
   "cell_type": "markdown",
   "id": "b76dbdce-7340-494a-b8b8-386f95bc6686",
   "metadata": {},
   "source": [
    "#### 2.4.2 Retornos"
   ]
  },
  {
   "cell_type": "code",
   "execution_count": null,
   "id": "7ebf8dcf-4ada-46fb-bb5f-a8576d213421",
   "metadata": {},
   "outputs": [],
   "source": []
  },
  {
   "cell_type": "markdown",
   "id": "bd765b78-8a5b-4733-9fd7-123f0c8d1bd5",
   "metadata": {},
   "source": [
    "#### 2.4.3 Histograma"
   ]
  },
  {
   "cell_type": "code",
   "execution_count": null,
   "id": "8834606f-b075-46d1-8e50-e50a83ddc7eb",
   "metadata": {},
   "outputs": [],
   "source": []
  },
  {
   "cell_type": "markdown",
   "id": "8767eb9f-329d-4395-8d2c-3b6e1345856a",
   "metadata": {},
   "source": [
    "## Crear funciones"
   ]
  },
  {
   "cell_type": "markdown",
   "id": "55f0c652-c288-4389-a531-ab8e0b1e380c",
   "metadata": {},
   "source": [
    "Las funciones es un bloque de código diseñado para hacer un trabajo específico.  "
   ]
  },
  {
   "cell_type": "code",
   "execution_count": null,
   "id": "8634a6f5-e4ab-4287-92cb-dc9f78babd3c",
   "metadata": {},
   "outputs": [],
   "source": []
  },
  {
   "cell_type": "markdown",
   "id": "8bebbce6-2b1f-416c-928e-5222b47b6f8f",
   "metadata": {},
   "source": [
    "Las funciones pueden:\n",
    "* Recibir valores\n",
    "* Tener valores predeterminados *por defalut* para el caso en que no se definan valores\n",
    "* NO RECIBIR VALORES!\n",
    "* Regresar un resultado\n",
    "* No regresar nada"
   ]
  },
  {
   "cell_type": "markdown",
   "id": "c5fbc4d4-c0d5-48a1-8436-6baa9c72e4e8",
   "metadata": {
    "tags": []
   },
   "source": [
    "### Función para importar datos archivos de Bloomberg"
   ]
  },
  {
   "cell_type": "code",
   "execution_count": null,
   "id": "1e26db67-c15a-4fa8-aa03-19c0bece9a1e",
   "metadata": {},
   "outputs": [],
   "source": []
  }
 ],
 "metadata": {
  "kernelspec": {
   "display_name": "Python 3 (ipykernel)",
   "language": "python",
   "name": "python3"
  },
  "language_info": {
   "codemirror_mode": {
    "name": "ipython",
    "version": 3
   },
   "file_extension": ".py",
   "mimetype": "text/x-python",
   "name": "python",
   "nbconvert_exporter": "python",
   "pygments_lexer": "ipython3",
   "version": "3.9.7"
  }
 },
 "nbformat": 4,
 "nbformat_minor": 5
}
