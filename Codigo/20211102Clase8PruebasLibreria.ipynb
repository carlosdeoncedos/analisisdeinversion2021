{
 "cells": [
  {
   "cell_type": "code",
   "execution_count": 1,
   "id": "3900b786",
   "metadata": {},
   "outputs": [],
   "source": [
    "import herramientas_financieras as mf"
   ]
  },
  {
   "cell_type": "markdown",
   "id": "ca70e03c",
   "metadata": {},
   "source": [
    "## Cargar datos de walmex"
   ]
  },
  {
   "cell_type": "code",
   "execution_count": 2,
   "id": "8040dc9b",
   "metadata": {},
   "outputs": [],
   "source": [
    "walmex = mf.importar_bloomberg('walmex')"
   ]
  },
  {
   "cell_type": "code",
   "execution_count": 3,
   "id": "d46ab5f2",
   "metadata": {
    "scrolled": true
   },
   "outputs": [
    {
     "data": {
      "text/html": [
       "<div>\n",
       "<style scoped>\n",
       "    .dataframe tbody tr th:only-of-type {\n",
       "        vertical-align: middle;\n",
       "    }\n",
       "\n",
       "    .dataframe tbody tr th {\n",
       "        vertical-align: top;\n",
       "    }\n",
       "\n",
       "    .dataframe thead th {\n",
       "        text-align: right;\n",
       "    }\n",
       "</style>\n",
       "<table border=\"1\" class=\"dataframe\">\n",
       "  <thead>\n",
       "    <tr style=\"text-align: right;\">\n",
       "      <th></th>\n",
       "      <th>Apertura</th>\n",
       "      <th>Maximo</th>\n",
       "      <th>Minimo</th>\n",
       "      <th>Cierre</th>\n",
       "    </tr>\n",
       "    <tr>\n",
       "      <th>Date</th>\n",
       "      <th></th>\n",
       "      <th></th>\n",
       "      <th></th>\n",
       "      <th></th>\n",
       "    </tr>\n",
       "  </thead>\n",
       "  <tbody>\n",
       "    <tr>\n",
       "      <th>2019-09-30</th>\n",
       "      <td>58.41</td>\n",
       "      <td>58.99</td>\n",
       "      <td>58.34</td>\n",
       "      <td>58.48</td>\n",
       "    </tr>\n",
       "    <tr>\n",
       "      <th>2019-10-01</th>\n",
       "      <td>58.49</td>\n",
       "      <td>59.14</td>\n",
       "      <td>58.25</td>\n",
       "      <td>58.48</td>\n",
       "    </tr>\n",
       "    <tr>\n",
       "      <th>2019-10-02</th>\n",
       "      <td>58.18</td>\n",
       "      <td>58.19</td>\n",
       "      <td>57.10</td>\n",
       "      <td>57.40</td>\n",
       "    </tr>\n",
       "    <tr>\n",
       "      <th>2019-10-03</th>\n",
       "      <td>57.40</td>\n",
       "      <td>58.31</td>\n",
       "      <td>57.11</td>\n",
       "      <td>58.19</td>\n",
       "    </tr>\n",
       "    <tr>\n",
       "      <th>2019-10-04</th>\n",
       "      <td>58.08</td>\n",
       "      <td>59.05</td>\n",
       "      <td>57.96</td>\n",
       "      <td>58.92</td>\n",
       "    </tr>\n",
       "  </tbody>\n",
       "</table>\n",
       "</div>"
      ],
      "text/plain": [
       "            Apertura  Maximo  Minimo  Cierre\n",
       "Date                                        \n",
       "2019-09-30     58.41   58.99   58.34   58.48\n",
       "2019-10-01     58.49   59.14   58.25   58.48\n",
       "2019-10-02     58.18   58.19   57.10   57.40\n",
       "2019-10-03     57.40   58.31   57.11   58.19\n",
       "2019-10-04     58.08   59.05   57.96   58.92"
      ]
     },
     "execution_count": 3,
     "metadata": {},
     "output_type": "execute_result"
    }
   ],
   "source": [
    "walmex.tail()"
   ]
  },
  {
   "cell_type": "markdown",
   "id": "da948cab",
   "metadata": {},
   "source": [
    "## Cargar datos de ArcaContal"
   ]
  },
  {
   "cell_type": "code",
   "execution_count": 4,
   "id": "4145c2a8",
   "metadata": {},
   "outputs": [],
   "source": [
    "ac = mf.importar_bloomberg('ac')"
   ]
  },
  {
   "cell_type": "code",
   "execution_count": 5,
   "id": "aae485b8",
   "metadata": {
    "scrolled": false
   },
   "outputs": [
    {
     "data": {
      "text/html": [
       "<div>\n",
       "<style scoped>\n",
       "    .dataframe tbody tr th:only-of-type {\n",
       "        vertical-align: middle;\n",
       "    }\n",
       "\n",
       "    .dataframe tbody tr th {\n",
       "        vertical-align: top;\n",
       "    }\n",
       "\n",
       "    .dataframe thead th {\n",
       "        text-align: right;\n",
       "    }\n",
       "</style>\n",
       "<table border=\"1\" class=\"dataframe\">\n",
       "  <thead>\n",
       "    <tr style=\"text-align: right;\">\n",
       "      <th></th>\n",
       "      <th>Apertura</th>\n",
       "      <th>Maximo</th>\n",
       "      <th>Minimo</th>\n",
       "      <th>Cierre</th>\n",
       "    </tr>\n",
       "    <tr>\n",
       "      <th>Date</th>\n",
       "      <th></th>\n",
       "      <th></th>\n",
       "      <th></th>\n",
       "      <th></th>\n",
       "    </tr>\n",
       "  </thead>\n",
       "  <tbody>\n",
       "    <tr>\n",
       "      <th>2019-09-30</th>\n",
       "      <td>108.00</td>\n",
       "      <td>108.78</td>\n",
       "      <td>106.20</td>\n",
       "      <td>106.67</td>\n",
       "    </tr>\n",
       "    <tr>\n",
       "      <th>2019-10-01</th>\n",
       "      <td>106.52</td>\n",
       "      <td>108.79</td>\n",
       "      <td>106.20</td>\n",
       "      <td>108.31</td>\n",
       "    </tr>\n",
       "    <tr>\n",
       "      <th>2019-10-02</th>\n",
       "      <td>107.69</td>\n",
       "      <td>108.44</td>\n",
       "      <td>107.01</td>\n",
       "      <td>108.08</td>\n",
       "    </tr>\n",
       "    <tr>\n",
       "      <th>2019-10-03</th>\n",
       "      <td>107.79</td>\n",
       "      <td>108.14</td>\n",
       "      <td>106.50</td>\n",
       "      <td>107.36</td>\n",
       "    </tr>\n",
       "    <tr>\n",
       "      <th>2019-10-04</th>\n",
       "      <td>108.24</td>\n",
       "      <td>109.66</td>\n",
       "      <td>107.50</td>\n",
       "      <td>109.42</td>\n",
       "    </tr>\n",
       "  </tbody>\n",
       "</table>\n",
       "</div>"
      ],
      "text/plain": [
       "            Apertura  Maximo  Minimo  Cierre\n",
       "Date                                        \n",
       "2019-09-30    108.00  108.78  106.20  106.67\n",
       "2019-10-01    106.52  108.79  106.20  108.31\n",
       "2019-10-02    107.69  108.44  107.01  108.08\n",
       "2019-10-03    107.79  108.14  106.50  107.36\n",
       "2019-10-04    108.24  109.66  107.50  109.42"
      ]
     },
     "execution_count": 5,
     "metadata": {},
     "output_type": "execute_result"
    }
   ],
   "source": [
    "ac.tail()"
   ]
  },
  {
   "cell_type": "markdown",
   "id": "6e3546e9",
   "metadata": {},
   "source": [
    "## Sumar utilizando funcion_sumar"
   ]
  },
  {
   "cell_type": "code",
   "execution_count": 6,
   "id": "227f5cb3",
   "metadata": {},
   "outputs": [
    {
     "name": "stdout",
     "output_type": "stream",
     "text": [
      "30\n"
     ]
    }
   ],
   "source": [
    "suma = mf.funcion_sumar(10,20)"
   ]
  },
  {
   "cell_type": "code",
   "execution_count": 7,
   "id": "8870ad05",
   "metadata": {},
   "outputs": [
    {
     "data": {
      "text/plain": [
       "30"
      ]
     },
     "execution_count": 7,
     "metadata": {},
     "output_type": "execute_result"
    }
   ],
   "source": [
    "suma"
   ]
  },
  {
   "cell_type": "code",
   "execution_count": null,
   "id": "b75f5f25",
   "metadata": {},
   "outputs": [],
   "source": []
  }
 ],
 "metadata": {
  "kernelspec": {
   "display_name": "Python 3 (ipykernel)",
   "language": "python",
   "name": "python3"
  },
  "language_info": {
   "codemirror_mode": {
    "name": "ipython",
    "version": 3
   },
   "file_extension": ".py",
   "mimetype": "text/x-python",
   "name": "python",
   "nbconvert_exporter": "python",
   "pygments_lexer": "ipython3",
   "version": "3.9.7"
  }
 },
 "nbformat": 4,
 "nbformat_minor": 5
}
