{
 "cells": [
  {
   "cell_type": "markdown",
   "metadata": {},
   "source": [
    "# MF013 Análisis de inversión:  Introducción a Python 3era parte\n",
    "Por Carlos Crespo Elizondo, MSF<br>\n",
    "Clase del 21 de septiembre 2021"
   ]
  },
  {
   "cell_type": "markdown",
   "metadata": {},
   "source": [
    "# Sobre la clase 2 (14-sep-'21)"
   ]
  },
  {
   "cell_type": "markdown",
   "metadata": {},
   "source": [
    "Puntos abarcados durante la clase 2:\n",
    "* Listas\n",
    "* Tuplas\n",
    "* Diccionarios"
   ]
  },
  {
   "cell_type": "markdown",
   "metadata": {},
   "source": [
    "Puntos pendientes de la clase 2:\n",
    "* Función `range( )`\n",
    "* For loops"
   ]
  },
  {
   "cell_type": "markdown",
   "metadata": {},
   "source": [
    "# Objetivos de la Clase 3"
   ]
  },
  {
   "cell_type": "markdown",
   "metadata": {},
   "source": [
    "* Función `range( )`\n",
    "* For loops\n",
    "* While loops\n",
    "* If's"
   ]
  },
  {
   "cell_type": "markdown",
   "metadata": {},
   "source": [
    "# Función `range( )`"
   ]
  },
  {
   "cell_type": "markdown",
   "metadata": {},
   "source": [
    "## Creando listas numéricas con `range( )`"
   ]
  },
  {
   "cell_type": "code",
   "execution_count": 1,
   "metadata": {},
   "outputs": [],
   "source": [
    "lista_numeros = range(1,6)"
   ]
  },
  {
   "cell_type": "code",
   "execution_count": 2,
   "metadata": {},
   "outputs": [
    {
     "data": {
      "text/plain": [
       "range(1, 6)"
      ]
     },
     "execution_count": 2,
     "metadata": {},
     "output_type": "execute_result"
    }
   ],
   "source": [
    "lista_numeros"
   ]
  },
  {
   "cell_type": "code",
   "execution_count": 3,
   "metadata": {},
   "outputs": [
    {
     "name": "stdout",
     "output_type": "stream",
     "text": [
      "1\n",
      "2\n",
      "3\n",
      "4\n",
      "5\n"
     ]
    }
   ],
   "source": [
    "for i in lista_numeros:\n",
    "    print(i)"
   ]
  },
  {
   "cell_type": "code",
   "execution_count": 4,
   "metadata": {},
   "outputs": [],
   "source": [
    "lista_numeros = list(range(1,6))"
   ]
  },
  {
   "cell_type": "code",
   "execution_count": 5,
   "metadata": {},
   "outputs": [
    {
     "data": {
      "text/plain": [
       "[1, 2, 3, 4, 5]"
      ]
     },
     "execution_count": 5,
     "metadata": {},
     "output_type": "execute_result"
    }
   ],
   "source": [
    "lista_numeros"
   ]
  },
  {
   "cell_type": "markdown",
   "metadata": {},
   "source": [
    "## Pasos incrementales"
   ]
  },
  {
   "cell_type": "code",
   "execution_count": 6,
   "metadata": {},
   "outputs": [
    {
     "data": {
      "text/plain": [
       "[10, 20, 30, 40, 50, 60, 70, 80, 90, 100]"
      ]
     },
     "execution_count": 6,
     "metadata": {},
     "output_type": "execute_result"
    }
   ],
   "source": [
    "list(range(10,105,10))"
   ]
  },
  {
   "cell_type": "markdown",
   "metadata": {},
   "source": [
    "## Pasos decrementales"
   ]
  },
  {
   "cell_type": "code",
   "execution_count": 7,
   "metadata": {},
   "outputs": [
    {
     "data": {
      "text/plain": [
       "[100, 90, 80, 70, 60, 50, 40, 30, 20, 10, 0]"
      ]
     },
     "execution_count": 7,
     "metadata": {},
     "output_type": "execute_result"
    }
   ],
   "source": [
    "list(range(100,-1,-10))"
   ]
  },
  {
   "cell_type": "markdown",
   "metadata": {},
   "source": [
    "# For loop"
   ]
  },
  {
   "cell_type": "code",
   "execution_count": 8,
   "metadata": {},
   "outputs": [],
   "source": [
    "criptos = ['Bitcoin', 'Etherum','Cardano', 'Litecoin']"
   ]
  },
  {
   "cell_type": "code",
   "execution_count": 9,
   "metadata": {},
   "outputs": [
    {
     "name": "stdout",
     "output_type": "stream",
     "text": [
      "Bitcoin, es una criptomoneda\n",
      "Etherum, es una criptomoneda\n",
      "Cardano, es una criptomoneda\n"
     ]
    }
   ],
   "source": [
    "print(f'{criptos[0]}, es una criptomoneda')\n",
    "print(f'{criptos[1]}, es una criptomoneda')\n",
    "print(f'{criptos[2]}, es una criptomoneda')"
   ]
  },
  {
   "cell_type": "markdown",
   "metadata": {},
   "source": [
    "## For loop con una lista"
   ]
  },
  {
   "cell_type": "code",
   "execution_count": 10,
   "metadata": {},
   "outputs": [
    {
     "name": "stdout",
     "output_type": "stream",
     "text": [
      "Bitcoin, es una criptomoneda\n",
      "Etherum, es una criptomoneda\n",
      "Cardano, es una criptomoneda\n",
      "Litecoin, es una criptomoneda\n"
     ]
    }
   ],
   "source": [
    "for moneda in criptos:\n",
    "    print(f'{moneda}, es una criptomoneda')"
   ]
  },
  {
   "cell_type": "code",
   "execution_count": 11,
   "metadata": {},
   "outputs": [
    {
     "data": {
      "text/plain": [
       "'Litecoin'"
      ]
     },
     "execution_count": 11,
     "metadata": {},
     "output_type": "execute_result"
    }
   ],
   "source": [
    "moneda"
   ]
  },
  {
   "cell_type": "markdown",
   "metadata": {},
   "source": [
    "## For loop con un diccionario"
   ]
  },
  {
   "cell_type": "markdown",
   "metadata": {},
   "source": [
    "<table>\n",
    "    <tr>\n",
    "        <th>País</th>\n",
    "        <th>Moneda</th>\n",
    "    </tr>\n",
    "    <tr>\n",
    "        <td>México</td>\n",
    "        <td>Peso Mexicano</td>\n",
    "    </tr>\n",
    "    <tr>\n",
    "        <td>EUA</td>\n",
    "        <td>Dólar americano</td>\n",
    "    </tr>\n",
    "    <tr>\n",
    "        <td>Canadá</td>\n",
    "        <td>Dólar canadiense</td>\n",
    "    </tr>\n",
    "</table>"
   ]
  },
  {
   "cell_type": "code",
   "execution_count": 12,
   "metadata": {},
   "outputs": [],
   "source": [
    "monedas = {\n",
    "'afganistan':'afgani afgano',\n",
    "'albania':'lek',\n",
    "'alemania':'euro',\n",
    "'algeria':'dinar argelino',\n",
    "'andorra':'euro',\n",
    "'angola':'kwanza angoleno',\n",
    "'anguilla':'dolar del caribe oriental',\n",
    "'antigua y barbuda':'dolar del caribe oriental',\n",
    "'antartica':'sin divisa universal',\n",
    "'arabia saudita':'riyal saudi',\n",
    "'argentina':'peso argentino',\n",
    "'armenia':'dram armenio',\n",
    "'aruba':'florin arubeno',\n",
    "'australia':'dolar australiano',\n",
    "'austria':'euro',\n",
    "'azerbaiyan':'manat azerbaiyano',\n",
    "'bahamas (las)':'dolar bahameno',\n",
    "'bangladesh':'taka',\n",
    "'barbados':'dolar de barbados',\n",
    "'barein':'dinar bareini',\n",
    "'belice':'dolar beliceno',\n",
    "'benin':'franco cfa de africa occidental',\n",
    "'bermuda':'dolar bermudeno',\n",
    "'bielorrusia':'rublo bielorruso',\n",
    "'birmania':'kyat birmano',\n",
    "'bolivia (estado plurinacional de)':'boliviano',\n",
    "'bonaire, san eustaquio y saba':'dolar estadounidense',\n",
    "'bosnia y herzegovina':'marco bosnioherzegovino',\n",
    "'botsuana':'pula',\n",
    "'brasil':'real brasileno',\n",
    "'brunei darussalam':'dolar de brunei',\n",
    "'bulgaria':'lev',\n",
    "'burkina faso':'franco cfa de africa occidental',\n",
    "'burundi':'franco burundes',\n",
    "'butan':'ngultrum butanes',\n",
    "'belgica':'euro',\n",
    "'cabo verde':'escudo caboverdiano',\n",
    "'camboya':'riel camboyano',\n",
    "'camerun':'franco cfa de africa central',\n",
    "'canada':'dolar canadiense',\n",
    "'chad':'franco cfa de africa central',\n",
    "'chile':'peso chileno',\n",
    "'china':'renminbi',\n",
    "'chipre':'euro',\n",
    "'colombia':'peso colombiano',\n",
    "'comoras':'franco comorense',\n",
    "'congo (republica democratic del)':'franco congoleno',\n",
    "'costa de marfil':'franco cfa de africa occidental',\n",
    "'costa rica':'colon costarricense',\n",
    "'croacia':'kuna',\n",
    "'cuba':'peso cubano',\n",
    "'curazao':'florin antillano neerlandes',\n",
    "'dinamarca':'corona danesa',\n",
    "'dominica':'dolar del caribe oriental',\n",
    "'ecuador':'dolar estadounidense',\n",
    "'egipto':'libra egipcia',\n",
    "'el salvador':'colon',\n",
    "'emiratos arabes unidos':'dirham de eau',\n",
    "'eritrea':'nakfa',\n",
    "'eslovaquia':'euro',\n",
    "'eslovenia':'euro',\n",
    "'espana':'euro',\n",
    "'estado de palestina':'sin divisa universal',\n",
    "'estados unidos de america':'dolar estadounidense',\n",
    "'estonia':'euro',\n",
    "'etiopia':'birr etiope',\n",
    "'fiji':'dolar fiyiano',\n",
    "'filipinas':'peso filipino',\n",
    "'finlandia':'euro',\n",
    "'francia':'euro',\n",
    "'gabon':'franco cfa de africa central',\n",
    "'gambia':'dalasi',\n",
    "'georgia':'lari',\n",
    "'ghana':'cedi',\n",
    "'gibraltar':'libra gibraltarena',\n",
    "'granada':'dolar del caribe oriental',\n",
    "'grecia':'euro',\n",
    "'groenlandia':'corona danesa',\n",
    "'guadalupe':'euro',\n",
    "'guam':'dolar estadounidense',\n",
    "'guatemala':'quetzal',\n",
    "'guernsey':'libra esterlina',\n",
    "'guinea':'franco guineano',\n",
    "'guinea ecuatorial':'franco cfa de africa central',\n",
    "'guinea-bissau':'franco cfa de africa occidental',\n",
    "'guyana':'dolar guyanes',\n",
    "'guyana francesa':'euro',\n",
    "'haiti':'gourde',\n",
    "'holanda':'euro',\n",
    "'honduras':'lempira',\n",
    "'hong kong':'dolar de hong kong',\n",
    "'hungria':'forinto hungaro',\n",
    "'india':'rupia india',\n",
    "'indonesia':'rupia indonesia',\n",
    "'irak':'dinar iraqui',\n",
    "'irlanda':'euro',\n",
    "'isla bouvet':'corona noruega',\n",
    "'isla de man':'libra esterlina',\n",
    "'isla de navidad':'dolar australiano',\n",
    "'isla norfolk':'dolar australiano',\n",
    "'islandia':'corona islandesa',\n",
    "'islas caiman (las)':'dolar de las islas cayman',\n",
    "'islas cocos (keeling)':'dolar australiano',\n",
    "'islas cook (las)':'dolar de la islas cook',\n",
    "'islas faroe':'corona danesa',\n",
    "'islas georgia del sur y sandwich del sur':'sin divisa universal',\n",
    "'islas heard y mcdonald':'dolar australiano',\n",
    "'islas malvinas':'libra malvinense',\n",
    "'islas marians del norte':'dolar estadounidense',\n",
    "'islas marshall':'dolar estadounidense',\n",
    "'islas salomon':'dolar de islas salomon',\n",
    "'islas svalbard y jan mayen':'corona noruega',\n",
    "'islas turcos y caicos':'dolar estadounidense',\n",
    "'islas ultramarinas menores de ee. uu.':'dolar estadounidense',\n",
    "'islas virgenes (eeuu)':'dolar estadounidense',\n",
    "'islas virgenes britanicas':'dolar estadounidense',\n",
    "'islas aland':'euro',\n",
    "'israel':'nuevo sequel',\n",
    "'italia':'euro',\n",
    "'jamaica':'dolar jamaiquino',\n",
    "'japon':'yen',\n",
    "'jersey':'libra esterlina',\n",
    "'jordania':'dinar jordano',\n",
    "'kazajistan':'tenge kazajo',\n",
    "'kenia':'chelin keniano',\n",
    "'kirguistan':'som',\n",
    "'kiribati':'dolar australiano',\n",
    "'kuwait':'dinar kuwaiti',\n",
    "'lesoto':'loti',\n",
    "'letonia':'euro',\n",
    "'liberia':'dolar liberiano',\n",
    "'libia':'dinar libio',\n",
    "'liechtenstein':'franco suizo',\n",
    "'lituania':'euro',\n",
    "'luxemburgo':'euro',\n",
    "'libano':'libra libanesa',\n",
    "'macao':'pataca',\n",
    "'macedonia':'dinar',\n",
    "'madagascar':'ariary malgache',\n",
    "'malasia':'ringgit malayo',\n",
    "'malawi':'kwacha malaui',\n",
    "'maldivas':'rupia de maldivas',\n",
    "'malta':'euro',\n",
    "'mali':'franco cfa de africa occidental',\n",
    "'marruecos':'dirham marroqui',\n",
    "'martinica':'euro',\n",
    "'mauricio':'rupia de mauricio',\n",
    "'mauritania':'uguiya',\n",
    "'mayotte':'euro',\n",
    "'micronesia':'dolar estadounidense',\n",
    "'mongolia':'tugrik',\n",
    "'montenegro':'euro',\n",
    "'montserrat':'dolar del caribe oriental',\n",
    "'mozambique':'metical mozambiqueno',\n",
    "'mexico':'peso mexicano',\n",
    "'monaco':'euro',\n",
    "'namibia':'dolar de namibia',\n",
    "'nauru':'dolar australiano',\n",
    "'nepal':'rupia nepali',\n",
    "'nicaragua':'cordoba oro',\n",
    "'nigeria':'naira',\n",
    "'niue':'dolar neozelandes',\n",
    "'noruega':'corona noruega',\n",
    "'nueva caledonia':'franco cfp',\n",
    "'nueva zelanda':'dolar neozelandes',\n",
    "'oman':'rial omani',\n",
    "'paises miembros del banco africano de desarrollo':'bad unidad de cuentas',\n",
    "'pakistan':'rupia pakistani',\n",
    "'palau':'dolar estadounidense',\n",
    "'panama':'balboa',\n",
    "'papua nueva guinea':'kina',\n",
    "'paraguay':'guarani',\n",
    "'peru':'nuevo sol',\n",
    "'pitcairn':'dolar neozelandes',\n",
    "'polinesia francesa':'franco cfp',\n",
    "'polonia':'zloty',\n",
    "'portugal':'euro',\n",
    "'puerto rico':'dolar estadounidense',\n",
    "'qatar':'riyal catari',\n",
    "'reino unido de gran bretana e irlanda del norte':'libra esterlina',\n",
    "'republica democratica popular lao':'kip laosiano',\n",
    "'republica bolivariana de venezuela':'bolivar',\n",
    "'republica centroafricana (la)':'franco cfa de africa central',\n",
    "'republica checa':'czech koruna',\n",
    "'republica de corea del sur':'won',\n",
    "'republica de moldavia':'leu moldavo',\n",
    "'republica democratica de corea del norte':'won norcoreano',\n",
    "'republica dominicana':'peso dominicano',\n",
    "'republica islamica de iran':'rial irani',\n",
    "'republica unida de tanzania':'chelin tanzano',\n",
    "'republica arabe siria':'libra siria',\n",
    "'ruanda':'franco ruandes',\n",
    "'rumania':'leu rumano',\n",
    "'rusia':'rublo ruso',\n",
    "'sahara occidental':'dirham marroqui',\n",
    "'samoa':'tala',\n",
    "'samoa americana':'dolar estadounidense',\n",
    "'san bartolome':'euro',\n",
    "'san cristobal y nieves':'dolar del caribe oriental',\n",
    "'san marino':'euro',\n",
    "'san martin':'euro',\n",
    "'san martin (parte holandesa)':'florin holandes',\n",
    "'san pedro y miquelon':'euro',\n",
    "'san tome y principe':'dobra',\n",
    "'san vicente y las granadinas':'dolar del caribe oriental',\n",
    "'santa helena ascencion y tristan de acuna':'libra de santa helena',\n",
    "'santa lucia':'dolar del caribe oriental',\n",
    "'santa sede':'euro',\n",
    "'senegal':'franco cfa de africa occidental',\n",
    "'serbia':'dinar serbio',\n",
    "'seychelles':'rupia de seychelles',\n",
    "'sierra leona':'leone',\n",
    "'singapur':'dolar de singapur',\n",
    "'somalia':'chelin somali',\n",
    "'sri lanka':'rupia de sri lanka',\n",
    "'suazilandia':'lilangeni',\n",
    "'sudafrica':'rand',\n",
    "'sudan':'libra sudanesa',\n",
    "'sudan del sur':'libra sursudanesa',\n",
    "'suecia':'corona sueca',\n",
    "'suiza':'franco suizo',\n",
    "'surinam':'dolar de surinam',\n",
    "'tailandia':'baht',\n",
    "'taiwan (provincia de china)':'nuevo dolar de taiwan',\n",
    "'tajikistan':'somoni',\n",
    "'territorio britanico del oceano indico':'dolar estadounidense',\n",
    "'territorios australes franceses':'euro',\n",
    "'timor oriental':'dolar estadounidense',\n",
    "'togo':'franco cfa de africa occidental',\n",
    "'tokelau':'dolar neozelandes',\n",
    "'tonga':'paanga',\n",
    "'trinidad y tobago':'dolar de trinidad y tobago',\n",
    "'turmenistan':'manat turcomano',\n",
    "'turquia':'lira turca',\n",
    "'tuvalu':'dolar tuvaluano',\n",
    "'tunez':'dinar tunecino',\n",
    "'uganda':'chelin ugandes',\n",
    "'ukrania':'grivnia',\n",
    "'uruguay':'peso uruguayo',\n",
    "'uzbekistan':'som uzbeko',\n",
    "'vanuatu':'vatu',\n",
    "'vietnam':'dong',\n",
    "'wallis y futuna':'franco cfp',\n",
    "'yemen':'rial yemeni',\n",
    "'yibuti':'franco yibutiano',\n",
    "'zambia':'kwacha zambiano',\n",
    "'zimbabue':'dolar zimbabuense'}"
   ]
  },
  {
   "cell_type": "markdown",
   "metadata": {},
   "source": [
    "### For loops y llaves de un diccionario"
   ]
  },
  {
   "cell_type": "code",
   "execution_count": 13,
   "metadata": {},
   "outputs": [
    {
     "name": "stdout",
     "output_type": "stream",
     "text": [
      "afganistan\n",
      "albania\n",
      "alemania\n",
      "algeria\n",
      "andorra\n",
      "angola\n",
      "anguilla\n",
      "antigua y barbuda\n",
      "antartica\n",
      "arabia saudita\n",
      "argentina\n",
      "armenia\n",
      "aruba\n",
      "australia\n",
      "austria\n",
      "azerbaiyan\n",
      "bahamas (las)\n",
      "bangladesh\n",
      "barbados\n",
      "barein\n",
      "belice\n",
      "benin\n",
      "bermuda\n",
      "bielorrusia\n",
      "birmania\n",
      "bolivia (estado plurinacional de)\n",
      "bonaire, san eustaquio y saba\n",
      "bosnia y herzegovina\n",
      "botsuana\n",
      "brasil\n",
      "brunei darussalam\n",
      "bulgaria\n",
      "burkina faso\n",
      "burundi\n",
      "butan\n",
      "belgica\n",
      "cabo verde\n",
      "camboya\n",
      "camerun\n",
      "canada\n",
      "chad\n",
      "chile\n",
      "china\n",
      "chipre\n",
      "colombia\n",
      "comoras\n",
      "congo (republica democratic del)\n",
      "costa de marfil\n",
      "costa rica\n",
      "croacia\n",
      "cuba\n",
      "curazao\n",
      "dinamarca\n",
      "dominica\n",
      "ecuador\n",
      "egipto\n",
      "el salvador\n",
      "emiratos arabes unidos\n",
      "eritrea\n",
      "eslovaquia\n",
      "eslovenia\n",
      "espana\n",
      "estado de palestina\n",
      "estados unidos de america\n",
      "estonia\n",
      "etiopia\n",
      "fiji\n",
      "filipinas\n",
      "finlandia\n",
      "francia\n",
      "gabon\n",
      "gambia\n",
      "georgia\n",
      "ghana\n",
      "gibraltar\n",
      "granada\n",
      "grecia\n",
      "groenlandia\n",
      "guadalupe\n",
      "guam\n",
      "guatemala\n",
      "guernsey\n",
      "guinea\n",
      "guinea ecuatorial\n",
      "guinea-bissau\n",
      "guyana\n",
      "guyana francesa\n",
      "haiti\n",
      "holanda\n",
      "honduras\n",
      "hong kong\n",
      "hungria\n",
      "india\n",
      "indonesia\n",
      "irak\n",
      "irlanda\n",
      "isla bouvet\n",
      "isla de man\n",
      "isla de navidad\n",
      "isla norfolk\n",
      "islandia\n",
      "islas caiman (las)\n",
      "islas cocos (keeling)\n",
      "islas cook (las)\n",
      "islas faroe\n",
      "islas georgia del sur y sandwich del sur\n",
      "islas heard y mcdonald\n",
      "islas malvinas\n",
      "islas marians del norte\n",
      "islas marshall\n",
      "islas salomon\n",
      "islas svalbard y jan mayen\n",
      "islas turcos y caicos\n",
      "islas ultramarinas menores de ee. uu.\n",
      "islas virgenes (eeuu)\n",
      "islas virgenes britanicas\n",
      "islas aland\n",
      "israel\n",
      "italia\n",
      "jamaica\n",
      "japon\n",
      "jersey\n",
      "jordania\n",
      "kazajistan\n",
      "kenia\n",
      "kirguistan\n",
      "kiribati\n",
      "kuwait\n",
      "lesoto\n",
      "letonia\n",
      "liberia\n",
      "libia\n",
      "liechtenstein\n",
      "lituania\n",
      "luxemburgo\n",
      "libano\n",
      "macao\n",
      "macedonia\n",
      "madagascar\n",
      "malasia\n",
      "malawi\n",
      "maldivas\n",
      "malta\n",
      "mali\n",
      "marruecos\n",
      "martinica\n",
      "mauricio\n",
      "mauritania\n",
      "mayotte\n",
      "micronesia\n",
      "mongolia\n",
      "montenegro\n",
      "montserrat\n",
      "mozambique\n",
      "mexico\n",
      "monaco\n",
      "namibia\n",
      "nauru\n",
      "nepal\n",
      "nicaragua\n",
      "nigeria\n",
      "niue\n",
      "noruega\n",
      "nueva caledonia\n",
      "nueva zelanda\n",
      "oman\n",
      "paises miembros del banco africano de desarrollo\n",
      "pakistan\n",
      "palau\n",
      "panama\n",
      "papua nueva guinea\n",
      "paraguay\n",
      "peru\n",
      "pitcairn\n",
      "polinesia francesa\n",
      "polonia\n",
      "portugal\n",
      "puerto rico\n",
      "qatar\n",
      "reino unido de gran bretana e irlanda del norte\n",
      "republica democratica popular lao\n",
      "republica bolivariana de venezuela\n",
      "republica centroafricana (la)\n",
      "republica checa\n",
      "republica de corea del sur\n",
      "republica de moldavia\n",
      "republica democratica de corea del norte\n",
      "republica dominicana\n",
      "republica islamica de iran\n",
      "republica unida de tanzania\n",
      "republica arabe siria\n",
      "ruanda\n",
      "rumania\n",
      "rusia\n",
      "sahara occidental\n",
      "samoa\n",
      "samoa americana\n",
      "san bartolome\n",
      "san cristobal y nieves\n",
      "san marino\n",
      "san martin\n",
      "san martin (parte holandesa)\n",
      "san pedro y miquelon\n",
      "san tome y principe\n",
      "san vicente y las granadinas\n",
      "santa helena ascencion y tristan de acuna\n",
      "santa lucia\n",
      "santa sede\n",
      "senegal\n",
      "serbia\n",
      "seychelles\n",
      "sierra leona\n",
      "singapur\n",
      "somalia\n",
      "sri lanka\n",
      "suazilandia\n",
      "sudafrica\n",
      "sudan\n",
      "sudan del sur\n",
      "suecia\n",
      "suiza\n",
      "surinam\n",
      "tailandia\n",
      "taiwan (provincia de china)\n",
      "tajikistan\n",
      "territorio britanico del oceano indico\n",
      "territorios australes franceses\n",
      "timor oriental\n",
      "togo\n",
      "tokelau\n",
      "tonga\n",
      "trinidad y tobago\n",
      "turmenistan\n",
      "turquia\n",
      "tuvalu\n",
      "tunez\n",
      "uganda\n",
      "ukrania\n",
      "uruguay\n",
      "uzbekistan\n",
      "vanuatu\n",
      "vietnam\n",
      "wallis y futuna\n",
      "yemen\n",
      "yibuti\n",
      "zambia\n",
      "zimbabue\n"
     ]
    }
   ],
   "source": [
    "for llave in monedas:\n",
    "    print(llave)"
   ]
  },
  {
   "cell_type": "code",
   "execution_count": 14,
   "metadata": {},
   "outputs": [
    {
     "name": "stdout",
     "output_type": "stream",
     "text": [
      "afganistan\n",
      "albania\n",
      "alemania\n",
      "algeria\n",
      "andorra\n",
      "angola\n",
      "anguilla\n",
      "antigua y barbuda\n",
      "antartica\n",
      "arabia saudita\n",
      "argentina\n",
      "armenia\n",
      "aruba\n",
      "australia\n",
      "austria\n",
      "azerbaiyan\n",
      "bahamas (las)\n",
      "bangladesh\n",
      "barbados\n",
      "barein\n",
      "belice\n",
      "benin\n",
      "bermuda\n",
      "bielorrusia\n",
      "birmania\n",
      "bolivia (estado plurinacional de)\n",
      "bonaire, san eustaquio y saba\n",
      "bosnia y herzegovina\n",
      "botsuana\n",
      "brasil\n",
      "brunei darussalam\n",
      "bulgaria\n",
      "burkina faso\n",
      "burundi\n",
      "butan\n",
      "belgica\n",
      "cabo verde\n",
      "camboya\n",
      "camerun\n",
      "canada\n",
      "chad\n",
      "chile\n",
      "china\n",
      "chipre\n",
      "colombia\n",
      "comoras\n",
      "congo (republica democratic del)\n",
      "costa de marfil\n",
      "costa rica\n",
      "croacia\n",
      "cuba\n",
      "curazao\n",
      "dinamarca\n",
      "dominica\n",
      "ecuador\n",
      "egipto\n",
      "el salvador\n",
      "emiratos arabes unidos\n",
      "eritrea\n",
      "eslovaquia\n",
      "eslovenia\n",
      "espana\n",
      "estado de palestina\n",
      "estados unidos de america\n",
      "estonia\n",
      "etiopia\n",
      "fiji\n",
      "filipinas\n",
      "finlandia\n",
      "francia\n",
      "gabon\n",
      "gambia\n",
      "georgia\n",
      "ghana\n",
      "gibraltar\n",
      "granada\n",
      "grecia\n",
      "groenlandia\n",
      "guadalupe\n",
      "guam\n",
      "guatemala\n",
      "guernsey\n",
      "guinea\n",
      "guinea ecuatorial\n",
      "guinea-bissau\n",
      "guyana\n",
      "guyana francesa\n",
      "haiti\n",
      "holanda\n",
      "honduras\n",
      "hong kong\n",
      "hungria\n",
      "india\n",
      "indonesia\n",
      "irak\n",
      "irlanda\n",
      "isla bouvet\n",
      "isla de man\n",
      "isla de navidad\n",
      "isla norfolk\n",
      "islandia\n",
      "islas caiman (las)\n",
      "islas cocos (keeling)\n",
      "islas cook (las)\n",
      "islas faroe\n",
      "islas georgia del sur y sandwich del sur\n",
      "islas heard y mcdonald\n",
      "islas malvinas\n",
      "islas marians del norte\n",
      "islas marshall\n",
      "islas salomon\n",
      "islas svalbard y jan mayen\n",
      "islas turcos y caicos\n",
      "islas ultramarinas menores de ee. uu.\n",
      "islas virgenes (eeuu)\n",
      "islas virgenes britanicas\n",
      "islas aland\n",
      "israel\n",
      "italia\n",
      "jamaica\n",
      "japon\n",
      "jersey\n",
      "jordania\n",
      "kazajistan\n",
      "kenia\n",
      "kirguistan\n",
      "kiribati\n",
      "kuwait\n",
      "lesoto\n",
      "letonia\n",
      "liberia\n",
      "libia\n",
      "liechtenstein\n",
      "lituania\n",
      "luxemburgo\n",
      "libano\n",
      "macao\n",
      "macedonia\n",
      "madagascar\n",
      "malasia\n",
      "malawi\n",
      "maldivas\n",
      "malta\n",
      "mali\n",
      "marruecos\n",
      "martinica\n",
      "mauricio\n",
      "mauritania\n",
      "mayotte\n",
      "micronesia\n",
      "mongolia\n",
      "montenegro\n",
      "montserrat\n",
      "mozambique\n",
      "mexico\n",
      "monaco\n",
      "namibia\n",
      "nauru\n",
      "nepal\n",
      "nicaragua\n",
      "nigeria\n",
      "niue\n",
      "noruega\n",
      "nueva caledonia\n",
      "nueva zelanda\n",
      "oman\n",
      "paises miembros del banco africano de desarrollo\n",
      "pakistan\n",
      "palau\n",
      "panama\n",
      "papua nueva guinea\n",
      "paraguay\n",
      "peru\n",
      "pitcairn\n",
      "polinesia francesa\n",
      "polonia\n",
      "portugal\n",
      "puerto rico\n",
      "qatar\n",
      "reino unido de gran bretana e irlanda del norte\n",
      "republica democratica popular lao\n",
      "republica bolivariana de venezuela\n",
      "republica centroafricana (la)\n",
      "republica checa\n",
      "republica de corea del sur\n",
      "republica de moldavia\n",
      "republica democratica de corea del norte\n",
      "republica dominicana\n",
      "republica islamica de iran\n",
      "republica unida de tanzania\n",
      "republica arabe siria\n",
      "ruanda\n",
      "rumania\n",
      "rusia\n",
      "sahara occidental\n",
      "samoa\n",
      "samoa americana\n",
      "san bartolome\n",
      "san cristobal y nieves\n",
      "san marino\n",
      "san martin\n",
      "san martin (parte holandesa)\n",
      "san pedro y miquelon\n",
      "san tome y principe\n",
      "san vicente y las granadinas\n",
      "santa helena ascencion y tristan de acuna\n",
      "santa lucia\n",
      "santa sede\n",
      "senegal\n",
      "serbia\n",
      "seychelles\n",
      "sierra leona\n",
      "singapur\n",
      "somalia\n",
      "sri lanka\n",
      "suazilandia\n",
      "sudafrica\n",
      "sudan\n",
      "sudan del sur\n",
      "suecia\n",
      "suiza\n",
      "surinam\n",
      "tailandia\n",
      "taiwan (provincia de china)\n",
      "tajikistan\n",
      "territorio britanico del oceano indico\n",
      "territorios australes franceses\n",
      "timor oriental\n",
      "togo\n",
      "tokelau\n",
      "tonga\n",
      "trinidad y tobago\n",
      "turmenistan\n",
      "turquia\n",
      "tuvalu\n",
      "tunez\n",
      "uganda\n",
      "ukrania\n",
      "uruguay\n",
      "uzbekistan\n",
      "vanuatu\n",
      "vietnam\n",
      "wallis y futuna\n",
      "yemen\n",
      "yibuti\n",
      "zambia\n",
      "zimbabue\n"
     ]
    }
   ],
   "source": [
    "for llave in monedas.keys():\n",
    "    print(llave)"
   ]
  },
  {
   "cell_type": "markdown",
   "metadata": {},
   "source": [
    "### For loops y valores de un diccionario"
   ]
  },
  {
   "cell_type": "code",
   "execution_count": 15,
   "metadata": {},
   "outputs": [
    {
     "name": "stdout",
     "output_type": "stream",
     "text": [
      "afgani afgano\n"
     ]
    }
   ],
   "source": [
    "for valor in monedas.values():\n",
    "    print(valor)\n",
    "    break"
   ]
  },
  {
   "cell_type": "markdown",
   "metadata": {},
   "source": [
    "### For loop y llave-valor de un diccionario"
   ]
  },
  {
   "cell_type": "code",
   "execution_count": 16,
   "metadata": {},
   "outputs": [
    {
     "ename": "AttributeError",
     "evalue": "'dict_keys' object has no attribute 'values'",
     "output_type": "error",
     "traceback": [
      "\u001b[0;31m---------------------------------------------------------------------------\u001b[0m",
      "\u001b[0;31mAttributeError\u001b[0m                            Traceback (most recent call last)",
      "\u001b[0;32m<ipython-input-16-b10f7f6cf5e4>\u001b[0m in \u001b[0;36m<module>\u001b[0;34m\u001b[0m\n\u001b[0;32m----> 1\u001b[0;31m \u001b[0;32mfor\u001b[0m \u001b[0mllave\u001b[0m\u001b[0;34m,\u001b[0m \u001b[0mvalor\u001b[0m \u001b[0;32min\u001b[0m \u001b[0mmonedas\u001b[0m\u001b[0;34m.\u001b[0m\u001b[0mkeys\u001b[0m\u001b[0;34m(\u001b[0m\u001b[0;34m)\u001b[0m\u001b[0;34m.\u001b[0m\u001b[0mvalues\u001b[0m\u001b[0;34m(\u001b[0m\u001b[0;34m)\u001b[0m\u001b[0;34m:\u001b[0m\u001b[0;34m\u001b[0m\u001b[0;34m\u001b[0m\u001b[0m\n\u001b[0m\u001b[1;32m      2\u001b[0m     \u001b[0mprint\u001b[0m\u001b[0;34m(\u001b[0m\u001b[0mllave\u001b[0m\u001b[0;34m,\u001b[0m \u001b[0mvalor\u001b[0m\u001b[0;34m)\u001b[0m\u001b[0;34m\u001b[0m\u001b[0;34m\u001b[0m\u001b[0m\n",
      "\u001b[0;31mAttributeError\u001b[0m: 'dict_keys' object has no attribute 'values'"
     ]
    }
   ],
   "source": [
    "for llave, valor in monedas.keys().values():\n",
    "    print(llave, valor)"
   ]
  },
  {
   "cell_type": "code",
   "execution_count": 17,
   "metadata": {},
   "outputs": [
    {
     "name": "stdout",
     "output_type": "stream",
     "text": [
      "En afganistan, su moneda se llama afgani afgano\n",
      "En albania, su moneda se llama lek\n",
      "En alemania, su moneda se llama euro\n",
      "En algeria, su moneda se llama dinar argelino\n",
      "En andorra, su moneda se llama euro\n",
      "En angola, su moneda se llama kwanza angoleno\n",
      "En anguilla, su moneda se llama dolar del caribe oriental\n",
      "En antigua y barbuda, su moneda se llama dolar del caribe oriental\n",
      "En antartica, su moneda se llama sin divisa universal\n",
      "En arabia saudita, su moneda se llama riyal saudi\n",
      "En argentina, su moneda se llama peso argentino\n",
      "En armenia, su moneda se llama dram armenio\n",
      "En aruba, su moneda se llama florin arubeno\n",
      "En australia, su moneda se llama dolar australiano\n",
      "En austria, su moneda se llama euro\n",
      "En azerbaiyan, su moneda se llama manat azerbaiyano\n",
      "En bahamas (las), su moneda se llama dolar bahameno\n",
      "En bangladesh, su moneda se llama taka\n",
      "En barbados, su moneda se llama dolar de barbados\n",
      "En barein, su moneda se llama dinar bareini\n",
      "En belice, su moneda se llama dolar beliceno\n",
      "En benin, su moneda se llama franco cfa de africa occidental\n",
      "En bermuda, su moneda se llama dolar bermudeno\n",
      "En bielorrusia, su moneda se llama rublo bielorruso\n",
      "En birmania, su moneda se llama kyat birmano\n",
      "En bolivia (estado plurinacional de), su moneda se llama boliviano\n",
      "En bonaire, san eustaquio y saba, su moneda se llama dolar estadounidense\n",
      "En bosnia y herzegovina, su moneda se llama marco bosnioherzegovino\n",
      "En botsuana, su moneda se llama pula\n",
      "En brasil, su moneda se llama real brasileno\n",
      "En brunei darussalam, su moneda se llama dolar de brunei\n",
      "En bulgaria, su moneda se llama lev\n",
      "En burkina faso, su moneda se llama franco cfa de africa occidental\n",
      "En burundi, su moneda se llama franco burundes\n",
      "En butan, su moneda se llama ngultrum butanes\n",
      "En belgica, su moneda se llama euro\n",
      "En cabo verde, su moneda se llama escudo caboverdiano\n",
      "En camboya, su moneda se llama riel camboyano\n",
      "En camerun, su moneda se llama franco cfa de africa central\n",
      "En canada, su moneda se llama dolar canadiense\n",
      "En chad, su moneda se llama franco cfa de africa central\n",
      "En chile, su moneda se llama peso chileno\n",
      "En china, su moneda se llama renminbi\n",
      "En chipre, su moneda se llama euro\n",
      "En colombia, su moneda se llama peso colombiano\n",
      "En comoras, su moneda se llama franco comorense\n",
      "En congo (republica democratic del), su moneda se llama franco congoleno\n",
      "En costa de marfil, su moneda se llama franco cfa de africa occidental\n",
      "En costa rica, su moneda se llama colon costarricense\n",
      "En croacia, su moneda se llama kuna\n",
      "En cuba, su moneda se llama peso cubano\n",
      "En curazao, su moneda se llama florin antillano neerlandes\n",
      "En dinamarca, su moneda se llama corona danesa\n",
      "En dominica, su moneda se llama dolar del caribe oriental\n",
      "En ecuador, su moneda se llama dolar estadounidense\n",
      "En egipto, su moneda se llama libra egipcia\n",
      "En el salvador, su moneda se llama colon\n",
      "En emiratos arabes unidos, su moneda se llama dirham de eau\n",
      "En eritrea, su moneda se llama nakfa\n",
      "En eslovaquia, su moneda se llama euro\n",
      "En eslovenia, su moneda se llama euro\n",
      "En espana, su moneda se llama euro\n",
      "En estado de palestina, su moneda se llama sin divisa universal\n",
      "En estados unidos de america, su moneda se llama dolar estadounidense\n",
      "En estonia, su moneda se llama euro\n",
      "En etiopia, su moneda se llama birr etiope\n",
      "En fiji, su moneda se llama dolar fiyiano\n",
      "En filipinas, su moneda se llama peso filipino\n",
      "En finlandia, su moneda se llama euro\n",
      "En francia, su moneda se llama euro\n",
      "En gabon, su moneda se llama franco cfa de africa central\n",
      "En gambia, su moneda se llama dalasi\n",
      "En georgia, su moneda se llama lari\n",
      "En ghana, su moneda se llama cedi\n",
      "En gibraltar, su moneda se llama libra gibraltarena\n",
      "En granada, su moneda se llama dolar del caribe oriental\n",
      "En grecia, su moneda se llama euro\n",
      "En groenlandia, su moneda se llama corona danesa\n",
      "En guadalupe, su moneda se llama euro\n",
      "En guam, su moneda se llama dolar estadounidense\n",
      "En guatemala, su moneda se llama quetzal\n",
      "En guernsey, su moneda se llama libra esterlina\n",
      "En guinea, su moneda se llama franco guineano\n",
      "En guinea ecuatorial, su moneda se llama franco cfa de africa central\n",
      "En guinea-bissau, su moneda se llama franco cfa de africa occidental\n",
      "En guyana, su moneda se llama dolar guyanes\n",
      "En guyana francesa, su moneda se llama euro\n",
      "En haiti, su moneda se llama gourde\n",
      "En holanda, su moneda se llama euro\n",
      "En honduras, su moneda se llama lempira\n",
      "En hong kong, su moneda se llama dolar de hong kong\n",
      "En hungria, su moneda se llama forinto hungaro\n",
      "En india, su moneda se llama rupia india\n",
      "En indonesia, su moneda se llama rupia indonesia\n",
      "En irak, su moneda se llama dinar iraqui\n",
      "En irlanda, su moneda se llama euro\n",
      "En isla bouvet, su moneda se llama corona noruega\n",
      "En isla de man, su moneda se llama libra esterlina\n",
      "En isla de navidad, su moneda se llama dolar australiano\n",
      "En isla norfolk, su moneda se llama dolar australiano\n",
      "En islandia, su moneda se llama corona islandesa\n",
      "En islas caiman (las), su moneda se llama dolar de las islas cayman\n",
      "En islas cocos (keeling), su moneda se llama dolar australiano\n",
      "En islas cook (las), su moneda se llama dolar de la islas cook\n",
      "En islas faroe, su moneda se llama corona danesa\n",
      "En islas georgia del sur y sandwich del sur, su moneda se llama sin divisa universal\n",
      "En islas heard y mcdonald, su moneda se llama dolar australiano\n",
      "En islas malvinas, su moneda se llama libra malvinense\n",
      "En islas marians del norte, su moneda se llama dolar estadounidense\n",
      "En islas marshall, su moneda se llama dolar estadounidense\n",
      "En islas salomon, su moneda se llama dolar de islas salomon\n",
      "En islas svalbard y jan mayen, su moneda se llama corona noruega\n",
      "En islas turcos y caicos, su moneda se llama dolar estadounidense\n",
      "En islas ultramarinas menores de ee. uu., su moneda se llama dolar estadounidense\n",
      "En islas virgenes (eeuu), su moneda se llama dolar estadounidense\n",
      "En islas virgenes britanicas, su moneda se llama dolar estadounidense\n",
      "En islas aland, su moneda se llama euro\n",
      "En israel, su moneda se llama nuevo sequel\n",
      "En italia, su moneda se llama euro\n",
      "En jamaica, su moneda se llama dolar jamaiquino\n",
      "En japon, su moneda se llama yen\n",
      "En jersey, su moneda se llama libra esterlina\n",
      "En jordania, su moneda se llama dinar jordano\n",
      "En kazajistan, su moneda se llama tenge kazajo\n",
      "En kenia, su moneda se llama chelin keniano\n",
      "En kirguistan, su moneda se llama som\n",
      "En kiribati, su moneda se llama dolar australiano\n",
      "En kuwait, su moneda se llama dinar kuwaiti\n",
      "En lesoto, su moneda se llama loti\n",
      "En letonia, su moneda se llama euro\n",
      "En liberia, su moneda se llama dolar liberiano\n",
      "En libia, su moneda se llama dinar libio\n",
      "En liechtenstein, su moneda se llama franco suizo\n",
      "En lituania, su moneda se llama euro\n",
      "En luxemburgo, su moneda se llama euro\n",
      "En libano, su moneda se llama libra libanesa\n",
      "En macao, su moneda se llama pataca\n",
      "En macedonia, su moneda se llama dinar\n",
      "En madagascar, su moneda se llama ariary malgache\n",
      "En malasia, su moneda se llama ringgit malayo\n",
      "En malawi, su moneda se llama kwacha malaui\n",
      "En maldivas, su moneda se llama rupia de maldivas\n",
      "En malta, su moneda se llama euro\n",
      "En mali, su moneda se llama franco cfa de africa occidental\n",
      "En marruecos, su moneda se llama dirham marroqui\n",
      "En martinica, su moneda se llama euro\n",
      "En mauricio, su moneda se llama rupia de mauricio\n",
      "En mauritania, su moneda se llama uguiya\n",
      "En mayotte, su moneda se llama euro\n",
      "En micronesia, su moneda se llama dolar estadounidense\n",
      "En mongolia, su moneda se llama tugrik\n",
      "En montenegro, su moneda se llama euro\n",
      "En montserrat, su moneda se llama dolar del caribe oriental\n",
      "En mozambique, su moneda se llama metical mozambiqueno\n",
      "En mexico, su moneda se llama peso mexicano\n",
      "En monaco, su moneda se llama euro\n",
      "En namibia, su moneda se llama dolar de namibia\n",
      "En nauru, su moneda se llama dolar australiano\n",
      "En nepal, su moneda se llama rupia nepali\n",
      "En nicaragua, su moneda se llama cordoba oro\n",
      "En nigeria, su moneda se llama naira\n",
      "En niue, su moneda se llama dolar neozelandes\n",
      "En noruega, su moneda se llama corona noruega\n",
      "En nueva caledonia, su moneda se llama franco cfp\n",
      "En nueva zelanda, su moneda se llama dolar neozelandes\n",
      "En oman, su moneda se llama rial omani\n",
      "En paises miembros del banco africano de desarrollo, su moneda se llama bad unidad de cuentas\n",
      "En pakistan, su moneda se llama rupia pakistani\n",
      "En palau, su moneda se llama dolar estadounidense\n",
      "En panama, su moneda se llama balboa\n",
      "En papua nueva guinea, su moneda se llama kina\n",
      "En paraguay, su moneda se llama guarani\n",
      "En peru, su moneda se llama nuevo sol\n",
      "En pitcairn, su moneda se llama dolar neozelandes\n",
      "En polinesia francesa, su moneda se llama franco cfp\n",
      "En polonia, su moneda se llama zloty\n",
      "En portugal, su moneda se llama euro\n",
      "En puerto rico, su moneda se llama dolar estadounidense\n",
      "En qatar, su moneda se llama riyal catari\n",
      "En reino unido de gran bretana e irlanda del norte, su moneda se llama libra esterlina\n",
      "En republica democratica popular lao, su moneda se llama kip laosiano\n",
      "En republica bolivariana de venezuela, su moneda se llama bolivar\n",
      "En republica centroafricana (la), su moneda se llama franco cfa de africa central\n",
      "En republica checa, su moneda se llama czech koruna\n",
      "En republica de corea del sur, su moneda se llama won\n",
      "En republica de moldavia, su moneda se llama leu moldavo\n",
      "En republica democratica de corea del norte, su moneda se llama won norcoreano\n",
      "En republica dominicana, su moneda se llama peso dominicano\n",
      "En republica islamica de iran, su moneda se llama rial irani\n",
      "En republica unida de tanzania, su moneda se llama chelin tanzano\n",
      "En republica arabe siria, su moneda se llama libra siria\n",
      "En ruanda, su moneda se llama franco ruandes\n",
      "En rumania, su moneda se llama leu rumano\n",
      "En rusia, su moneda se llama rublo ruso\n",
      "En sahara occidental, su moneda se llama dirham marroqui\n",
      "En samoa, su moneda se llama tala\n",
      "En samoa americana, su moneda se llama dolar estadounidense\n",
      "En san bartolome, su moneda se llama euro\n",
      "En san cristobal y nieves, su moneda se llama dolar del caribe oriental\n",
      "En san marino, su moneda se llama euro\n",
      "En san martin, su moneda se llama euro\n",
      "En san martin (parte holandesa), su moneda se llama florin holandes\n",
      "En san pedro y miquelon, su moneda se llama euro\n",
      "En san tome y principe, su moneda se llama dobra\n",
      "En san vicente y las granadinas, su moneda se llama dolar del caribe oriental\n",
      "En santa helena ascencion y tristan de acuna, su moneda se llama libra de santa helena\n",
      "En santa lucia, su moneda se llama dolar del caribe oriental\n",
      "En santa sede, su moneda se llama euro\n",
      "En senegal, su moneda se llama franco cfa de africa occidental\n",
      "En serbia, su moneda se llama dinar serbio\n",
      "En seychelles, su moneda se llama rupia de seychelles\n",
      "En sierra leona, su moneda se llama leone\n",
      "En singapur, su moneda se llama dolar de singapur\n",
      "En somalia, su moneda se llama chelin somali\n",
      "En sri lanka, su moneda se llama rupia de sri lanka\n",
      "En suazilandia, su moneda se llama lilangeni\n",
      "En sudafrica, su moneda se llama rand\n",
      "En sudan, su moneda se llama libra sudanesa\n",
      "En sudan del sur, su moneda se llama libra sursudanesa\n",
      "En suecia, su moneda se llama corona sueca\n",
      "En suiza, su moneda se llama franco suizo\n",
      "En surinam, su moneda se llama dolar de surinam\n",
      "En tailandia, su moneda se llama baht\n",
      "En taiwan (provincia de china), su moneda se llama nuevo dolar de taiwan\n",
      "En tajikistan, su moneda se llama somoni\n",
      "En territorio britanico del oceano indico, su moneda se llama dolar estadounidense\n",
      "En territorios australes franceses, su moneda se llama euro\n",
      "En timor oriental, su moneda se llama dolar estadounidense\n",
      "En togo, su moneda se llama franco cfa de africa occidental\n",
      "En tokelau, su moneda se llama dolar neozelandes\n",
      "En tonga, su moneda se llama paanga\n",
      "En trinidad y tobago, su moneda se llama dolar de trinidad y tobago\n",
      "En turmenistan, su moneda se llama manat turcomano\n",
      "En turquia, su moneda se llama lira turca\n",
      "En tuvalu, su moneda se llama dolar tuvaluano\n",
      "En tunez, su moneda se llama dinar tunecino\n",
      "En uganda, su moneda se llama chelin ugandes\n",
      "En ukrania, su moneda se llama grivnia\n",
      "En uruguay, su moneda se llama peso uruguayo\n",
      "En uzbekistan, su moneda se llama som uzbeko\n",
      "En vanuatu, su moneda se llama vatu\n",
      "En vietnam, su moneda se llama dong\n",
      "En wallis y futuna, su moneda se llama franco cfp\n",
      "En yemen, su moneda se llama rial yemeni\n",
      "En yibuti, su moneda se llama franco yibutiano\n",
      "En zambia, su moneda se llama kwacha zambiano\n",
      "En zimbabue, su moneda se llama dolar zimbabuense\n"
     ]
    }
   ],
   "source": [
    "for llave, valor in monedas.items():\n",
    "    print(f'En {llave}, su moneda se llama {valor}')"
   ]
  },
  {
   "cell_type": "code",
   "execution_count": 18,
   "metadata": {},
   "outputs": [
    {
     "name": "stdout",
     "output_type": "stream",
     "text": [
      "En Afganistan, su moneda se llama AFGANI AFGANO\n",
      "En Albania, su moneda se llama LEK\n",
      "En Alemania, su moneda se llama EURO\n",
      "En Algeria, su moneda se llama DINAR ARGELINO\n",
      "En Andorra, su moneda se llama EURO\n",
      "En Angola, su moneda se llama KWANZA ANGOLENO\n",
      "En Anguilla, su moneda se llama DOLAR DEL CARIBE ORIENTAL\n",
      "En Antigua Y Barbuda, su moneda se llama DOLAR DEL CARIBE ORIENTAL\n",
      "En Antartica, su moneda se llama SIN DIVISA UNIVERSAL\n",
      "En Arabia Saudita, su moneda se llama RIYAL SAUDI\n",
      "En Argentina, su moneda se llama PESO ARGENTINO\n",
      "En Armenia, su moneda se llama DRAM ARMENIO\n",
      "En Aruba, su moneda se llama FLORIN ARUBENO\n",
      "En Australia, su moneda se llama DOLAR AUSTRALIANO\n",
      "En Austria, su moneda se llama EURO\n",
      "En Azerbaiyan, su moneda se llama MANAT AZERBAIYANO\n",
      "En Bahamas (Las), su moneda se llama DOLAR BAHAMENO\n",
      "En Bangladesh, su moneda se llama TAKA\n",
      "En Barbados, su moneda se llama DOLAR DE BARBADOS\n",
      "En Barein, su moneda se llama DINAR BAREINI\n",
      "En Belice, su moneda se llama DOLAR BELICENO\n",
      "En Benin, su moneda se llama FRANCO CFA DE AFRICA OCCIDENTAL\n",
      "En Bermuda, su moneda se llama DOLAR BERMUDENO\n",
      "En Bielorrusia, su moneda se llama RUBLO BIELORRUSO\n",
      "En Birmania, su moneda se llama KYAT BIRMANO\n",
      "En Bolivia (Estado Plurinacional De), su moneda se llama BOLIVIANO\n",
      "En Bonaire, San Eustaquio Y Saba, su moneda se llama DOLAR ESTADOUNIDENSE\n",
      "En Bosnia Y Herzegovina, su moneda se llama MARCO BOSNIOHERZEGOVINO\n",
      "En Botsuana, su moneda se llama PULA\n",
      "En Brasil, su moneda se llama REAL BRASILENO\n",
      "En Brunei Darussalam, su moneda se llama DOLAR DE BRUNEI\n",
      "En Bulgaria, su moneda se llama LEV\n",
      "En Burkina Faso, su moneda se llama FRANCO CFA DE AFRICA OCCIDENTAL\n",
      "En Burundi, su moneda se llama FRANCO BURUNDES\n",
      "En Butan, su moneda se llama NGULTRUM BUTANES\n",
      "En Belgica, su moneda se llama EURO\n",
      "En Cabo Verde, su moneda se llama ESCUDO CABOVERDIANO\n",
      "En Camboya, su moneda se llama RIEL CAMBOYANO\n",
      "En Camerun, su moneda se llama FRANCO CFA DE AFRICA CENTRAL\n",
      "En Canada, su moneda se llama DOLAR CANADIENSE\n",
      "En Chad, su moneda se llama FRANCO CFA DE AFRICA CENTRAL\n",
      "En Chile, su moneda se llama PESO CHILENO\n",
      "En China, su moneda se llama RENMINBI\n",
      "En Chipre, su moneda se llama EURO\n",
      "En Colombia, su moneda se llama PESO COLOMBIANO\n",
      "En Comoras, su moneda se llama FRANCO COMORENSE\n",
      "En Congo (Republica Democratic Del), su moneda se llama FRANCO CONGOLENO\n",
      "En Costa De Marfil, su moneda se llama FRANCO CFA DE AFRICA OCCIDENTAL\n",
      "En Costa Rica, su moneda se llama COLON COSTARRICENSE\n",
      "En Croacia, su moneda se llama KUNA\n",
      "En Cuba, su moneda se llama PESO CUBANO\n",
      "En Curazao, su moneda se llama FLORIN ANTILLANO NEERLANDES\n",
      "En Dinamarca, su moneda se llama CORONA DANESA\n",
      "En Dominica, su moneda se llama DOLAR DEL CARIBE ORIENTAL\n",
      "En Ecuador, su moneda se llama DOLAR ESTADOUNIDENSE\n",
      "En Egipto, su moneda se llama LIBRA EGIPCIA\n",
      "En El Salvador, su moneda se llama COLON\n",
      "En Emiratos Arabes Unidos, su moneda se llama DIRHAM DE EAU\n",
      "En Eritrea, su moneda se llama NAKFA\n",
      "En Eslovaquia, su moneda se llama EURO\n",
      "En Eslovenia, su moneda se llama EURO\n",
      "En Espana, su moneda se llama EURO\n",
      "En Estado De Palestina, su moneda se llama SIN DIVISA UNIVERSAL\n",
      "En Estados Unidos De America, su moneda se llama DOLAR ESTADOUNIDENSE\n",
      "En Estonia, su moneda se llama EURO\n",
      "En Etiopia, su moneda se llama BIRR ETIOPE\n",
      "En Fiji, su moneda se llama DOLAR FIYIANO\n",
      "En Filipinas, su moneda se llama PESO FILIPINO\n",
      "En Finlandia, su moneda se llama EURO\n",
      "En Francia, su moneda se llama EURO\n",
      "En Gabon, su moneda se llama FRANCO CFA DE AFRICA CENTRAL\n",
      "En Gambia, su moneda se llama DALASI\n",
      "En Georgia, su moneda se llama LARI\n",
      "En Ghana, su moneda se llama CEDI\n",
      "En Gibraltar, su moneda se llama LIBRA GIBRALTARENA\n",
      "En Granada, su moneda se llama DOLAR DEL CARIBE ORIENTAL\n",
      "En Grecia, su moneda se llama EURO\n",
      "En Groenlandia, su moneda se llama CORONA DANESA\n",
      "En Guadalupe, su moneda se llama EURO\n",
      "En Guam, su moneda se llama DOLAR ESTADOUNIDENSE\n",
      "En Guatemala, su moneda se llama QUETZAL\n",
      "En Guernsey, su moneda se llama LIBRA ESTERLINA\n",
      "En Guinea, su moneda se llama FRANCO GUINEANO\n",
      "En Guinea Ecuatorial, su moneda se llama FRANCO CFA DE AFRICA CENTRAL\n",
      "En Guinea-Bissau, su moneda se llama FRANCO CFA DE AFRICA OCCIDENTAL\n",
      "En Guyana, su moneda se llama DOLAR GUYANES\n",
      "En Guyana Francesa, su moneda se llama EURO\n",
      "En Haiti, su moneda se llama GOURDE\n",
      "En Holanda, su moneda se llama EURO\n",
      "En Honduras, su moneda se llama LEMPIRA\n",
      "En Hong Kong, su moneda se llama DOLAR DE HONG KONG\n",
      "En Hungria, su moneda se llama FORINTO HUNGARO\n",
      "En India, su moneda se llama RUPIA INDIA\n",
      "En Indonesia, su moneda se llama RUPIA INDONESIA\n",
      "En Irak, su moneda se llama DINAR IRAQUI\n",
      "En Irlanda, su moneda se llama EURO\n",
      "En Isla Bouvet, su moneda se llama CORONA NORUEGA\n",
      "En Isla De Man, su moneda se llama LIBRA ESTERLINA\n",
      "En Isla De Navidad, su moneda se llama DOLAR AUSTRALIANO\n",
      "En Isla Norfolk, su moneda se llama DOLAR AUSTRALIANO\n",
      "En Islandia, su moneda se llama CORONA ISLANDESA\n",
      "En Islas Caiman (Las), su moneda se llama DOLAR DE LAS ISLAS CAYMAN\n",
      "En Islas Cocos (Keeling), su moneda se llama DOLAR AUSTRALIANO\n",
      "En Islas Cook (Las), su moneda se llama DOLAR DE LA ISLAS COOK\n",
      "En Islas Faroe, su moneda se llama CORONA DANESA\n",
      "En Islas Georgia Del Sur Y Sandwich Del Sur, su moneda se llama SIN DIVISA UNIVERSAL\n",
      "En Islas Heard Y Mcdonald, su moneda se llama DOLAR AUSTRALIANO\n",
      "En Islas Malvinas, su moneda se llama LIBRA MALVINENSE\n",
      "En Islas Marians Del Norte, su moneda se llama DOLAR ESTADOUNIDENSE\n",
      "En Islas Marshall, su moneda se llama DOLAR ESTADOUNIDENSE\n",
      "En Islas Salomon, su moneda se llama DOLAR DE ISLAS SALOMON\n",
      "En Islas Svalbard Y Jan Mayen, su moneda se llama CORONA NORUEGA\n",
      "En Islas Turcos Y Caicos, su moneda se llama DOLAR ESTADOUNIDENSE\n",
      "En Islas Ultramarinas Menores De Ee. Uu., su moneda se llama DOLAR ESTADOUNIDENSE\n",
      "En Islas Virgenes (Eeuu), su moneda se llama DOLAR ESTADOUNIDENSE\n",
      "En Islas Virgenes Britanicas, su moneda se llama DOLAR ESTADOUNIDENSE\n",
      "En Islas Aland, su moneda se llama EURO\n",
      "En Israel, su moneda se llama NUEVO SEQUEL\n",
      "En Italia, su moneda se llama EURO\n",
      "En Jamaica, su moneda se llama DOLAR JAMAIQUINO\n",
      "En Japon, su moneda se llama YEN\n",
      "En Jersey, su moneda se llama LIBRA ESTERLINA\n",
      "En Jordania, su moneda se llama DINAR JORDANO\n",
      "En Kazajistan, su moneda se llama TENGE KAZAJO\n",
      "En Kenia, su moneda se llama CHELIN KENIANO\n",
      "En Kirguistan, su moneda se llama SOM\n",
      "En Kiribati, su moneda se llama DOLAR AUSTRALIANO\n",
      "En Kuwait, su moneda se llama DINAR KUWAITI\n",
      "En Lesoto, su moneda se llama LOTI\n",
      "En Letonia, su moneda se llama EURO\n",
      "En Liberia, su moneda se llama DOLAR LIBERIANO\n",
      "En Libia, su moneda se llama DINAR LIBIO\n",
      "En Liechtenstein, su moneda se llama FRANCO SUIZO\n",
      "En Lituania, su moneda se llama EURO\n",
      "En Luxemburgo, su moneda se llama EURO\n",
      "En Libano, su moneda se llama LIBRA LIBANESA\n",
      "En Macao, su moneda se llama PATACA\n",
      "En Macedonia, su moneda se llama DINAR\n",
      "En Madagascar, su moneda se llama ARIARY MALGACHE\n",
      "En Malasia, su moneda se llama RINGGIT MALAYO\n",
      "En Malawi, su moneda se llama KWACHA MALAUI\n",
      "En Maldivas, su moneda se llama RUPIA DE MALDIVAS\n",
      "En Malta, su moneda se llama EURO\n",
      "En Mali, su moneda se llama FRANCO CFA DE AFRICA OCCIDENTAL\n",
      "En Marruecos, su moneda se llama DIRHAM MARROQUI\n",
      "En Martinica, su moneda se llama EURO\n",
      "En Mauricio, su moneda se llama RUPIA DE MAURICIO\n",
      "En Mauritania, su moneda se llama UGUIYA\n",
      "En Mayotte, su moneda se llama EURO\n",
      "En Micronesia, su moneda se llama DOLAR ESTADOUNIDENSE\n",
      "En Mongolia, su moneda se llama TUGRIK\n",
      "En Montenegro, su moneda se llama EURO\n",
      "En Montserrat, su moneda se llama DOLAR DEL CARIBE ORIENTAL\n",
      "En Mozambique, su moneda se llama METICAL MOZAMBIQUENO\n",
      "En Mexico, su moneda se llama PESO MEXICANO\n",
      "En Monaco, su moneda se llama EURO\n",
      "En Namibia, su moneda se llama DOLAR DE NAMIBIA\n",
      "En Nauru, su moneda se llama DOLAR AUSTRALIANO\n",
      "En Nepal, su moneda se llama RUPIA NEPALI\n",
      "En Nicaragua, su moneda se llama CORDOBA ORO\n",
      "En Nigeria, su moneda se llama NAIRA\n",
      "En Niue, su moneda se llama DOLAR NEOZELANDES\n",
      "En Noruega, su moneda se llama CORONA NORUEGA\n",
      "En Nueva Caledonia, su moneda se llama FRANCO CFP\n",
      "En Nueva Zelanda, su moneda se llama DOLAR NEOZELANDES\n",
      "En Oman, su moneda se llama RIAL OMANI\n",
      "En Paises Miembros Del Banco Africano De Desarrollo, su moneda se llama BAD UNIDAD DE CUENTAS\n",
      "En Pakistan, su moneda se llama RUPIA PAKISTANI\n",
      "En Palau, su moneda se llama DOLAR ESTADOUNIDENSE\n",
      "En Panama, su moneda se llama BALBOA\n",
      "En Papua Nueva Guinea, su moneda se llama KINA\n",
      "En Paraguay, su moneda se llama GUARANI\n",
      "En Peru, su moneda se llama NUEVO SOL\n",
      "En Pitcairn, su moneda se llama DOLAR NEOZELANDES\n",
      "En Polinesia Francesa, su moneda se llama FRANCO CFP\n",
      "En Polonia, su moneda se llama ZLOTY\n",
      "En Portugal, su moneda se llama EURO\n",
      "En Puerto Rico, su moneda se llama DOLAR ESTADOUNIDENSE\n",
      "En Qatar, su moneda se llama RIYAL CATARI\n",
      "En Reino Unido De Gran Bretana E Irlanda Del Norte, su moneda se llama LIBRA ESTERLINA\n",
      "En Republica Democratica Popular Lao, su moneda se llama KIP LAOSIANO\n",
      "En Republica Bolivariana De Venezuela, su moneda se llama BOLIVAR\n",
      "En Republica Centroafricana (La), su moneda se llama FRANCO CFA DE AFRICA CENTRAL\n",
      "En Republica Checa, su moneda se llama CZECH KORUNA\n",
      "En Republica De Corea Del Sur, su moneda se llama WON\n",
      "En Republica De Moldavia, su moneda se llama LEU MOLDAVO\n",
      "En Republica Democratica De Corea Del Norte, su moneda se llama WON NORCOREANO\n",
      "En Republica Dominicana, su moneda se llama PESO DOMINICANO\n",
      "En Republica Islamica De Iran, su moneda se llama RIAL IRANI\n",
      "En Republica Unida De Tanzania, su moneda se llama CHELIN TANZANO\n",
      "En Republica Arabe Siria, su moneda se llama LIBRA SIRIA\n",
      "En Ruanda, su moneda se llama FRANCO RUANDES\n",
      "En Rumania, su moneda se llama LEU RUMANO\n",
      "En Rusia, su moneda se llama RUBLO RUSO\n",
      "En Sahara Occidental, su moneda se llama DIRHAM MARROQUI\n",
      "En Samoa, su moneda se llama TALA\n",
      "En Samoa Americana, su moneda se llama DOLAR ESTADOUNIDENSE\n",
      "En San Bartolome, su moneda se llama EURO\n",
      "En San Cristobal Y Nieves, su moneda se llama DOLAR DEL CARIBE ORIENTAL\n",
      "En San Marino, su moneda se llama EURO\n",
      "En San Martin, su moneda se llama EURO\n",
      "En San Martin (Parte Holandesa), su moneda se llama FLORIN HOLANDES\n",
      "En San Pedro Y Miquelon, su moneda se llama EURO\n",
      "En San Tome Y Principe, su moneda se llama DOBRA\n",
      "En San Vicente Y Las Granadinas, su moneda se llama DOLAR DEL CARIBE ORIENTAL\n",
      "En Santa Helena Ascencion Y Tristan De Acuna, su moneda se llama LIBRA DE SANTA HELENA\n",
      "En Santa Lucia, su moneda se llama DOLAR DEL CARIBE ORIENTAL\n",
      "En Santa Sede, su moneda se llama EURO\n",
      "En Senegal, su moneda se llama FRANCO CFA DE AFRICA OCCIDENTAL\n",
      "En Serbia, su moneda se llama DINAR SERBIO\n",
      "En Seychelles, su moneda se llama RUPIA DE SEYCHELLES\n",
      "En Sierra Leona, su moneda se llama LEONE\n",
      "En Singapur, su moneda se llama DOLAR DE SINGAPUR\n",
      "En Somalia, su moneda se llama CHELIN SOMALI\n",
      "En Sri Lanka, su moneda se llama RUPIA DE SRI LANKA\n",
      "En Suazilandia, su moneda se llama LILANGENI\n",
      "En Sudafrica, su moneda se llama RAND\n",
      "En Sudan, su moneda se llama LIBRA SUDANESA\n",
      "En Sudan Del Sur, su moneda se llama LIBRA SURSUDANESA\n",
      "En Suecia, su moneda se llama CORONA SUECA\n",
      "En Suiza, su moneda se llama FRANCO SUIZO\n",
      "En Surinam, su moneda se llama DOLAR DE SURINAM\n",
      "En Tailandia, su moneda se llama BAHT\n",
      "En Taiwan (Provincia De China), su moneda se llama NUEVO DOLAR DE TAIWAN\n",
      "En Tajikistan, su moneda se llama SOMONI\n",
      "En Territorio Britanico Del Oceano Indico, su moneda se llama DOLAR ESTADOUNIDENSE\n",
      "En Territorios Australes Franceses, su moneda se llama EURO\n",
      "En Timor Oriental, su moneda se llama DOLAR ESTADOUNIDENSE\n",
      "En Togo, su moneda se llama FRANCO CFA DE AFRICA OCCIDENTAL\n",
      "En Tokelau, su moneda se llama DOLAR NEOZELANDES\n",
      "En Tonga, su moneda se llama PAANGA\n",
      "En Trinidad Y Tobago, su moneda se llama DOLAR DE TRINIDAD Y TOBAGO\n",
      "En Turmenistan, su moneda se llama MANAT TURCOMANO\n",
      "En Turquia, su moneda se llama LIRA TURCA\n",
      "En Tuvalu, su moneda se llama DOLAR TUVALUANO\n",
      "En Tunez, su moneda se llama DINAR TUNECINO\n",
      "En Uganda, su moneda se llama CHELIN UGANDES\n",
      "En Ukrania, su moneda se llama GRIVNIA\n",
      "En Uruguay, su moneda se llama PESO URUGUAYO\n",
      "En Uzbekistan, su moneda se llama SOM UZBEKO\n",
      "En Vanuatu, su moneda se llama VATU\n",
      "En Vietnam, su moneda se llama DONG\n",
      "En Wallis Y Futuna, su moneda se llama FRANCO CFP\n",
      "En Yemen, su moneda se llama RIAL YEMENI\n",
      "En Yibuti, su moneda se llama FRANCO YIBUTIANO\n",
      "En Zambia, su moneda se llama KWACHA ZAMBIANO\n",
      "En Zimbabue, su moneda se llama DOLAR ZIMBABUENSE\n"
     ]
    }
   ],
   "source": [
    "for llave, valor in monedas.items():\n",
    "    print(f'En {llave.title()}, su moneda se llama {valor.upper()}')"
   ]
  },
  {
   "cell_type": "markdown",
   "metadata": {},
   "source": [
    "## Nested Dict"
   ]
  },
  {
   "cell_type": "markdown",
   "metadata": {},
   "source": [
    "<table>\n",
    "    <tr>\n",
    "        <th>País</th>\n",
    "        <th>Moneda</th>\n",
    "        <th>Código Alfanumérico</th>\n",
    "        <th>Código numérico</th>\n",
    "    </tr>\n",
    "    <tr>\n",
    "        <td>México</td>\n",
    "        <td>Peso Mexicano</td>\n",
    "        <td>MXN</td>\n",
    "        <td>484</td>\n",
    "    </tr>\n",
    "    <tr>\n",
    "        <td>Estados Unidos</td>\n",
    "        <td>Dólar Americano</td>\n",
    "        <td>USD</td>\n",
    "        <td>840</td>\n",
    "    </tr>\n",
    "</table>"
   ]
  },
  {
   "cell_type": "code",
   "execution_count": 19,
   "metadata": {},
   "outputs": [],
   "source": [
    "pais ={\n",
    "'mexico':{\n",
    "    'moneda':'peso mexicano',\n",
    "    'codigo':'MXN',\n",
    "    'numerico':'484'},\n",
    "'estados unidos':{\n",
    "    'moneda':'dolar americano',\n",
    "    'codigo':'USD',\n",
    "    'numerico':'840'}\n",
    "}"
   ]
  },
  {
   "cell_type": "code",
   "execution_count": 20,
   "metadata": {},
   "outputs": [
    {
     "data": {
      "text/plain": [
       "{'mexico': {'moneda': 'peso mexicano', 'codigo': 'MXN', 'numerico': '484'},\n",
       " 'estados unidos': {'moneda': 'dolar americano',\n",
       "  'codigo': 'USD',\n",
       "  'numerico': '840'}}"
      ]
     },
     "execution_count": 20,
     "metadata": {},
     "output_type": "execute_result"
    }
   ],
   "source": [
    "pais"
   ]
  },
  {
   "cell_type": "code",
   "execution_count": 21,
   "metadata": {},
   "outputs": [
    {
     "data": {
      "text/plain": [
       "{'moneda': 'peso mexicano', 'codigo': 'MXN', 'numerico': '484'}"
      ]
     },
     "execution_count": 21,
     "metadata": {},
     "output_type": "execute_result"
    }
   ],
   "source": [
    "pais['mexico']"
   ]
  },
  {
   "cell_type": "code",
   "execution_count": 22,
   "metadata": {},
   "outputs": [
    {
     "data": {
      "text/plain": [
       "'peso mexicano'"
      ]
     },
     "execution_count": 22,
     "metadata": {},
     "output_type": "execute_result"
    }
   ],
   "source": [
    "pais['mexico']['moneda']"
   ]
  },
  {
   "cell_type": "code",
   "execution_count": 23,
   "metadata": {},
   "outputs": [
    {
     "data": {
      "text/plain": [
       "'MXN'"
      ]
     },
     "execution_count": 23,
     "metadata": {},
     "output_type": "execute_result"
    }
   ],
   "source": [
    "pais['mexico']['codigo']"
   ]
  },
  {
   "cell_type": "code",
   "execution_count": 24,
   "metadata": {},
   "outputs": [
    {
     "data": {
      "text/plain": [
       "'484'"
      ]
     },
     "execution_count": 24,
     "metadata": {},
     "output_type": "execute_result"
    }
   ],
   "source": [
    "pais['mexico']['numerico']"
   ]
  },
  {
   "cell_type": "code",
   "execution_count": 25,
   "metadata": {},
   "outputs": [
    {
     "data": {
      "text/plain": [
       "'840'"
      ]
     },
     "execution_count": 25,
     "metadata": {},
     "output_type": "execute_result"
    }
   ],
   "source": [
    "pais['estados unidos']['numerico']"
   ]
  },
  {
   "cell_type": "markdown",
   "metadata": {},
   "source": [
    "### Hacer for loop en un nested dict"
   ]
  },
  {
   "cell_type": "code",
   "execution_count": 26,
   "metadata": {},
   "outputs": [
    {
     "name": "stdout",
     "output_type": "stream",
     "text": [
      "mexico\n",
      "estados unidos\n"
     ]
    }
   ],
   "source": [
    "for llave in pais.keys():\n",
    "    print(llave)"
   ]
  },
  {
   "cell_type": "code",
   "execution_count": 27,
   "metadata": {},
   "outputs": [
    {
     "name": "stdout",
     "output_type": "stream",
     "text": [
      "{'moneda': 'peso mexicano', 'codigo': 'MXN', 'numerico': '484'}\n",
      "{'moneda': 'dolar americano', 'codigo': 'USD', 'numerico': '840'}\n"
     ]
    }
   ],
   "source": [
    "for valor in pais.values():\n",
    "    print(valor)"
   ]
  },
  {
   "cell_type": "code",
   "execution_count": 28,
   "metadata": {},
   "outputs": [
    {
     "name": "stdout",
     "output_type": "stream",
     "text": [
      "mexico {'moneda': 'peso mexicano', 'codigo': 'MXN', 'numerico': '484'}\n",
      "estados unidos {'moneda': 'dolar americano', 'codigo': 'USD', 'numerico': '840'}\n"
     ]
    }
   ],
   "source": [
    "for llave, valor in pais.items():\n",
    "    print(llave, valor)"
   ]
  },
  {
   "cell_type": "code",
   "execution_count": 29,
   "metadata": {},
   "outputs": [
    {
     "name": "stdout",
     "output_type": "stream",
     "text": [
      "mexico\n",
      "moneda peso mexicano\n",
      "codigo MXN\n",
      "numerico 484\n",
      "estados unidos\n",
      "moneda dolar americano\n",
      "codigo USD\n",
      "numerico 840\n"
     ]
    }
   ],
   "source": [
    "for llave, valor in pais.items():\n",
    "    print(llave)\n",
    "    for llave_int, valor_int in valor.items():\n",
    "        print(llave_int, valor_int)"
   ]
  },
  {
   "cell_type": "code",
   "execution_count": 30,
   "metadata": {},
   "outputs": [
    {
     "name": "stdout",
     "output_type": "stream",
     "text": [
      "\n",
      "Información de la moneda en MEXICO:\n",
      "\tmoneda: peso mexicano\n",
      "\tcodigo: MXN\n",
      "\tnumerico: 484\n",
      "\n",
      "Información de la moneda en ESTADOS UNIDOS:\n",
      "\tmoneda: dolar americano\n",
      "\tcodigo: USD\n",
      "\tnumerico: 840\n"
     ]
    }
   ],
   "source": [
    "for llave, valor in pais.items():\n",
    "    print(f'\\nInformación de la moneda en {llave.upper()}:')\n",
    "    for llave_int, valor_int in valor.items():\n",
    "        print(f'\\t{llave_int}: {valor_int}')"
   ]
  },
  {
   "cell_type": "markdown",
   "metadata": {},
   "source": [
    "### Nuevos datos en un nested dict"
   ]
  },
  {
   "cell_type": "markdown",
   "metadata": {},
   "source": [
    "<table>\n",
    "    <tr>\n",
    "        <th>País</th>\n",
    "        <th>Moneda</th>\n",
    "    </tr>\n",
    "    <tr>\n",
    "        <td>El Salvador</td>\n",
    "        <td>Colón</td>\n",
    "    </tr>\n",
    "</table>\n",
    "\n",
    "<table>\n",
    "    <tr>\n",
    "        <th>País</th>\n",
    "        <th>Moneda</th>\n",
    "        <th>Código Alfanumérico</th>\n",
    "        <th>Código numérico</th>\n",
    "    </tr>\n",
    "    <tr>\n",
    "        <td>México</td>\n",
    "        <td>Peso Mexicano</td>\n",
    "        <td>MXN</td>\n",
    "        <td>484</td>\n",
    "    </tr>\n",
    "    <tr>\n",
    "        <td>Estados Unidos</td>\n",
    "        <td>Dólar Americano</td>\n",
    "        <td>USD</td>\n",
    "        <td>840</td>\n",
    "    </tr>\n",
    "</table>\n",
    "    "
   ]
  },
  {
   "cell_type": "markdown",
   "metadata": {},
   "source": [
    "#### Actualizar titulos de tabla a nombre de llaves (etiquetas)"
   ]
  },
  {
   "cell_type": "markdown",
   "metadata": {},
   "source": [
    "<table>\n",
    "    <tr>\n",
    "        <th>pais</th>\n",
    "        <th>moneda</th>\n",
    "        <th>codigo</th>\n",
    "        <th>numerico</th>\n",
    "    </tr>\n",
    "    <tr>\n",
    "        <td>México</td>\n",
    "        <td>Peso Mexicano</td>\n",
    "        <td>MXN</td>\n",
    "        <td>484</td>\n",
    "    </tr>\n",
    "    <tr>\n",
    "        <td>Estados Unidos</td>\n",
    "        <td>Dólar Americano</td>\n",
    "        <td>USD</td>\n",
    "        <td>840</td>\n",
    "    </tr>\n",
    "</table>\n",
    "    "
   ]
  },
  {
   "cell_type": "markdown",
   "metadata": {},
   "source": [
    "#### Agregar a España"
   ]
  },
  {
   "cell_type": "code",
   "execution_count": 31,
   "metadata": {},
   "outputs": [],
   "source": [
    "pais['espana'] = {'moneda':'euro', 'codigo':'eur', 'numerico':'200'}"
   ]
  },
  {
   "cell_type": "code",
   "execution_count": 32,
   "metadata": {},
   "outputs": [
    {
     "name": "stdout",
     "output_type": "stream",
     "text": [
      "\n",
      "Información de la moneda en MEXICO:\n",
      "\tmoneda: peso mexicano\n",
      "\tcodigo: MXN\n",
      "\tnumerico: 484\n",
      "\n",
      "Información de la moneda en ESTADOS UNIDOS:\n",
      "\tmoneda: dolar americano\n",
      "\tcodigo: USD\n",
      "\tnumerico: 840\n",
      "\n",
      "Información de la moneda en ESPANA:\n",
      "\tmoneda: euro\n",
      "\tcodigo: eur\n",
      "\tnumerico: 200\n"
     ]
    }
   ],
   "source": [
    "for llave, valor in pais.items():\n",
    "    print(f'\\nInformación de la moneda en {llave.upper()}:')\n",
    "    for llave_int, valor_int in valor.items():\n",
    "        print(f'\\t{llave_int}: {valor_int}')"
   ]
  },
  {
   "cell_type": "markdown",
   "metadata": {},
   "source": [
    "# Función `range( )` en `for loops`"
   ]
  },
  {
   "cell_type": "code",
   "execution_count": null,
   "metadata": {},
   "outputs": [],
   "source": []
  },
  {
   "cell_type": "markdown",
   "metadata": {},
   "source": [
    "# While loop"
   ]
  },
  {
   "cell_type": "code",
   "execution_count": 33,
   "metadata": {},
   "outputs": [
    {
     "name": "stdout",
     "output_type": "stream",
     "text": [
      "1\n",
      "2\n",
      "3\n",
      "4\n",
      "5\n"
     ]
    }
   ],
   "source": [
    "contador = 1\n",
    "\n",
    "while contador < 6:\n",
    "    print(contador)\n",
    "    contador = contador + 1\n",
    "#    contador += 1"
   ]
  },
  {
   "cell_type": "markdown",
   "metadata": {},
   "source": [
    "## Loops infinitos \n",
    "Los podemos romper con `control x`, `control c` o con el botón `break`"
   ]
  },
  {
   "cell_type": "code",
   "execution_count": null,
   "metadata": {},
   "outputs": [],
   "source": [
    "contador = 1\n",
    "\n",
    "while contador < 6:\n",
    "    print(contador)\n",
    "    \n",
    "contador = contador + 1"
   ]
  },
  {
   "cell_type": "markdown",
   "metadata": {},
   "source": [
    "# IF's"
   ]
  },
  {
   "cell_type": "markdown",
   "metadata": {},
   "source": [
    "<table>\n",
    "    <tr>\n",
    "        <th>Operación</th>\n",
    "        <th>Símbolo</th>\n",
    "    </tr>\n",
    "    <tr>\n",
    "        <td>Mayor</td>\n",
    "        <td>></td>\n",
    "    </tr>\n",
    "    <tr>\n",
    "        <td>Mayor igual</td>\n",
    "        <td>>=</td>\n",
    "    </tr>\n",
    "    <tr>\n",
    "        <td>Menor</td>\n",
    "        <td>&lt;</td>\n",
    "    </tr>\n",
    "    <tr>\n",
    "        <td>Menor igual</td>\n",
    "        <td>&lt;=</td>\n",
    "    </tr>\n",
    "    <tr>\n",
    "        <td>Igualdad</td>\n",
    "        <td>==<td>\n",
    "    </tr>\n",
    "    <tr>\n",
    "        <td>Desigualdad</td>\n",
    "        <td>=!</td>\n",
    "</table>\n",
    "    \n",
    "        "
   ]
  },
  {
   "cell_type": "markdown",
   "metadata": {},
   "source": [
    "## Ejemplo"
   ]
  },
  {
   "cell_type": "code",
   "execution_count": 36,
   "metadata": {},
   "outputs": [],
   "source": [
    "oferta_criptos = ['btc','eth', 'ada', 'xrp', 'ltc', 'dodge']"
   ]
  },
  {
   "cell_type": "code",
   "execution_count": 37,
   "metadata": {},
   "outputs": [
    {
     "name": "stdout",
     "output_type": "stream",
     "text": [
      "btc: Ejecutar operación\n"
     ]
    }
   ],
   "source": [
    "for oferta in oferta_criptos:\n",
    "    \n",
    "    if oferta == 'btc':\n",
    "        print(f'{oferta}: Ejecutar operación')"
   ]
  },
  {
   "cell_type": "markdown",
   "metadata": {},
   "source": [
    "## `else`"
   ]
  },
  {
   "cell_type": "code",
   "execution_count": 38,
   "metadata": {},
   "outputs": [
    {
     "name": "stdout",
     "output_type": "stream",
     "text": [
      "btc: Ejecutar operación\n",
      "eth: Operación rechazada\n",
      "ada: Operación rechazada\n",
      "xrp: Operación rechazada\n",
      "ltc: Operación rechazada\n",
      "dodge: Operación rechazada\n"
     ]
    }
   ],
   "source": [
    "for oferta in oferta_criptos:\n",
    "    \n",
    "    if oferta == 'btc':\n",
    "        print(f'{oferta}: Ejecutar operación')\n",
    "    else:\n",
    "        print(f'{oferta}: Operación rechazada')"
   ]
  },
  {
   "cell_type": "markdown",
   "metadata": {},
   "source": [
    "## `elif`'s"
   ]
  },
  {
   "cell_type": "code",
   "execution_count": 39,
   "metadata": {},
   "outputs": [
    {
     "name": "stdout",
     "output_type": "stream",
     "text": [
      "btc: Ejecutar operación\n",
      "eth: Regresar en 5min\n",
      "ada: Operación rechazada\n",
      "xrp: Operación rechazada\n",
      "ltc: Operación rechazada\n",
      "dodge: Operación rechazada\n"
     ]
    }
   ],
   "source": [
    "for oferta in oferta_criptos:\n",
    "    \n",
    "    if oferta == 'btc':\n",
    "        print(f'{oferta}: Ejecutar operación')\n",
    "    elif oferta == 'eth':\n",
    "        print(f'{oferta}: Regresar en 5min')\n",
    "    else:\n",
    "        print(f'{oferta}: Operación rechazada')"
   ]
  },
  {
   "cell_type": "markdown",
   "metadata": {},
   "source": [
    "## `or`"
   ]
  },
  {
   "cell_type": "code",
   "execution_count": 40,
   "metadata": {},
   "outputs": [
    {
     "name": "stdout",
     "output_type": "stream",
     "text": [
      "btc: Ejecutar operación\n",
      "eth: Regresar en 5min\n",
      "ada: Operación rechazada\n",
      "xrp: Operación rechazada\n",
      "ltc: Ejecutar operación\n",
      "dodge: Operación rechazada\n"
     ]
    }
   ],
   "source": [
    "for oferta in oferta_criptos:\n",
    "    \n",
    "    if oferta == 'btc' or oferta == 'ltc':\n",
    "        print(f'{oferta}: Ejecutar operación')\n",
    "    elif oferta == 'eth':\n",
    "        print(f'{oferta}: Regresar en 5min')\n",
    "    else:\n",
    "        print(f'{oferta}: Operación rechazada')"
   ]
  },
  {
   "cell_type": "markdown",
   "metadata": {},
   "source": [
    "## `and`"
   ]
  },
  {
   "cell_type": "code",
   "execution_count": 41,
   "metadata": {},
   "outputs": [
    {
     "name": "stdout",
     "output_type": "stream",
     "text": [
      "btc: Operación rechazada\n",
      "eth: Operación rechazada\n",
      "ada: Operación rechazada\n",
      "xrp: Operación rechazada\n",
      "ltc: Operación rechazada\n",
      "dodge: Operación rechazada\n"
     ]
    }
   ],
   "source": [
    "senial = 0\n",
    "\n",
    "for oferta in oferta_criptos:\n",
    "    if (oferta == 'btc' or oferta == 'eth') and senial == 1:\n",
    "        print(f'{oferta}: Ejecutar operación')\n",
    "    else:\n",
    "        print(f'{oferta}: Operación rechazada')"
   ]
  },
  {
   "cell_type": "markdown",
   "metadata": {},
   "source": [
    "## Verificar si condición está en una lista"
   ]
  },
  {
   "cell_type": "code",
   "execution_count": 42,
   "metadata": {},
   "outputs": [],
   "source": [
    "autorizadas = ['btc','eth', 'ada', 'doge']"
   ]
  },
  {
   "cell_type": "code",
   "execution_count": 43,
   "metadata": {},
   "outputs": [
    {
     "data": {
      "text/plain": [
       "['btc', 'eth', 'ada', 'xrp', 'ltc', 'dodge']"
      ]
     },
     "execution_count": 43,
     "metadata": {},
     "output_type": "execute_result"
    }
   ],
   "source": [
    "oferta_criptos"
   ]
  },
  {
   "cell_type": "code",
   "execution_count": 44,
   "metadata": {},
   "outputs": [
    {
     "name": "stdout",
     "output_type": "stream",
     "text": [
      "btc: Ejecutar operación\n",
      "eth: Ejecutar operación\n",
      "ada: Ejecutar operación\n",
      "xrp: Transacción denegada\n",
      "ltc: Transacción denegada\n",
      "dodge: Transacción denegada\n"
     ]
    }
   ],
   "source": [
    "for oferta in oferta_criptos:\n",
    "    \n",
    "    if oferta in autorizadas:\n",
    "        print(f'{oferta}: Ejecutar operación')\n",
    "    else:\n",
    "        print(f'{oferta}: Transacción denegada')"
   ]
  },
  {
   "cell_type": "markdown",
   "metadata": {},
   "source": [
    "## Verificar si condición NO está en una lista:"
   ]
  },
  {
   "cell_type": "code",
   "execution_count": 45,
   "metadata": {},
   "outputs": [],
   "source": [
    "no_autorizadas = ['xrp','ltc']"
   ]
  },
  {
   "cell_type": "code",
   "execution_count": 46,
   "metadata": {},
   "outputs": [
    {
     "name": "stdout",
     "output_type": "stream",
     "text": [
      "btc: Ejecutar operación\n",
      "eth: Ejecutar operación\n",
      "ada: Ejecutar operación\n",
      "xrp: Transacción denegada\n",
      "ltc: Transacción denegada\n",
      "dodge: Ejecutar operación\n"
     ]
    }
   ],
   "source": [
    "for oferta in oferta_criptos:\n",
    "    \n",
    "    if oferta not in no_autorizadas:\n",
    "        print(f'{oferta}: Ejecutar operación')\n",
    "    else:\n",
    "        print(f'{oferta}: Transacción denegada')"
   ]
  }
 ],
 "metadata": {
  "kernelspec": {
   "display_name": "Python 3",
   "language": "python",
   "name": "python3"
  },
  "language_info": {
   "codemirror_mode": {
    "name": "ipython",
    "version": 3
   },
   "file_extension": ".py",
   "mimetype": "text/x-python",
   "name": "python",
   "nbconvert_exporter": "python",
   "pygments_lexer": "ipython3",
   "version": "3.9.1"
  },
  "varInspector": {
   "cols": {
    "lenName": 16,
    "lenType": 16,
    "lenVar": 40
   },
   "kernels_config": {
    "python": {
     "delete_cmd_postfix": "",
     "delete_cmd_prefix": "del ",
     "library": "var_list.py",
     "varRefreshCmd": "print(var_dic_list())"
    },
    "r": {
     "delete_cmd_postfix": ") ",
     "delete_cmd_prefix": "rm(",
     "library": "var_list.r",
     "varRefreshCmd": "cat(var_dic_list()) "
    }
   },
   "types_to_exclude": [
    "module",
    "function",
    "builtin_function_or_method",
    "instance",
    "_Feature"
   ],
   "window_display": false
  }
 },
 "nbformat": 4,
 "nbformat_minor": 4
}
