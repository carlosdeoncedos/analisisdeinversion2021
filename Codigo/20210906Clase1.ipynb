{
 "cells": [
  {
   "cell_type": "markdown",
   "metadata": {},
   "source": [
    "# MF013 Análisis de inversión:  Introducción a Python\n",
    "Por Carlos Crespo Elizondo, MSF<br>\n",
    "2021-09-06"
   ]
  },
  {
   "cell_type": "markdown",
   "metadata": {},
   "source": [
    "## Función `print`"
   ]
  },
  {
   "cell_type": "code",
   "execution_count": 5,
   "metadata": {},
   "outputs": [
    {
     "name": "stdout",
     "output_type": "stream",
     "text": [
      "Hola mundo!!!\n"
     ]
    }
   ],
   "source": [
    "print(\"Hola mundo!!!\")"
   ]
  },
  {
   "cell_type": "markdown",
   "metadata": {},
   "source": [
    "## Operaciones matemáticas"
   ]
  },
  {
   "cell_type": "markdown",
   "metadata": {},
   "source": [
    "### Operadores matemáticos básicos\n",
    "<table>\n",
    "    <tr>\n",
    "        <th>Operación</th>\n",
    "        <th>Símbolo</th>\n",
    "    </tr>\n",
    "    <tr>\n",
    "        <td>Suma</td>\n",
    "        <td>+</td>\n",
    "    </tr>\n",
    "    <tr>\n",
    "        <td>Resta</td>\n",
    "        <td>-</td>\n",
    "    </tr>\n",
    "    <tr>\n",
    "        <td>Multiplicación</td>\n",
    "        <td>*</td>\n",
    "    </tr>\n",
    "    <tr>\n",
    "        <td>División</td>\n",
    "        <td>/</td>\n",
    "    </tr>\n",
    "    <tr>\n",
    "        <td>Exponente</td>\n",
    "        <td>**</td>\n",
    "    </tr>\n",
    "</table>\n",
    "    "
   ]
  },
  {
   "cell_type": "markdown",
   "metadata": {},
   "source": [
    "#### Suma"
   ]
  },
  {
   "cell_type": "code",
   "execution_count": 8,
   "metadata": {},
   "outputs": [
    {
     "name": "stdout",
     "output_type": "stream",
     "text": [
      "59\n",
      "2\n"
     ]
    }
   ],
   "source": [
    "print(54+5)\n",
    "print(1+1)"
   ]
  },
  {
   "cell_type": "markdown",
   "metadata": {},
   "source": [
    "#### Resta"
   ]
  },
  {
   "cell_type": "code",
   "execution_count": 9,
   "metadata": {},
   "outputs": [
    {
     "data": {
      "text/plain": [
       "46"
      ]
     },
     "execution_count": 9,
     "metadata": {},
     "output_type": "execute_result"
    }
   ],
   "source": [
    "54-8"
   ]
  },
  {
   "cell_type": "markdown",
   "metadata": {},
   "source": [
    "#### Multiplicación"
   ]
  },
  {
   "cell_type": "code",
   "execution_count": 10,
   "metadata": {},
   "outputs": [
    {
     "data": {
      "text/plain": [
       "25"
      ]
     },
     "execution_count": 10,
     "metadata": {},
     "output_type": "execute_result"
    }
   ],
   "source": [
    "5*5"
   ]
  },
  {
   "cell_type": "markdown",
   "metadata": {},
   "source": [
    "#### División"
   ]
  },
  {
   "cell_type": "code",
   "execution_count": 11,
   "metadata": {},
   "outputs": [
    {
     "data": {
      "text/plain": [
       "4.0"
      ]
     },
     "execution_count": 11,
     "metadata": {},
     "output_type": "execute_result"
    }
   ],
   "source": [
    "8/2"
   ]
  },
  {
   "cell_type": "markdown",
   "metadata": {},
   "source": [
    "#### Elevar a un exponente"
   ]
  },
  {
   "cell_type": "code",
   "execution_count": 12,
   "metadata": {},
   "outputs": [
    {
     "data": {
      "text/plain": [
       "8"
      ]
     },
     "execution_count": 12,
     "metadata": {},
     "output_type": "execute_result"
    }
   ],
   "source": [
    "2**3"
   ]
  },
  {
   "cell_type": "markdown",
   "metadata": {},
   "source": [
    "#### Raices"
   ]
  },
  {
   "cell_type": "code",
   "execution_count": 13,
   "metadata": {},
   "outputs": [
    {
     "data": {
      "text/plain": [
       "2.8284271247461903"
      ]
     },
     "execution_count": 13,
     "metadata": {},
     "output_type": "execute_result"
    }
   ],
   "source": [
    "8**.5"
   ]
  },
  {
   "cell_type": "code",
   "execution_count": 14,
   "metadata": {},
   "outputs": [
    {
     "data": {
      "text/plain": [
       "3.0"
      ]
     },
     "execution_count": 14,
     "metadata": {},
     "output_type": "execute_result"
    }
   ],
   "source": [
    "27**(1/3)"
   ]
  },
  {
   "cell_type": "markdown",
   "metadata": {},
   "source": [
    "## Variables"
   ]
  },
  {
   "cell_type": "code",
   "execution_count": 17,
   "metadata": {},
   "outputs": [],
   "source": [
    "a = 8000\n",
    "b = 200"
   ]
  },
  {
   "cell_type": "code",
   "execution_count": 18,
   "metadata": {},
   "outputs": [
    {
     "data": {
      "text/plain": [
       "8200"
      ]
     },
     "execution_count": 18,
     "metadata": {},
     "output_type": "execute_result"
    }
   ],
   "source": [
    "a + b"
   ]
  },
  {
   "cell_type": "code",
   "execution_count": 20,
   "metadata": {},
   "outputs": [
    {
     "name": "stdout",
     "output_type": "stream",
     "text": [
      "14.142135623730951\n"
     ]
    }
   ],
   "source": [
    "c = b**.5\n",
    "print(c)"
   ]
  },
  {
   "cell_type": "code",
   "execution_count": 21,
   "metadata": {},
   "outputs": [
    {
     "data": {
      "text/plain": [
       "14.142135623730951"
      ]
     },
     "execution_count": 21,
     "metadata": {},
     "output_type": "execute_result"
    }
   ],
   "source": [
    "c"
   ]
  },
  {
   "cell_type": "code",
   "execution_count": 22,
   "metadata": {},
   "outputs": [
    {
     "name": "stdout",
     "output_type": "stream",
     "text": [
      "Hola mundo!!!\n"
     ]
    }
   ],
   "source": [
    "mensaje = \"Hola mundo!!!\"\n",
    "print(mensaje)"
   ]
  },
  {
   "cell_type": "code",
   "execution_count": 23,
   "metadata": {},
   "outputs": [
    {
     "name": "stdout",
     "output_type": "stream",
     "text": [
      "Mensaje nuevo\n"
     ]
    }
   ],
   "source": [
    "mensaje = 'Mensaje nuevo'\n",
    "print(mensaje)\n",
    "\n",
    "mensaje_imprimir ="
   ]
  },
  {
   "cell_type": "markdown",
   "metadata": {},
   "source": [
    "### Reglas para nombrar variables"
   ]
  },
  {
   "cell_type": "markdown",
   "metadata": {},
   "source": [
    "El nombre de las variables:\n",
    "* _Solo pueden contener letras, números y guión bajo_.\n",
    "* _Pueden empezar con letra o guión bajo, pero nunca con un número_.\n",
    "* _No se permiten espacios.  Puedes usar guión bajo como separador de dos palabras_.\n",
    "* _Debe de ser corto pero descriptivo_.\n",
    "* _CASE SENSITIVE_\n",
    "* _Tener cuidado cuando al usar \"l\" o \"O\", se pueden confundir con \"1\" y \"0\"_.\n",
    "* _No usar nombres de funciones de Python, se borrará la utilidad de la función_.\n",
    "\n",
    "De acuerdo a \"_PEP 8 -- Style Guide for Python Code_\", el nombre de las variables debe:\n",
    "* _Las variables deberán de ser en minúsculas y las palabras separadas por guión bajo para facilitar su lectura_.\n",
    "\n",
    "Algunos estilos para nombrar variables:\n",
    "* nombre_variable\n",
    "* nombreVariable\n",
    "* NombreVariable"
   ]
  },
  {
   "cell_type": "markdown",
   "metadata": {},
   "source": [
    "## Tipos de variable\n",
    "Python tiene varios tipos de datos.  En el curso solo usaremos cuatro de ellos:\n",
    "\n",
    "<table>\n",
    "    <tr>\n",
    "        <th>Nombre</th>\n",
    "        <th>Código</th>\n",
    "        <th>Descripción</th>\n",
    "        <th>Ejemplo</th>\n",
    "    </tr>\n",
    "    <tr>\n",
    "        <td>Interger</td>\n",
    "        <td>int</td>\n",
    "        <td>Números enteros</td>\n",
    "        <td>234</td>\n",
    "    </tr>\n",
    "    <tr>\n",
    "        <td>Float</td>\n",
    "        <td>float</td>\n",
    "        <td>Números con decimales</td>\n",
    "        <td>234.56</td>\n",
    "    </tr>\n",
    "    <tr>\n",
    "        <td>String</td>\n",
    "        <td>str</td>\n",
    "        <td>Texto ó interpretación de núm. como texto</td>\n",
    "        <td>'Hola', '234'</td>\n",
    "    </tr>\n",
    "    <tr>\n",
    "        <td>Boolean</td>\n",
    "        <td>bool</td>\n",
    "        <td>Verdadero o Falso</td>\n",
    "        <td>True, False</td>\n",
    "    </tr>\n",
    "</table>"
   ]
  },
  {
   "cell_type": "code",
   "execution_count": 24,
   "metadata": {},
   "outputs": [
    {
     "data": {
      "text/plain": [
       "False"
      ]
     },
     "execution_count": 24,
     "metadata": {},
     "output_type": "execute_result"
    }
   ],
   "source": [
    "4 == 5"
   ]
  },
  {
   "cell_type": "markdown",
   "metadata": {},
   "source": [
    "## Strings"
   ]
  },
  {
   "cell_type": "code",
   "execution_count": 26,
   "metadata": {},
   "outputs": [
    {
     "name": "stdout",
     "output_type": "stream",
     "text": [
      "mensaje\n"
     ]
    }
   ],
   "source": [
    "print(\"mensaje\")"
   ]
  },
  {
   "cell_type": "code",
   "execution_count": 28,
   "metadata": {},
   "outputs": [
    {
     "name": "stdout",
     "output_type": "stream",
     "text": [
      "2.54cm es igual a 1\" \n"
     ]
    }
   ],
   "source": [
    "print('2.54cm es igual a 1\" ')"
   ]
  },
  {
   "cell_type": "code",
   "execution_count": 29,
   "metadata": {},
   "outputs": [
    {
     "name": "stdout",
     "output_type": "stream",
     "text": [
      "Vamonos al Carl's Jr.\n"
     ]
    }
   ],
   "source": [
    "print(\"Vamonos al Carl's Jr.\")"
   ]
  },
  {
   "cell_type": "markdown",
   "metadata": {},
   "source": [
    "### Cambiando mayúsculas y minúsculas en un string"
   ]
  },
  {
   "cell_type": "code",
   "execution_count": 30,
   "metadata": {},
   "outputs": [],
   "source": [
    "nombre = 'carlos crespo elizondo'"
   ]
  },
  {
   "cell_type": "code",
   "execution_count": 31,
   "metadata": {},
   "outputs": [
    {
     "name": "stdout",
     "output_type": "stream",
     "text": [
      "Carlos Crespo Elizondo\n"
     ]
    }
   ],
   "source": [
    "print(nombre.title())"
   ]
  },
  {
   "cell_type": "code",
   "execution_count": 32,
   "metadata": {},
   "outputs": [
    {
     "data": {
      "text/plain": [
       "'carlos crespo elizondo'"
      ]
     },
     "execution_count": 32,
     "metadata": {},
     "output_type": "execute_result"
    }
   ],
   "source": [
    "nombre"
   ]
  },
  {
   "cell_type": "code",
   "execution_count": 33,
   "metadata": {},
   "outputs": [
    {
     "name": "stdout",
     "output_type": "stream",
     "text": [
      "CARLOS CRESPO ELIZONDO\n"
     ]
    }
   ],
   "source": [
    "print(nombre.upper())"
   ]
  },
  {
   "cell_type": "code",
   "execution_count": 34,
   "metadata": {},
   "outputs": [
    {
     "name": "stdout",
     "output_type": "stream",
     "text": [
      "carlos crespo elizondo\n"
     ]
    }
   ],
   "source": [
    "print(nombre.lower())"
   ]
  },
  {
   "cell_type": "code",
   "execution_count": 35,
   "metadata": {},
   "outputs": [
    {
     "name": "stdout",
     "output_type": "stream",
     "text": [
      "todas las letras a minúsculas\n"
     ]
    }
   ],
   "source": [
    "print('Todas LAS lETRAS a minúsculas'.lower())"
   ]
  },
  {
   "cell_type": "code",
   "execution_count": 38,
   "metadata": {},
   "outputs": [
    {
     "name": "stdout",
     "output_type": "stream",
     "text": [
      "Todas Las Letras A Minúsculas\n",
      "TODAS LAS LETRAS A MINÚSCULAS\n",
      "todas las letras a minúsculas\n"
     ]
    }
   ],
   "source": [
    "variable = 'Todas LAS lETRAS a minúsculas'\n",
    "\n",
    "print(variable.title())\n",
    "print(variable.upper())\n",
    "print(variable.lower())"
   ]
  },
  {
   "cell_type": "markdown",
   "metadata": {},
   "source": [
    "### Literales de texto"
   ]
  },
  {
   "cell_type": "code",
   "execution_count": 39,
   "metadata": {},
   "outputs": [
    {
     "name": "stdout",
     "output_type": "stream",
     "text": [
      "Vamonos al Carl's Jr.\n"
     ]
    }
   ],
   "source": [
    "print('Vamonos al Carl\\'s Jr.')"
   ]
  },
  {
   "cell_type": "code",
   "execution_count": 40,
   "metadata": {
    "scrolled": true
   },
   "outputs": [
    {
     "name": "stdout",
     "output_type": "stream",
     "text": [
      "Vamonos al Carl\\s Jr.\n"
     ]
    }
   ],
   "source": [
    "print('Vamonos al Carl\\s Jr.')"
   ]
  },
  {
   "cell_type": "code",
   "execution_count": 43,
   "metadata": {},
   "outputs": [
    {
     "name": "stdout",
     "output_type": "stream",
     "text": [
      "C:\\nombre\n"
     ]
    }
   ],
   "source": [
    "print(r'C:\\nombre')"
   ]
  },
  {
   "cell_type": "code",
   "execution_count": 44,
   "metadata": {},
   "outputs": [
    {
     "name": "stdout",
     "output_type": "stream",
     "text": [
      "REPORTE DIARIO\n",
      "\n",
      "Retorno:\n",
      "   AMX = 1.3%\n",
      "   FEMSAUBD = 2.0%\n"
     ]
    }
   ],
   "source": [
    "print('REPORTE DIARIO')\n",
    "print('')\n",
    "print('Retorno:')\n",
    "print('   AMX = 1.3%')\n",
    "print('   FEMSAUBD = 2.0%')"
   ]
  },
  {
   "cell_type": "markdown",
   "metadata": {
    "slideshow": {
     "slide_type": "slide"
    }
   },
   "source": [
    "LINEA NUEVA<br>\n",
    "\\n<br>\n",
    "\\t<br>"
   ]
  },
  {
   "cell_type": "code",
   "execution_count": 45,
   "metadata": {},
   "outputs": [
    {
     "name": "stdout",
     "output_type": "stream",
     "text": [
      "REPORTE DIARIO\n",
      "\n",
      "Retorno:\n",
      "\tAMX = 1.3%\n",
      "\tFEMSAUBD = 2.0%\n"
     ]
    }
   ],
   "source": [
    "print('REPORTE DIARIO')\n",
    "print('\\nRetorno:')\n",
    "print('\\tAMX = 1.3%')\n",
    "print('\\tFEMSAUBD = 2.0%')"
   ]
  },
  {
   "cell_type": "markdown",
   "metadata": {},
   "source": [
    "### Multiplicar strings"
   ]
  },
  {
   "cell_type": "code",
   "execution_count": 46,
   "metadata": {
    "scrolled": true
   },
   "outputs": [
    {
     "name": "stdout",
     "output_type": "stream",
     "text": [
      "aaaaaaaaaaaaaaaaaaaa\n"
     ]
    }
   ],
   "source": [
    "print('a'*20)"
   ]
  },
  {
   "cell_type": "code",
   "execution_count": 48,
   "metadata": {},
   "outputs": [
    {
     "name": "stdout",
     "output_type": "stream",
     "text": [
      "REPORTE DIARIO\n",
      "---------------\n",
      "\n",
      "Retorno:\n",
      "\tAMX = 1.3%\n",
      "\tFEMSAUBD = 2.0%\n"
     ]
    }
   ],
   "source": [
    "print('REPORTE DIARIO')\n",
    "print('-'*15)\n",
    "print('\\nRetorno:')\n",
    "print('\\tAMX = 1.3%')\n",
    "print('\\tFEMSAUBD = 2.0%')"
   ]
  },
  {
   "cell_type": "markdown",
   "metadata": {},
   "source": [
    "### Concatenar strings"
   ]
  },
  {
   "cell_type": "code",
   "execution_count": 49,
   "metadata": {},
   "outputs": [],
   "source": [
    "nombre = 'carlos'\n",
    "apellido = 'crespo'"
   ]
  },
  {
   "cell_type": "code",
   "execution_count": 50,
   "metadata": {},
   "outputs": [
    {
     "name": "stdout",
     "output_type": "stream",
     "text": [
      "Me llamo carloscrespo\n"
     ]
    }
   ],
   "source": [
    "print('Me llamo ' + nombre + apellido)"
   ]
  },
  {
   "cell_type": "code",
   "execution_count": 51,
   "metadata": {},
   "outputs": [
    {
     "name": "stdout",
     "output_type": "stream",
     "text": [
      "Me llamo carlos crespo\n"
     ]
    }
   ],
   "source": [
    "print('Me llamo ' + nombre +' ' + apellido)"
   ]
  },
  {
   "cell_type": "code",
   "execution_count": 52,
   "metadata": {},
   "outputs": [
    {
     "name": "stdout",
     "output_type": "stream",
     "text": [
      "Me llamo Carlos CRESPO\n"
     ]
    }
   ],
   "source": [
    "print('Me llamo ' + nombre.title() +' ' + apellido.upper())"
   ]
  },
  {
   "cell_type": "markdown",
   "metadata": {},
   "source": [
    "### Eliminar espacios en blanco"
   ]
  },
  {
   "cell_type": "code",
   "execution_count": 53,
   "metadata": {},
   "outputs": [
    {
     "name": "stdout",
     "output_type": "stream",
     "text": [
      "cemexcpo \n"
     ]
    }
   ],
   "source": [
    "accion = 'cemexcpo '\n",
    "print(accion)"
   ]
  },
  {
   "cell_type": "code",
   "execution_count": 60,
   "metadata": {},
   "outputs": [],
   "source": [
    "accion = 'cemexcpo ' "
   ]
  },
  {
   "cell_type": "code",
   "execution_count": 57,
   "metadata": {},
   "outputs": [
    {
     "name": "stdout",
     "output_type": "stream",
     "text": [
      "cemexcpo\n"
     ]
    }
   ],
   "source": [
    "print(accion.rstrip())"
   ]
  },
  {
   "cell_type": "code",
   "execution_count": 56,
   "metadata": {},
   "outputs": [
    {
     "data": {
      "text/plain": [
       "False"
      ]
     },
     "execution_count": 56,
     "metadata": {},
     "output_type": "execute_result"
    }
   ],
   "source": [
    "accion == 'cemexcpo'"
   ]
  },
  {
   "cell_type": "code",
   "execution_count": 58,
   "metadata": {},
   "outputs": [],
   "source": [
    "accion = accion.rstrip()"
   ]
  },
  {
   "cell_type": "code",
   "execution_count": 59,
   "metadata": {},
   "outputs": [
    {
     "data": {
      "text/plain": [
       "True"
      ]
     },
     "execution_count": 59,
     "metadata": {},
     "output_type": "execute_result"
    }
   ],
   "source": [
    "accion == 'cemexcpo'"
   ]
  },
  {
   "cell_type": "code",
   "execution_count": 61,
   "metadata": {},
   "outputs": [
    {
     "name": "stdout",
     "output_type": "stream",
     "text": [
      " a la izquierda\n"
     ]
    }
   ],
   "source": [
    "izq = ' a la izquierda'\n",
    "print(izq)"
   ]
  },
  {
   "cell_type": "code",
   "execution_count": 62,
   "metadata": {},
   "outputs": [
    {
     "name": "stdout",
     "output_type": "stream",
     "text": [
      "a la izquierda\n"
     ]
    }
   ],
   "source": [
    "print(izq.lstrip())"
   ]
  },
  {
   "cell_type": "code",
   "execution_count": 63,
   "metadata": {},
   "outputs": [],
   "source": [
    "izq = izq.lstrip()"
   ]
  },
  {
   "cell_type": "code",
   "execution_count": 65,
   "metadata": {},
   "outputs": [
    {
     "data": {
      "text/plain": [
       "'8 + 2 = 10'"
      ]
     },
     "execution_count": 65,
     "metadata": {},
     "output_type": "execute_result"
    }
   ],
   "source": [
    "dos_lados = ' 8 + 2 = 10 '\n",
    "dos_lados = dos_lados.strip()\n",
    "dos_lados"
   ]
  },
  {
   "cell_type": "markdown",
   "metadata": {},
   "source": [
    "### Concatenar números y string"
   ]
  },
  {
   "cell_type": "code",
   "execution_count": 66,
   "metadata": {},
   "outputs": [
    {
     "ename": "TypeError",
     "evalue": "can only concatenate str (not \"int\") to str",
     "output_type": "error",
     "traceback": [
      "\u001b[0;31m---------------------------------------------------------------------------\u001b[0m",
      "\u001b[0;31mTypeError\u001b[0m                                 Traceback (most recent call last)",
      "\u001b[0;32m<ipython-input-66-4a11fd676d20>\u001b[0m in \u001b[0;36m<module>\u001b[0;34m\u001b[0m\n\u001b[1;32m      1\u001b[0m \u001b[0mdia\u001b[0m \u001b[0;34m=\u001b[0m \u001b[0;36m7\u001b[0m\u001b[0;34m\u001b[0m\u001b[0;34m\u001b[0m\u001b[0m\n\u001b[0;32m----> 2\u001b[0;31m \u001b[0mprint\u001b[0m\u001b[0;34m(\u001b[0m\u001b[0;34m'Hoy es '\u001b[0m \u001b[0;34m+\u001b[0m \u001b[0mdia\u001b[0m \u001b[0;34m+\u001b[0m \u001b[0;34m' de septiembre'\u001b[0m\u001b[0;34m)\u001b[0m\u001b[0;34m\u001b[0m\u001b[0;34m\u001b[0m\u001b[0m\n\u001b[0m",
      "\u001b[0;31mTypeError\u001b[0m: can only concatenate str (not \"int\") to str"
     ]
    }
   ],
   "source": [
    "dia = 7\n",
    "print('Hoy es ' + dia + ' de septiembre')"
   ]
  },
  {
   "cell_type": "code",
   "execution_count": 67,
   "metadata": {},
   "outputs": [
    {
     "name": "stdout",
     "output_type": "stream",
     "text": [
      "Hoy es 7 de septiembre\n"
     ]
    }
   ],
   "source": [
    "dia = 7\n",
    "print('Hoy es ' + str(dia) + ' de septiembre')"
   ]
  },
  {
   "cell_type": "code",
   "execution_count": 68,
   "metadata": {},
   "outputs": [
    {
     "data": {
      "text/plain": [
       "14"
      ]
     },
     "execution_count": 68,
     "metadata": {},
     "output_type": "execute_result"
    }
   ],
   "source": [
    "dia * 2"
   ]
  },
  {
   "cell_type": "code",
   "execution_count": 69,
   "metadata": {},
   "outputs": [
    {
     "data": {
      "text/plain": [
       "int"
      ]
     },
     "execution_count": 69,
     "metadata": {},
     "output_type": "execute_result"
    }
   ],
   "source": [
    "type(dia)"
   ]
  },
  {
   "cell_type": "code",
   "execution_count": 70,
   "metadata": {},
   "outputs": [
    {
     "data": {
      "text/plain": [
       "str"
      ]
     },
     "execution_count": 70,
     "metadata": {},
     "output_type": "execute_result"
    }
   ],
   "source": [
    "type(mensaje)"
   ]
  },
  {
   "cell_type": "code",
   "execution_count": null,
   "metadata": {},
   "outputs": [],
   "source": []
  },
  {
   "cell_type": "markdown",
   "metadata": {},
   "source": [
    "### f-strings o \"formated string literals\""
   ]
  },
  {
   "cell_type": "markdown",
   "metadata": {},
   "source": [
    "#### Operador %"
   ]
  },
  {
   "cell_type": "code",
   "execution_count": 72,
   "metadata": {},
   "outputs": [
    {
     "name": "stdout",
     "output_type": "stream",
     "text": [
      "Hola mi nombre es carlos\n"
     ]
    }
   ],
   "source": [
    "print('Hola mi nombre es %s' %nombre)"
   ]
  },
  {
   "cell_type": "code",
   "execution_count": 73,
   "metadata": {},
   "outputs": [
    {
     "name": "stdout",
     "output_type": "stream",
     "text": [
      "Las primeras 4 decimales de pi son 3.1416\n"
     ]
    }
   ],
   "source": [
    "pi = 3.1416\n",
    "print('Las primeras 4 decimales de pi son %s' %pi)"
   ]
  },
  {
   "cell_type": "code",
   "execution_count": 74,
   "metadata": {},
   "outputs": [
    {
     "name": "stdout",
     "output_type": "stream",
     "text": [
      "Las primeras 4 decimales de pi son 3.1416, del número e son 2.7182\n"
     ]
    }
   ],
   "source": [
    "pi = 3.1416\n",
    "e = 2.7182\n",
    "print('Las primeras 4 decimales de pi son %s, del número e son %s' %(pi,e))"
   ]
  },
  {
   "cell_type": "markdown",
   "metadata": {},
   "source": [
    "#### format( )"
   ]
  },
  {
   "cell_type": "code",
   "execution_count": 75,
   "metadata": {},
   "outputs": [
    {
     "name": "stdout",
     "output_type": "stream",
     "text": [
      "Las primeras 4 decimales de pi son 3.1416, del número e son 2.7182\n"
     ]
    }
   ],
   "source": [
    "print('Las primeras 4 decimales de pi son {}, del número e son {}'.format(pi,e))"
   ]
  },
  {
   "cell_type": "code",
   "execution_count": 76,
   "metadata": {},
   "outputs": [
    {
     "name": "stdout",
     "output_type": "stream",
     "text": [
      "Las primeras 4 decimales de pi son 3.1416, del número e son 2.7182\n"
     ]
    }
   ],
   "source": [
    "print('Las primeras 4 decimales de pi son {valor_pi}, del número e son {valor_e}'.format(valor_e=e, valor_pi=pi))"
   ]
  },
  {
   "cell_type": "markdown",
   "metadata": {},
   "source": [
    "#### f-string"
   ]
  },
  {
   "cell_type": "code",
   "execution_count": 77,
   "metadata": {},
   "outputs": [
    {
     "name": "stdout",
     "output_type": "stream",
     "text": [
      "Las primeras 4 decimales de pi son 3.1416, del número e son 2.7182\n"
     ]
    }
   ],
   "source": [
    "print(f'Las primeras 4 decimales de pi son {pi}, del número e son {e}')"
   ]
  },
  {
   "cell_type": "code",
   "execution_count": 78,
   "metadata": {},
   "outputs": [
    {
     "name": "stdout",
     "output_type": "stream",
     "text": [
      "1000000\n"
     ]
    }
   ],
   "source": [
    "ingresos = 1000000\n",
    "print(ingresos)"
   ]
  },
  {
   "cell_type": "code",
   "execution_count": 79,
   "metadata": {},
   "outputs": [
    {
     "name": "stdout",
     "output_type": "stream",
     "text": [
      "Las ventas del día de hoy fueron 1000000\n"
     ]
    }
   ],
   "source": [
    "print(f'Las ventas del día de hoy fueron {ingresos}')"
   ]
  },
  {
   "cell_type": "code",
   "execution_count": 80,
   "metadata": {},
   "outputs": [
    {
     "name": "stdout",
     "output_type": "stream",
     "text": [
      "Las ventas del día de hoy fueron 1,000,000\n"
     ]
    }
   ],
   "source": [
    "print(f'Las ventas del día de hoy fueron {ingresos:,}')"
   ]
  },
  {
   "cell_type": "code",
   "execution_count": 81,
   "metadata": {},
   "outputs": [],
   "source": [
    "ingresos = 1000000.534556"
   ]
  },
  {
   "cell_type": "code",
   "execution_count": 84,
   "metadata": {},
   "outputs": [
    {
     "name": "stdout",
     "output_type": "stream",
     "text": [
      "Las ventas del día de hoy fueron 1000000.53\n"
     ]
    }
   ],
   "source": [
    "print(f'Las ventas del día de hoy fueron {ingresos:.2f}')"
   ]
  },
  {
   "cell_type": "code",
   "execution_count": 86,
   "metadata": {},
   "outputs": [
    {
     "name": "stdout",
     "output_type": "stream",
     "text": [
      "Las ventas del día de hoy fueron 1,000,000.53\n"
     ]
    }
   ],
   "source": [
    "print(f'Las ventas del día de hoy fueron {ingresos:,.2f}')"
   ]
  },
  {
   "cell_type": "markdown",
   "metadata": {},
   "source": [
    "## Función `input`"
   ]
  },
  {
   "cell_type": "code",
   "execution_count": 87,
   "metadata": {},
   "outputs": [
    {
     "name": "stdout",
     "output_type": "stream",
     "text": [
      "Cual es el código ISO del peso mexicano?: mxn\n"
     ]
    },
    {
     "data": {
      "text/plain": [
       "'mxn'"
      ]
     },
     "execution_count": 87,
     "metadata": {},
     "output_type": "execute_result"
    }
   ],
   "source": [
    "input('Cual es el código ISO del peso mexicano?: ')"
   ]
  },
  {
   "cell_type": "code",
   "execution_count": 88,
   "metadata": {},
   "outputs": [
    {
     "name": "stdout",
     "output_type": "stream",
     "text": [
      "Cual es el código ISO del peso mexicano?: mxn\n"
     ]
    }
   ],
   "source": [
    "codigo_peso = input('Cual es el código ISO del peso mexicano?: ')"
   ]
  },
  {
   "cell_type": "code",
   "execution_count": 90,
   "metadata": {},
   "outputs": [
    {
     "name": "stdout",
     "output_type": "stream",
     "text": [
      "Cual es el código ISO del peso mexicano?: mxn\n"
     ]
    }
   ],
   "source": [
    "codigo_peso = (input('Cual es el código ISO del peso mexicano?: ')).upper()"
   ]
  },
  {
   "cell_type": "code",
   "execution_count": 91,
   "metadata": {},
   "outputs": [
    {
     "name": "stdout",
     "output_type": "stream",
     "text": [
      "MXN\n"
     ]
    }
   ],
   "source": [
    "print(codigo_peso)"
   ]
  },
  {
   "cell_type": "code",
   "execution_count": 92,
   "metadata": {},
   "outputs": [
    {
     "name": "stdout",
     "output_type": "stream",
     "text": [
      "Cual es la tasa de interes: .1\n"
     ]
    }
   ],
   "source": [
    "tasa = input('Cual es la tasa de interes: ')"
   ]
  },
  {
   "cell_type": "code",
   "execution_count": 94,
   "metadata": {
    "scrolled": true
   },
   "outputs": [
    {
     "data": {
      "text/plain": [
       "str"
      ]
     },
     "execution_count": 94,
     "metadata": {},
     "output_type": "execute_result"
    }
   ],
   "source": [
    "type(tasa)"
   ]
  },
  {
   "cell_type": "code",
   "execution_count": 95,
   "metadata": {},
   "outputs": [
    {
     "name": "stdout",
     "output_type": "stream",
     "text": [
      "Cual es la tasa de interes: .1\n"
     ]
    }
   ],
   "source": [
    "tasa = float(input('Cual es la tasa de interes: '))"
   ]
  },
  {
   "cell_type": "code",
   "execution_count": 96,
   "metadata": {},
   "outputs": [
    {
     "data": {
      "text/plain": [
       "float"
      ]
     },
     "execution_count": 96,
     "metadata": {},
     "output_type": "execute_result"
    }
   ],
   "source": [
    "type(tasa)"
   ]
  },
  {
   "cell_type": "markdown",
   "metadata": {},
   "source": [
    "## Nuestro \"primer\" programa de Python (por lo menos en la clase)\n",
    "El programa consiste en preguntarle al usuario:\n",
    "* La cantidad de dinero que va a invertir el cliente por un año.\n",
    "* La tasa de interés anual simple pactada.\n",
    "La tasa de interés debera de ser ingresada en decimales no en porcentaje.<br><br>\n",
    "El programa debera de calcular:\n",
    "* El interés generado durante el año\n",
    "* El saldo final del cliente\n",
    "\n",
    "Al final el programa deberá de desplegar:\n",
    "1. El monto del interés generado durante el periodo\n",
    "1. El saldo final de la cuenta"
   ]
  },
  {
   "cell_type": "code",
   "execution_count": 97,
   "metadata": {},
   "outputs": [
    {
     "name": "stdout",
     "output_type": "stream",
     "text": [
      "Cantidad a invertir: 1000000\n",
      "Tasa de interés: .5\n",
      "El interés generado en el periodo fue 500000.0\n",
      "El saldo final del periodo es de 1500000.0 pesos.\n"
     ]
    }
   ],
   "source": [
    "inversion = float(input('Cantidad a invertir: '))\n",
    "tasa = float(input('Tasa de interés: '))\n",
    "\n",
    "interes = inversion * tasa\n",
    "saldo_final = inversion + interes\n",
    "\n",
    "print('El interés generado en el periodo fue ' + str(interes))\n",
    "print('El saldo final del periodo es de ' + str(saldo_final) + ' pesos.')"
   ]
  },
  {
   "cell_type": "markdown",
   "metadata": {},
   "source": [
    "# TODOS COMETEMOS ERRORES\n",
    "Todos los programadores cometemos errores.  Los buenos programadores crean errores, pero también saben como responder a los errores de manera eficiente."
   ]
  }
 ],
 "metadata": {
  "kernelspec": {
   "display_name": "Python 3",
   "language": "python",
   "name": "python3"
  },
  "language_info": {
   "codemirror_mode": {
    "name": "ipython",
    "version": 3
   },
   "file_extension": ".py",
   "mimetype": "text/x-python",
   "name": "python",
   "nbconvert_exporter": "python",
   "pygments_lexer": "ipython3",
   "version": "3.9.1"
  },
  "varInspector": {
   "cols": {
    "lenName": 16,
    "lenType": 16,
    "lenVar": 40
   },
   "kernels_config": {
    "python": {
     "delete_cmd_postfix": "",
     "delete_cmd_prefix": "del ",
     "library": "var_list.py",
     "varRefreshCmd": "print(var_dic_list())"
    },
    "r": {
     "delete_cmd_postfix": ") ",
     "delete_cmd_prefix": "rm(",
     "library": "var_list.r",
     "varRefreshCmd": "cat(var_dic_list()) "
    }
   },
   "types_to_exclude": [
    "module",
    "function",
    "builtin_function_or_method",
    "instance",
    "_Feature"
   ],
   "window_display": false
  }
 },
 "nbformat": 4,
 "nbformat_minor": 4
}
