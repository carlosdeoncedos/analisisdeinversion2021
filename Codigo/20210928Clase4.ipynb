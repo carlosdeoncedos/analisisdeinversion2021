{
 "cells": [
  {
   "cell_type": "markdown",
   "metadata": {
    "tags": []
   },
   "source": [
    "# MF013: Introducción a Matplotlib\n",
    "Ing. Carlos Crespo Elizondo, MSF<br>\n",
    "MF-013 Análisis de Inversión<br>\n",
    "Clase del 28 de septiembre 2021<br>\n",
    "\n",
    "Maestría de Finanzas, Facultad de Economía<br>\n",
    "UANL<br>"
   ]
  },
  {
   "cell_type": "markdown",
   "metadata": {
    "tags": []
   },
   "source": [
    "## Librerías en Python"
   ]
  },
  {
   "cell_type": "markdown",
   "metadata": {
    "tags": []
   },
   "source": [
    "### Qué es una librería?"
   ]
  },
  {
   "cell_type": "markdown",
   "metadata": {
    "tags": []
   },
   "source": [
    "### Librerías más populares de Python"
   ]
  },
  {
   "cell_type": "markdown",
   "metadata": {},
   "source": [
    "![](https://www.dropbox.com/s/livi45h2rr7gmt4/logo_matplotlib.png?raw=1)\n",
    "<br><br>\n",
    "![](https://www.dropbox.com/s/1do7a63wpsupcwd/pandas.png?raw=1)\n",
    "<br><br>\n",
    "![](https://www.dropbox.com/s/cqs6h0nukqll5ih/logo_numpy.jpg?raw=1)\n",
    "<br><br>\n",
    "![](https://www.dropbox.com/s/w1h90m1xwlk6x72/logo_scikit.png?raw=1)"
   ]
  },
  {
   "cell_type": "markdown",
   "metadata": {},
   "source": [
    "---"
   ]
  },
  {
   "cell_type": "markdown",
   "metadata": {
    "jp-MarkdownHeadingCollapsed": true,
    "tags": []
   },
   "source": [
    "### PARENTESIS CULTURAL!\n",
    "Pasos para insertar imagenes guardadas en Dropbox en Jupyter:\n",
    "1. Generar un link de dropbox de la imagen deseada.\n",
    "1. Teclear lo siguiente en la celda *markdown*: `![]()`\n",
    "1. Pegar link adentro de los paréntesis.\n",
    "1. Cambiar la parte del link `dl=0` por `raw=1`\n",
    "1. Ejecutar la celda\n",
    "\n",
    "Para referencia pueden ver el código de las imagenes anteriores\n",
    "\n",
    "---"
   ]
  },
  {
   "cell_type": "markdown",
   "metadata": {
    "tags": []
   },
   "source": [
    "### Instalar una librería en la computadora"
   ]
  },
  {
   "cell_type": "markdown",
   "metadata": {
    "tags": []
   },
   "source": [
    "#### Como instalaron python en su computadora?"
   ]
  },
  {
   "cell_type": "markdown",
   "metadata": {
    "tags": []
   },
   "source": [
    "##### \n",
    "![](https://www.dropbox.com/s/4ig99xqw6keotf9/Anaconda.png?raw=1)"
   ]
  },
  {
   "cell_type": "markdown",
   "metadata": {},
   "source": [
    "1. Abrir \"_Anaconda Navigator_\".\n",
    "1. Ejecutar \"_Powershell Prompt_\".\n",
    "1. Verificar que la librería \"*__pip__*\" esté instalada:\n",
    "    1. Ingresar el comando `conda list` y presionar \\<\\<ENTER>>.\n",
    "    1. Se desplegará una lista con todas las librerías instaladas.\n",
    "    1. En caso de que \"*__pip__*\" no esté en la lista:\n",
    "        1. Instalar \"*__pip__*\" con el comando `conda install pip`  y presionar \\<\\<ENTER>>.\n",
    "1. Ingresar `pip install \"librería\"` \\<\\< SHIFT \\>\\> + \\<\\< ENTER \\>\\>, donde `\"libreria\"` representa el nombre de la librería a instalar."
   ]
  },
  {
   "cell_type": "markdown",
   "metadata": {},
   "source": [
    "##### \n",
    "<img src=\"https://open-neuroscience.com/post/colaboratory/featured.png\" width=\"300\"/>"
   ]
  },
  {
   "cell_type": "markdown",
   "metadata": {},
   "source": [
    "1. Abrir archivo colab.\n",
    "1. Ingresar `pip install \"librería\"` \\<\\< SHIFT \\>\\> + \\<\\< ENTER \\>\\>, donde `\"libreria\"` representa el nombre de la librería a instalar.\n",
    "> _Importante:  Como cada libreta de colab se ejecuta en una computadora virutal momentanea, al momento de cerrar la libreta la librería se borrará.  Deberá de volver a instalar la librería la siguiente vez que la requiera usar._"
   ]
  },
  {
   "cell_type": "markdown",
   "metadata": {},
   "source": [
    "##### \n",
    "![](https://www.python.org/static/img/python-logo@2x.png)"
   ]
  },
  {
   "cell_type": "markdown",
   "metadata": {},
   "source": [
    "1. Abrir *__Command Prompt__* (Win) / *__Terminal__* (Mac)\n",
    "1. Ingresar `pip install \"librería\"` \\<\\< SHIFT \\>\\> + \\<\\< ENTER \\>\\>, donde `\"libreria\"` representa el nombre de la librería a instalar."
   ]
  },
  {
   "cell_type": "markdown",
   "metadata": {
    "tags": []
   },
   "source": [
    "## \n",
    "<img src=\"https://www.dropbox.com/s/livi45h2rr7gmt4/logo_matplotlib.png?raw=1\" width=\"300\"/>"
   ]
  },
  {
   "cell_type": "markdown",
   "metadata": {
    "tags": []
   },
   "source": [
    "### Qué es Matplotlib?"
   ]
  },
  {
   "cell_type": "markdown",
   "metadata": {},
   "source": [
    "> *\"Matplotlib es una librería exhaustiva para crear visualizaciones estáticas, animadas o interactivas en Python.\"*  www.matplotlib.org"
   ]
  },
  {
   "cell_type": "markdown",
   "metadata": {
    "tags": []
   },
   "source": [
    "### Importar Matplotlib"
   ]
  },
  {
   "cell_type": "code",
   "execution_count": 1,
   "metadata": {},
   "outputs": [],
   "source": [
    "import matplotlib.pyplot as plt"
   ]
  },
  {
   "cell_type": "markdown",
   "metadata": {
    "tags": []
   },
   "source": [
    "### Ejemplo"
   ]
  },
  {
   "cell_type": "code",
   "execution_count": null,
   "metadata": {},
   "outputs": [],
   "source": []
  },
  {
   "cell_type": "markdown",
   "metadata": {
    "tags": []
   },
   "source": [
    "### Función `subplots( )`"
   ]
  },
  {
   "cell_type": "markdown",
   "metadata": {},
   "source": [
    "https://matplotlib.org/stable/api/_as_gen/matplotlib.pyplot.subplots.html#matplotlib.pyplot.subplots"
   ]
  },
  {
   "cell_type": "markdown",
   "metadata": {},
   "source": [
    "#### Figura con una gráfica (default)"
   ]
  },
  {
   "cell_type": "code",
   "execution_count": null,
   "metadata": {},
   "outputs": [],
   "source": []
  },
  {
   "cell_type": "markdown",
   "metadata": {},
   "source": [
    "#### Figura con dos gráficas ('axis') "
   ]
  },
  {
   "cell_type": "code",
   "execution_count": null,
   "metadata": {},
   "outputs": [],
   "source": []
  },
  {
   "cell_type": "markdown",
   "metadata": {},
   "source": [
    "#### Figura con dos gráficas ('axis') compartiendo eje de las X's"
   ]
  },
  {
   "cell_type": "code",
   "execution_count": null,
   "metadata": {},
   "outputs": [],
   "source": []
  },
  {
   "cell_type": "markdown",
   "metadata": {},
   "source": [
    "#### Figura con dos gráficas ('axis') compartiendo eje de las Y's"
   ]
  },
  {
   "cell_type": "code",
   "execution_count": null,
   "metadata": {},
   "outputs": [],
   "source": []
  },
  {
   "cell_type": "markdown",
   "metadata": {},
   "source": [
    "#### Figura con cuatro gráficas ('axis') compartiendo eje de las X's y Y's"
   ]
  },
  {
   "cell_type": "code",
   "execution_count": null,
   "metadata": {},
   "outputs": [],
   "source": []
  },
  {
   "cell_type": "markdown",
   "metadata": {},
   "source": [
    "#### Cambiar el tamaño de la figura"
   ]
  },
  {
   "cell_type": "code",
   "execution_count": null,
   "metadata": {},
   "outputs": [],
   "source": []
  },
  {
   "cell_type": "markdown",
   "metadata": {
    "tags": []
   },
   "source": [
    "###  Partes de una Figura y de un Axis"
   ]
  },
  {
   "cell_type": "markdown",
   "metadata": {},
   "source": [
    " ![](https://docs.google.com/uc?export=download&id=1GMqCont7Yfqzu5z4bJYf95NqraR5SQ_m)"
   ]
  },
  {
   "cell_type": "markdown",
   "metadata": {},
   "source": [
    " <img src=\"https://docs.google.com/uc?export=download&id=1BlL36Ii2x12fSUM-OjLGy9fqlfQYvnVF\" width=\"500\"/>"
   ]
  },
  {
   "cell_type": "markdown",
   "metadata": {},
   "source": [
    "---"
   ]
  },
  {
   "cell_type": "markdown",
   "metadata": {},
   "source": [
    "#### PARENTESIS CULTURAL!\n",
    "Pasos para insertar imagenes guardadas en Google Drive a Jupyter\n",
    "1. Generar un link de Google Drive de la imagen deseada.\n",
    "1. Asegurarse que el link tenga la opción \"*__Anyone with the link__*\"  y la opción \"*__viewer__*\".\n",
    "1. Teclear lo siguiente en la celda *markdown*: `![]()`\n",
    "1. Pegar link adentro de los paréntesis.\n",
    "1. Editar el link de la siguiente manera:\n",
    "    1. Link generado:  https://drive.google.com/file/d/1BlL36Ii2x12fSUM-OjLGy9fqlfQYvnVF/view?usp=sharing\n",
    "    1. Borrar la 1er parte del link: https://drive.google.com/file/d/\n",
    "    1. Sustituirlo por https://docs.google.com/uc?export=download&id=\n",
    "    1. Borrar la útlima parte del link:  /view?usp=sharing\n",
    "1. El formato del link final debe de ser similar a este:\n",
    "    1. https://docs.google.com/uc?export=download&id=1BlL36Ii2x12fSUM-OjLGy9fqlfQYvnVF\n",
    "\n",
    "---"
   ]
  },
  {
   "cell_type": "markdown",
   "metadata": {
    "tags": []
   },
   "source": [
    "###  Personalizar la parte exterior de una gráfica"
   ]
  },
  {
   "cell_type": "markdown",
   "metadata": {},
   "source": [
    "* _Título de la gráfica_\n",
    "* _Nombre eje X's_\n",
    "* _Nombre eje Y's_"
   ]
  },
  {
   "cell_type": "code",
   "execution_count": null,
   "metadata": {},
   "outputs": [],
   "source": []
  },
  {
   "cell_type": "markdown",
   "metadata": {
    "tags": []
   },
   "source": [
    "###  Personalizar la parte interior de una gráfica"
   ]
  },
  {
   "cell_type": "markdown",
   "metadata": {
    "tags": []
   },
   "source": [
    "* _Color de la línea_\n",
    "* _Tipo de línea_\n",
    "* _Tamaño de la línea_\n",
    "* _Etiqueta/Label de los datos_"
   ]
  },
  {
   "cell_type": "markdown",
   "metadata": {},
   "source": [
    "https://matplotlib.org/stable/api/_as_gen/matplotlib.lines.Line2D.html#matplotlib.lines.Line2D"
   ]
  },
  {
   "cell_type": "markdown",
   "metadata": {},
   "source": [
    "#### Definir datos"
   ]
  },
  {
   "cell_type": "code",
   "execution_count": null,
   "metadata": {},
   "outputs": [],
   "source": []
  },
  {
   "cell_type": "markdown",
   "metadata": {
    "tags": []
   },
   "source": [
    "#### Cambiar colores de las líneas"
   ]
  },
  {
   "cell_type": "code",
   "execution_count": null,
   "metadata": {},
   "outputs": [],
   "source": []
  },
  {
   "cell_type": "markdown",
   "metadata": {
    "tags": []
   },
   "source": [
    "#### Cambiar tipos de líneas"
   ]
  },
  {
   "cell_type": "code",
   "execution_count": null,
   "metadata": {},
   "outputs": [],
   "source": []
  },
  {
   "cell_type": "markdown",
   "metadata": {
    "tags": []
   },
   "source": [
    "#### Desplegar leyenda/etiqueta en la gráfica"
   ]
  },
  {
   "cell_type": "code",
   "execution_count": null,
   "metadata": {},
   "outputs": [],
   "source": []
  },
  {
   "cell_type": "markdown",
   "metadata": {
    "tags": []
   },
   "source": [
    "### Otros tipos de gráficas"
   ]
  },
  {
   "cell_type": "markdown",
   "metadata": {},
   "source": [
    "#### Gráfica de barras"
   ]
  },
  {
   "cell_type": "markdown",
   "metadata": {},
   "source": [
    "https://matplotlib.org/stable/api/_as_gen/matplotlib.pyplot.bar.html"
   ]
  },
  {
   "cell_type": "code",
   "execution_count": null,
   "metadata": {},
   "outputs": [],
   "source": []
  },
  {
   "cell_type": "markdown",
   "metadata": {},
   "source": [
    "#### Gráfica de disperión"
   ]
  },
  {
   "cell_type": "markdown",
   "metadata": {},
   "source": [
    "https://matplotlib.org/stable/api/_as_gen/matplotlib.pyplot.scatter.html"
   ]
  },
  {
   "cell_type": "code",
   "execution_count": null,
   "metadata": {},
   "outputs": [],
   "source": []
  },
  {
   "cell_type": "markdown",
   "metadata": {},
   "source": [
    "#### Gráfica de pay"
   ]
  },
  {
   "cell_type": "markdown",
   "metadata": {},
   "source": [
    "https://matplotlib.org/stable/api/_as_gen/matplotlib.pyplot.pie.html"
   ]
  },
  {
   "cell_type": "code",
   "execution_count": null,
   "metadata": {},
   "outputs": [],
   "source": []
  },
  {
   "cell_type": "markdown",
   "metadata": {},
   "source": [
    "#### Otros tipos de gráficas"
   ]
  },
  {
   "cell_type": "markdown",
   "metadata": {},
   "source": [
    "https://matplotlib.org/stable/gallery/index.html"
   ]
  },
  {
   "cell_type": "markdown",
   "metadata": {
    "tags": []
   },
   "source": [
    "### Figura con diferentes gráficas"
   ]
  },
  {
   "cell_type": "code",
   "execution_count": null,
   "metadata": {},
   "outputs": [],
   "source": []
  },
  {
   "cell_type": "markdown",
   "metadata": {
    "tags": []
   },
   "source": [
    "### Definendo líneas en una gráfica\n"
   ]
  },
  {
   "cell_type": "markdown",
   "metadata": {},
   "source": [
    "### Líneas verticales"
   ]
  },
  {
   "cell_type": "code",
   "execution_count": null,
   "metadata": {},
   "outputs": [],
   "source": []
  },
  {
   "cell_type": "markdown",
   "metadata": {
    "tags": []
   },
   "source": [
    "### Líneas horizontales"
   ]
  },
  {
   "cell_type": "code",
   "execution_count": null,
   "metadata": {},
   "outputs": [],
   "source": []
  },
  {
   "cell_type": "markdown",
   "metadata": {
    "tags": []
   },
   "source": [
    "### Estilos predefinidos en Matplotlib\n"
   ]
  },
  {
   "cell_type": "markdown",
   "metadata": {},
   "source": [
    "Los siguientes estilos se encuentran en la página:\n",
    "https://matplotlib.org/stable/gallery/style_sheets/style_sheets_reference.html\n",
    "\n",
    "![](https://matplotlib.org/stable/_images/sphx_glr_style_sheets_reference_001.png)\n",
    "![](https://matplotlib.org/stable/_images/sphx_glr_style_sheets_reference_002.png)\n",
    "![](https://matplotlib.org/stable/_images/sphx_glr_style_sheets_reference_003.png)\n",
    "![](https://matplotlib.org/stable/_images/sphx_glr_style_sheets_reference_004.png)\n",
    "![](https://matplotlib.org/stable/_images/sphx_glr_style_sheets_reference_005.png)\n",
    "![](https://matplotlib.org/stable/_images/sphx_glr_style_sheets_reference_006.png)\n",
    "![](https://matplotlib.org/stable/_images/sphx_glr_style_sheets_reference_007.png)\n",
    "![](https://matplotlib.org/stable/_images/sphx_glr_style_sheets_reference_008.png)\n",
    "![](https://matplotlib.org/stable/_images/sphx_glr_style_sheets_reference_009.png)\n",
    "![](https://matplotlib.org/stable/_images/sphx_glr_style_sheets_reference_010.png)\n",
    "![](https://matplotlib.org/stable/_images/sphx_glr_style_sheets_reference_011.png)\n",
    "![](https://matplotlib.org/stable/_images/sphx_glr_style_sheets_reference_012.png)\n",
    "![](https://matplotlib.org/stable/_images/sphx_glr_style_sheets_reference_013.png)\n",
    "![](https://matplotlib.org/stable/_images/sphx_glr_style_sheets_reference_014.png)\n",
    "![](https://matplotlib.org/stable/_images/sphx_glr_style_sheets_reference_015.png)\n",
    "![](https://matplotlib.org/stable/_images/sphx_glr_style_sheets_reference_016.png)\n",
    "![](https://matplotlib.org/stable/_images/sphx_glr_style_sheets_reference_017.png)\n",
    "![](https://matplotlib.org/stable/_images/sphx_glr_style_sheets_reference_018.png)\n",
    "![](https://matplotlib.org/stable/_images/sphx_glr_style_sheets_reference_019.png)\n",
    "![](https://matplotlib.org/stable/_images/sphx_glr_style_sheets_reference_020.png)\n",
    "![](https://matplotlib.org/stable/_images/sphx_glr_style_sheets_reference_021.png)\n",
    "![](https://matplotlib.org/stable/_images/sphx_glr_style_sheets_reference_022.png)\n",
    "![](https://matplotlib.org/stable/_images/sphx_glr_style_sheets_reference_023.png)\n",
    "![](https://matplotlib.org/stable/_images/sphx_glr_style_sheets_reference_024.png)\n",
    "![](https://matplotlib.org/stable/_images/sphx_glr_style_sheets_reference_025.png)\n",
    "![](https://matplotlib.org/stable/_images/sphx_glr_style_sheets_reference_026.png)"
   ]
  },
  {
   "cell_type": "markdown",
   "metadata": {},
   "source": [
    "---"
   ]
  },
  {
   "cell_type": "markdown",
   "metadata": {
    "tags": []
   },
   "source": [
    "#### PARENTESIS CULTURAL"
   ]
  },
  {
   "cell_type": "markdown",
   "metadata": {},
   "source": [
    "Pasos para insertar imagenes directas de internet\n",
    "1. Copiar la dirección de la imagen deseada.\n",
    "1. Teclear lo siguiente en la celda *markdown*: `![]()`.\n",
    "1. Pegar la dirección adentro de los paréntesis.\n",
    "\n",
    "> *__IMPORTANTE__:  Si la dirección de la imagen cambia ó borran la imagen del servidor, en Jupyter aparecerá el ícono de imagen rota.*\n",
    "\n",
    "---"
   ]
  },
  {
   "cell_type": "markdown",
   "metadata": {
    "tags": []
   },
   "source": [
    "#### PARENTESIS CULTURAL"
   ]
  },
  {
   "cell_type": "markdown",
   "metadata": {},
   "source": [
    "Para automatizar la creación de los links, seguí los siguientes pasos:\n",
    "1. Verifiqué la estructura de los links de las imagenes\n",
    "    * Cada imagen tiene la misma estructura base\n",
    "    * Solo cambia el número de imagen\n",
    "1. Busqué en internet como agregar el prefijo de hasta dos ceros a los números (001, 010, etc.)\n",
    "    * _python format number like 001_\n",
    "    * La busqueda me llevó a la página:\n",
    "        * https://stackoverflow.com/questions/26849541/pythonic-formatting-from-1-to-01\n",
    "1. Con lo anterior resuleto hice un for loop donde generé los códigos.\n",
    "1. El resultado del for loop, le hice un `copy` y en la celda anterior le puse `paste`.\n",
    "\n",
    "---"
   ]
  },
  {
   "cell_type": "code",
   "execution_count": null,
   "metadata": {},
   "outputs": [],
   "source": [
    "for i in range(1,27):\n",
    "    print(f'![](https://matplotlib.org/stable/_images/sphx_glr_style_sheets_reference_{i:03}.png)')"
   ]
  },
  {
   "cell_type": "markdown",
   "metadata": {},
   "source": [
    "### Estilos disponibles en la computadora"
   ]
  },
  {
   "cell_type": "code",
   "execution_count": null,
   "metadata": {},
   "outputs": [],
   "source": []
  },
  {
   "cell_type": "markdown",
   "metadata": {},
   "source": [
    "### Como usar estilos"
   ]
  },
  {
   "cell_type": "code",
   "execution_count": null,
   "metadata": {},
   "outputs": [],
   "source": []
  }
 ],
 "metadata": {
  "kernelspec": {
   "display_name": "Python 3 (ipykernel)",
   "language": "python",
   "name": "python3"
  },
  "language_info": {
   "codemirror_mode": {
    "name": "ipython",
    "version": 3
   },
   "file_extension": ".py",
   "mimetype": "text/x-python",
   "name": "python",
   "nbconvert_exporter": "python",
   "pygments_lexer": "ipython3",
   "version": "3.9.7"
  }
 },
 "nbformat": 4,
 "nbformat_minor": 4
}
