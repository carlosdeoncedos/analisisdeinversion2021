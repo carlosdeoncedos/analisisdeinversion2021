{
 "cells": [
  {
   "cell_type": "markdown",
   "metadata": {
    "tags": []
   },
   "source": [
    "# MF013: Introducción a Numpy\n",
    "Ing. Carlos Crespo Elizondo, MSF<br>\n",
    "MF-013 Análisis de Inversión<br>\n",
    "Clase del 5 de octubre 2021<br>\n",
    "\n",
    "Maestría de Finanzas, Facultad de Economía<br>\n",
    "UANL<br>"
   ]
  },
  {
   "cell_type": "markdown",
   "metadata": {
    "tags": []
   },
   "source": [
    "## Imagina la siguiente situación"
   ]
  },
  {
   "cell_type": "code",
   "execution_count": 1,
   "metadata": {},
   "outputs": [],
   "source": [
    "precio_compra = [100, 98, 19, 50,3]\n",
    "precio_venta = [10, 320, 25, 600, 1]"
   ]
  },
  {
   "cell_type": "code",
   "execution_count": 2,
   "metadata": {},
   "outputs": [
    {
     "ename": "TypeError",
     "evalue": "unsupported operand type(s) for -: 'list' and 'list'",
     "output_type": "error",
     "traceback": [
      "\u001b[0;31m---------------------------------------------------------------------------\u001b[0m",
      "\u001b[0;31mTypeError\u001b[0m                                 Traceback (most recent call last)",
      "\u001b[0;32m/var/folders/ln/wjjqw4m11c59hl5sl3016cd00000gn/T/ipykernel_3507/3719108894.py\u001b[0m in \u001b[0;36m<module>\u001b[0;34m\u001b[0m\n\u001b[0;32m----> 1\u001b[0;31m \u001b[0mprecio_venta\u001b[0m \u001b[0;34m-\u001b[0m \u001b[0mprecio_compra\u001b[0m\u001b[0;34m\u001b[0m\u001b[0;34m\u001b[0m\u001b[0m\n\u001b[0m",
      "\u001b[0;31mTypeError\u001b[0m: unsupported operand type(s) for -: 'list' and 'list'"
     ]
    }
   ],
   "source": [
    "precio_venta - precio_compra"
   ]
  },
  {
   "cell_type": "code",
   "execution_count": 3,
   "metadata": {},
   "outputs": [
    {
     "data": {
      "text/plain": [
       "[10, 320, 25, 600, 1, 100, 98, 19, 50, 3]"
      ]
     },
     "execution_count": 3,
     "metadata": {},
     "output_type": "execute_result"
    }
   ],
   "source": [
    "precio_venta + precio_compra"
   ]
  },
  {
   "cell_type": "markdown",
   "metadata": {},
   "source": [
    "### Función `zip` en un for loop"
   ]
  },
  {
   "cell_type": "code",
   "execution_count": 4,
   "metadata": {},
   "outputs": [],
   "source": [
    "lista_utilidad = []\n",
    "\n",
    "for compra, venta in zip(precio_compra, precio_venta):\n",
    "    utilidad = venta - compra\n",
    "    lista_utilidad.append(utilidad)\n",
    "\n"
   ]
  },
  {
   "cell_type": "code",
   "execution_count": 5,
   "metadata": {},
   "outputs": [
    {
     "data": {
      "text/plain": [
       "[-90, 222, 6, 550, -2]"
      ]
     },
     "execution_count": 5,
     "metadata": {},
     "output_type": "execute_result"
    }
   ],
   "source": [
    "lista_utilidad"
   ]
  },
  {
   "cell_type": "code",
   "execution_count": null,
   "metadata": {},
   "outputs": [],
   "source": []
  },
  {
   "cell_type": "markdown",
   "metadata": {
    "tags": []
   },
   "source": [
    "## ![](https://www.dropbox.com/s/ty3tuu7uf7k79rh/00_numpy_logo.jpg?raw=1)"
   ]
  },
  {
   "cell_type": "markdown",
   "metadata": {
    "tags": []
   },
   "source": [
    "## Qué es NumPy?"
   ]
  },
  {
   "cell_type": "markdown",
   "metadata": {
    "slideshow": {
     "slide_type": "subslide"
    }
   },
   "source": [
    "> *\"Numpy es __el__ paquete fundamental para la computación científica en Python.  Contiene entre otras cosas:*\n",
    "    >* _Un poderoso arreglo multidimensional_\n",
    "    >* _Herramientas para integrar código de C/C++, Fortran_\n",
    "    >* _Algebra lineal, transformaciones de Fourier, capacidad de generación de números aleatorios._<br><br>\n",
    ">\n",
    ">_A parte de su uso científico obvio, Numpy puede ser usado de manera eficiente como un contenedor multidimensional de datos, lo que le permite a Numpy integrarse se manera natural con una gran variedad de bases de datos._\" www.numpy.org"
   ]
  },
  {
   "cell_type": "markdown",
   "metadata": {
    "tags": []
   },
   "source": [
    "### Importar NumPy"
   ]
  },
  {
   "cell_type": "code",
   "execution_count": 6,
   "metadata": {},
   "outputs": [],
   "source": [
    "import numpy as np"
   ]
  },
  {
   "cell_type": "markdown",
   "metadata": {
    "tags": []
   },
   "source": [
    "### Los arrays de NumPy"
   ]
  },
  {
   "cell_type": "code",
   "execution_count": 7,
   "metadata": {},
   "outputs": [
    {
     "data": {
      "text/plain": [
       "[100, 98, 19, 50, 3]"
      ]
     },
     "execution_count": 7,
     "metadata": {},
     "output_type": "execute_result"
    }
   ],
   "source": [
    "precio_compra"
   ]
  },
  {
   "cell_type": "code",
   "execution_count": 8,
   "metadata": {},
   "outputs": [
    {
     "data": {
      "text/plain": [
       "[10, 320, 25, 600, 1]"
      ]
     },
     "execution_count": 8,
     "metadata": {},
     "output_type": "execute_result"
    }
   ],
   "source": [
    "precio_venta"
   ]
  },
  {
   "cell_type": "markdown",
   "metadata": {
    "slideshow": {
     "slide_type": "subslide"
    },
    "tags": []
   },
   "source": [
    "###  Crear un array con la función `array( )`"
   ]
  },
  {
   "cell_type": "code",
   "execution_count": null,
   "metadata": {},
   "outputs": [],
   "source": []
  },
  {
   "cell_type": "markdown",
   "metadata": {},
   "source": [
    "#### Crear array a partir de una lista"
   ]
  },
  {
   "cell_type": "code",
   "execution_count": 9,
   "metadata": {},
   "outputs": [],
   "source": [
    "array_compra = np.array(precio_compra)"
   ]
  },
  {
   "cell_type": "code",
   "execution_count": 10,
   "metadata": {},
   "outputs": [
    {
     "data": {
      "text/plain": [
       "array([100,  98,  19,  50,   3])"
      ]
     },
     "execution_count": 10,
     "metadata": {},
     "output_type": "execute_result"
    }
   ],
   "source": [
    "array_compra"
   ]
  },
  {
   "cell_type": "code",
   "execution_count": 11,
   "metadata": {},
   "outputs": [
    {
     "data": {
      "text/plain": [
       "array([19, 50,  3])"
      ]
     },
     "execution_count": 11,
     "metadata": {},
     "output_type": "execute_result"
    }
   ],
   "source": [
    "array_compra[2:]"
   ]
  },
  {
   "cell_type": "code",
   "execution_count": 12,
   "metadata": {},
   "outputs": [],
   "source": [
    "array_venta = np.array(precio_venta)"
   ]
  },
  {
   "cell_type": "code",
   "execution_count": 13,
   "metadata": {},
   "outputs": [
    {
     "data": {
      "text/plain": [
       "array([ 10, 320,  25, 600,   1])"
      ]
     },
     "execution_count": 13,
     "metadata": {},
     "output_type": "execute_result"
    }
   ],
   "source": [
    "array_venta"
   ]
  },
  {
   "cell_type": "code",
   "execution_count": 14,
   "metadata": {},
   "outputs": [
    {
     "data": {
      "text/plain": [
       "array([-90, 222,   6, 550,  -2])"
      ]
     },
     "execution_count": 14,
     "metadata": {},
     "output_type": "execute_result"
    }
   ],
   "source": [
    "array_venta - array_compra"
   ]
  },
  {
   "cell_type": "code",
   "execution_count": 15,
   "metadata": {},
   "outputs": [
    {
     "data": {
      "text/plain": [
       "array([ 1000, 31360,   475, 30000,     3])"
      ]
     },
     "execution_count": 15,
     "metadata": {},
     "output_type": "execute_result"
    }
   ],
   "source": [
    "array_venta * array_compra"
   ]
  },
  {
   "cell_type": "markdown",
   "metadata": {},
   "source": [
    "#### Crear array a partir de valores numéricos"
   ]
  },
  {
   "cell_type": "code",
   "execution_count": 16,
   "metadata": {},
   "outputs": [],
   "source": [
    "compra = np.array([100, 10, 30])\n",
    "venta = np.array([110, 20, 40])"
   ]
  },
  {
   "cell_type": "code",
   "execution_count": 17,
   "metadata": {},
   "outputs": [
    {
     "data": {
      "text/plain": [
       "array([100,  10,  30])"
      ]
     },
     "execution_count": 17,
     "metadata": {},
     "output_type": "execute_result"
    }
   ],
   "source": [
    "compra"
   ]
  },
  {
   "cell_type": "markdown",
   "metadata": {},
   "source": [
    "##### Número dimensiones"
   ]
  },
  {
   "cell_type": "code",
   "execution_count": 18,
   "metadata": {},
   "outputs": [
    {
     "data": {
      "text/plain": [
       "1"
      ]
     },
     "execution_count": 18,
     "metadata": {},
     "output_type": "execute_result"
    }
   ],
   "source": [
    "compra.ndim"
   ]
  },
  {
   "cell_type": "markdown",
   "metadata": {
    "tags": []
   },
   "source": [
    "#### Array de 2 dimensiones"
   ]
  },
  {
   "cell_type": "code",
   "execution_count": 19,
   "metadata": {},
   "outputs": [
    {
     "data": {
      "text/plain": [
       "array([[ 1,  2,  3],\n",
       "       [10, 20, 30]])"
      ]
     },
     "execution_count": 19,
     "metadata": {},
     "output_type": "execute_result"
    }
   ],
   "source": [
    "array_2d = np.array([[1,2,3],[10, 20, 30]])\n",
    "array_2d"
   ]
  },
  {
   "cell_type": "code",
   "execution_count": 20,
   "metadata": {},
   "outputs": [
    {
     "data": {
      "text/plain": [
       "2"
      ]
     },
     "execution_count": 20,
     "metadata": {},
     "output_type": "execute_result"
    }
   ],
   "source": [
    "array_2d.ndim"
   ]
  },
  {
   "cell_type": "code",
   "execution_count": null,
   "metadata": {},
   "outputs": [],
   "source": []
  },
  {
   "cell_type": "markdown",
   "metadata": {
    "tags": []
   },
   "source": [
    "#### Cambiar de dimensiones con la función `reshape( )`"
   ]
  },
  {
   "cell_type": "code",
   "execution_count": 21,
   "metadata": {},
   "outputs": [
    {
     "data": {
      "text/plain": [
       "array([ 1,  2,  3,  4,  5,  6,  7,  8,  9, 10])"
      ]
     },
     "execution_count": 21,
     "metadata": {},
     "output_type": "execute_result"
    }
   ],
   "source": [
    "a = np.array([1, 2, 3, 4, 5, 6, 7, 8, 9, 10])\n",
    "a"
   ]
  },
  {
   "cell_type": "code",
   "execution_count": 22,
   "metadata": {},
   "outputs": [
    {
     "data": {
      "text/plain": [
       "array([[ 1,  2],\n",
       "       [ 3,  4],\n",
       "       [ 5,  6],\n",
       "       [ 7,  8],\n",
       "       [ 9, 10]])"
      ]
     },
     "execution_count": 22,
     "metadata": {},
     "output_type": "execute_result"
    }
   ],
   "source": [
    "a.reshape((5,2))"
   ]
  },
  {
   "cell_type": "code",
   "execution_count": 23,
   "metadata": {},
   "outputs": [],
   "source": [
    "b = a.reshape((5,2))"
   ]
  },
  {
   "cell_type": "code",
   "execution_count": 24,
   "metadata": {},
   "outputs": [
    {
     "data": {
      "text/plain": [
       "2"
      ]
     },
     "execution_count": 24,
     "metadata": {},
     "output_type": "execute_result"
    }
   ],
   "source": [
    "b.ndim"
   ]
  },
  {
   "cell_type": "markdown",
   "metadata": {
    "tags": []
   },
   "source": [
    "#### Poblar un array con un valor"
   ]
  },
  {
   "cell_type": "code",
   "execution_count": 25,
   "metadata": {},
   "outputs": [
    {
     "data": {
      "text/plain": [
       "array([ 1,  2,  3,  4,  5,  6,  7,  8,  9, 10])"
      ]
     },
     "execution_count": 25,
     "metadata": {},
     "output_type": "execute_result"
    }
   ],
   "source": [
    "a"
   ]
  },
  {
   "cell_type": "code",
   "execution_count": 26,
   "metadata": {},
   "outputs": [],
   "source": [
    "a.fill(1)"
   ]
  },
  {
   "cell_type": "code",
   "execution_count": 27,
   "metadata": {},
   "outputs": [
    {
     "data": {
      "text/plain": [
       "array([1, 1, 1, 1, 1, 1, 1, 1, 1, 1])"
      ]
     },
     "execution_count": 27,
     "metadata": {},
     "output_type": "execute_result"
    }
   ],
   "source": [
    "a"
   ]
  },
  {
   "cell_type": "markdown",
   "metadata": {},
   "source": [
    "#### Transponer un array"
   ]
  },
  {
   "cell_type": "code",
   "execution_count": 28,
   "metadata": {},
   "outputs": [
    {
     "data": {
      "text/plain": [
       "array([[1, 1],\n",
       "       [1, 1],\n",
       "       [1, 1],\n",
       "       [1, 1],\n",
       "       [1, 1]])"
      ]
     },
     "execution_count": 28,
     "metadata": {},
     "output_type": "execute_result"
    }
   ],
   "source": [
    "b"
   ]
  },
  {
   "cell_type": "code",
   "execution_count": 29,
   "metadata": {},
   "outputs": [],
   "source": [
    "b = b.transpose()"
   ]
  },
  {
   "cell_type": "code",
   "execution_count": 30,
   "metadata": {},
   "outputs": [
    {
     "data": {
      "text/plain": [
       "array([[1, 1, 1, 1, 1],\n",
       "       [1, 1, 1, 1, 1]])"
      ]
     },
     "execution_count": 30,
     "metadata": {},
     "output_type": "execute_result"
    }
   ],
   "source": [
    "b"
   ]
  },
  {
   "cell_type": "markdown",
   "metadata": {
    "tags": []
   },
   "source": [
    "#### Cambiar array de 2D a 1D"
   ]
  },
  {
   "cell_type": "code",
   "execution_count": 31,
   "metadata": {},
   "outputs": [
    {
     "data": {
      "text/plain": [
       "2"
      ]
     },
     "execution_count": 31,
     "metadata": {},
     "output_type": "execute_result"
    }
   ],
   "source": [
    "b.ndim"
   ]
  },
  {
   "cell_type": "code",
   "execution_count": 32,
   "metadata": {},
   "outputs": [
    {
     "data": {
      "text/plain": [
       "array([1, 1, 1, 1, 1, 1, 1, 1, 1, 1])"
      ]
     },
     "execution_count": 32,
     "metadata": {},
     "output_type": "execute_result"
    }
   ],
   "source": [
    "b = b.flatten()\n",
    "b"
   ]
  },
  {
   "cell_type": "code",
   "execution_count": 33,
   "metadata": {},
   "outputs": [],
   "source": [
    "c = np.array([[[1,2,3],[1,2,3],[1,2,3]]])"
   ]
  },
  {
   "cell_type": "code",
   "execution_count": 34,
   "metadata": {},
   "outputs": [
    {
     "data": {
      "text/plain": [
       "3"
      ]
     },
     "execution_count": 34,
     "metadata": {},
     "output_type": "execute_result"
    }
   ],
   "source": [
    "c.ndim"
   ]
  },
  {
   "cell_type": "code",
   "execution_count": 35,
   "metadata": {},
   "outputs": [
    {
     "data": {
      "text/plain": [
       "array([1, 2, 3, 1, 2, 3, 1, 2, 3])"
      ]
     },
     "execution_count": 35,
     "metadata": {},
     "output_type": "execute_result"
    }
   ],
   "source": [
    "c.flatten()"
   ]
  },
  {
   "cell_type": "markdown",
   "metadata": {
    "slideshow": {
     "slide_type": "subslide"
    },
    "tags": []
   },
   "source": [
    "### Verificar un array"
   ]
  },
  {
   "cell_type": "markdown",
   "metadata": {},
   "source": [
    "####  Función `type( )`"
   ]
  },
  {
   "cell_type": "code",
   "execution_count": 36,
   "metadata": {},
   "outputs": [
    {
     "data": {
      "text/plain": [
       "numpy.ndarray"
      ]
     },
     "execution_count": 36,
     "metadata": {},
     "output_type": "execute_result"
    }
   ],
   "source": [
    "type(a)"
   ]
  },
  {
   "cell_type": "markdown",
   "metadata": {},
   "source": [
    "#### Verificar el tipo de datos que conforman el array con `.dtype`"
   ]
  },
  {
   "cell_type": "code",
   "execution_count": 37,
   "metadata": {},
   "outputs": [],
   "source": [
    "c = a.dtype"
   ]
  },
  {
   "cell_type": "code",
   "execution_count": 38,
   "metadata": {},
   "outputs": [
    {
     "data": {
      "text/plain": [
       "dtype('int64')"
      ]
     },
     "execution_count": 38,
     "metadata": {},
     "output_type": "execute_result"
    }
   ],
   "source": [
    "c"
   ]
  },
  {
   "cell_type": "markdown",
   "metadata": {},
   "source": [
    "#### Verificar el número de dimensiones `.ndim`"
   ]
  },
  {
   "cell_type": "code",
   "execution_count": 39,
   "metadata": {},
   "outputs": [
    {
     "data": {
      "text/plain": [
       "1"
      ]
     },
     "execution_count": 39,
     "metadata": {},
     "output_type": "execute_result"
    }
   ],
   "source": [
    "b.ndim"
   ]
  },
  {
   "cell_type": "markdown",
   "metadata": {},
   "source": [
    "#### Ver la forma del array con `.shape`"
   ]
  },
  {
   "cell_type": "code",
   "execution_count": 40,
   "metadata": {},
   "outputs": [
    {
     "data": {
      "text/plain": [
       "(2, 3)"
      ]
     },
     "execution_count": 40,
     "metadata": {},
     "output_type": "execute_result"
    }
   ],
   "source": [
    "array_2d.shape"
   ]
  },
  {
   "cell_type": "markdown",
   "metadata": {
    "tags": []
   },
   "source": [
    "### Crear arrays con la función `arange( )`"
   ]
  },
  {
   "cell_type": "code",
   "execution_count": 41,
   "metadata": {},
   "outputs": [],
   "source": [
    "a = np.arange(1,11)"
   ]
  },
  {
   "cell_type": "code",
   "execution_count": 42,
   "metadata": {},
   "outputs": [
    {
     "data": {
      "text/plain": [
       "array([ 1,  2,  3,  4,  5,  6,  7,  8,  9, 10])"
      ]
     },
     "execution_count": 42,
     "metadata": {},
     "output_type": "execute_result"
    }
   ],
   "source": [
    "a"
   ]
  },
  {
   "cell_type": "code",
   "execution_count": 43,
   "metadata": {},
   "outputs": [
    {
     "data": {
      "text/plain": [
       "array([ 10,  20,  30,  40,  50,  60,  70,  80,  90, 100])"
      ]
     },
     "execution_count": 43,
     "metadata": {},
     "output_type": "execute_result"
    }
   ],
   "source": [
    "b = np.arange(10,101, 10)\n",
    "b"
   ]
  },
  {
   "cell_type": "code",
   "execution_count": 44,
   "metadata": {},
   "outputs": [],
   "source": [
    "c = np.array([np.arange(1,11), np.arange(10,101,10)])"
   ]
  },
  {
   "cell_type": "code",
   "execution_count": 45,
   "metadata": {},
   "outputs": [
    {
     "data": {
      "text/plain": [
       "array([[  1,   2,   3,   4,   5,   6,   7,   8,   9,  10],\n",
       "       [ 10,  20,  30,  40,  50,  60,  70,  80,  90, 100]])"
      ]
     },
     "execution_count": 45,
     "metadata": {},
     "output_type": "execute_result"
    }
   ],
   "source": [
    "c"
   ]
  },
  {
   "cell_type": "markdown",
   "metadata": {
    "slideshow": {
     "slide_type": "subslide"
    }
   },
   "source": [
    "#### Multiplicar un array por un valor"
   ]
  },
  {
   "cell_type": "code",
   "execution_count": 46,
   "metadata": {},
   "outputs": [
    {
     "data": {
      "text/plain": [
       "array([ 100,  200,  300,  400,  500,  600,  700,  800,  900, 1000])"
      ]
     },
     "execution_count": 46,
     "metadata": {},
     "output_type": "execute_result"
    }
   ],
   "source": [
    "b * 10"
   ]
  },
  {
   "cell_type": "code",
   "execution_count": 47,
   "metadata": {},
   "outputs": [
    {
     "data": {
      "text/plain": [
       "array([ 20,  30,  40,  50,  60,  70,  80,  90, 100, 110])"
      ]
     },
     "execution_count": 47,
     "metadata": {},
     "output_type": "execute_result"
    }
   ],
   "source": [
    "b + 10"
   ]
  },
  {
   "cell_type": "markdown",
   "metadata": {
    "slideshow": {
     "slide_type": "subslide"
    },
    "tags": []
   },
   "source": [
    "### Arrays especiales"
   ]
  },
  {
   "cell_type": "markdown",
   "metadata": {
    "slideshow": {
     "slide_type": "subslide"
    }
   },
   "source": [
    "#### \"Zero\" Arrays"
   ]
  },
  {
   "cell_type": "code",
   "execution_count": 48,
   "metadata": {},
   "outputs": [
    {
     "data": {
      "text/plain": [
       "array([[0, 0, 0, 0, 0],\n",
       "       [0, 0, 0, 0, 0],\n",
       "       [0, 0, 0, 0, 0],\n",
       "       [0, 0, 0, 0, 0],\n",
       "       [0, 0, 0, 0, 0],\n",
       "       [0, 0, 0, 0, 0],\n",
       "       [0, 0, 0, 0, 0],\n",
       "       [0, 0, 0, 0, 0],\n",
       "       [0, 0, 0, 0, 0],\n",
       "       [0, 0, 0, 0, 0]])"
      ]
     },
     "execution_count": 48,
     "metadata": {},
     "output_type": "execute_result"
    }
   ],
   "source": [
    "np.zeros((10,5), dtype='int')"
   ]
  },
  {
   "cell_type": "markdown",
   "metadata": {
    "slideshow": {
     "slide_type": "subslide"
    }
   },
   "source": [
    "#### \"Ones\" Arrays"
   ]
  },
  {
   "cell_type": "code",
   "execution_count": 49,
   "metadata": {},
   "outputs": [
    {
     "data": {
      "text/plain": [
       "array([[1., 1., 1.],\n",
       "       [1., 1., 1.],\n",
       "       [1., 1., 1.],\n",
       "       [1., 1., 1.],\n",
       "       [1., 1., 1.]])"
      ]
     },
     "execution_count": 49,
     "metadata": {},
     "output_type": "execute_result"
    }
   ],
   "source": [
    "np.ones((5,3))"
   ]
  },
  {
   "cell_type": "markdown",
   "metadata": {
    "slideshow": {
     "slide_type": "subslide"
    }
   },
   "source": [
    "#### Array (matriz) identidad"
   ]
  },
  {
   "cell_type": "code",
   "execution_count": 50,
   "metadata": {},
   "outputs": [
    {
     "data": {
      "text/plain": [
       "array([[1., 0., 0., 0.],\n",
       "       [0., 1., 0., 0.],\n",
       "       [0., 0., 1., 0.],\n",
       "       [0., 0., 0., 1.]])"
      ]
     },
     "execution_count": 50,
     "metadata": {},
     "output_type": "execute_result"
    }
   ],
   "source": [
    "a = np.identity(4)\n",
    "a"
   ]
  },
  {
   "cell_type": "markdown",
   "metadata": {
    "slideshow": {
     "slide_type": "subslide"
    },
    "tags": []
   },
   "source": [
    "#### Linspace"
   ]
  },
  {
   "cell_type": "code",
   "execution_count": 51,
   "metadata": {},
   "outputs": [
    {
     "data": {
      "text/plain": [
       "array([0. , 0.5, 1. ])"
      ]
     },
     "execution_count": 51,
     "metadata": {},
     "output_type": "execute_result"
    }
   ],
   "source": [
    "np.linspace(0,1,3)"
   ]
  },
  {
   "cell_type": "code",
   "execution_count": 52,
   "metadata": {},
   "outputs": [
    {
     "data": {
      "text/plain": [
       "array([ 1.,  4.,  7., 10.])"
      ]
     },
     "execution_count": 52,
     "metadata": {},
     "output_type": "execute_result"
    }
   ],
   "source": [
    "np.linspace(1,10,4)"
   ]
  },
  {
   "cell_type": "markdown",
   "metadata": {
    "tags": []
   },
   "source": [
    "### Operaciones matemáticas"
   ]
  },
  {
   "cell_type": "code",
   "execution_count": 53,
   "metadata": {},
   "outputs": [
    {
     "data": {
      "text/plain": [
       "array([7766279631452241920,                   0, 4554986577074761267,\n",
       "                         0,                   3])"
      ]
     },
     "execution_count": 53,
     "metadata": {},
     "output_type": "execute_result"
    }
   ],
   "source": [
    "array_compra ** array_venta"
   ]
  },
  {
   "cell_type": "markdown",
   "metadata": {
    "slideshow": {
     "slide_type": "subslide"
    },
    "tags": []
   },
   "source": [
    "#### Operaciones matemáticas entre arrays de 2D"
   ]
  },
  {
   "cell_type": "code",
   "execution_count": null,
   "metadata": {},
   "outputs": [],
   "source": []
  },
  {
   "cell_type": "markdown",
   "metadata": {
    "slideshow": {
     "slide_type": "subslide"
    },
    "tags": []
   },
   "source": [
    "#### Algunas constantes"
   ]
  },
  {
   "cell_type": "code",
   "execution_count": 54,
   "metadata": {},
   "outputs": [
    {
     "data": {
      "text/plain": [
       "3.141592653589793"
      ]
     },
     "execution_count": 54,
     "metadata": {},
     "output_type": "execute_result"
    }
   ],
   "source": [
    "np.pi"
   ]
  },
  {
   "cell_type": "code",
   "execution_count": 55,
   "metadata": {},
   "outputs": [
    {
     "data": {
      "text/plain": [
       "array([271.82818285, 266.39161919,  51.64735474, 135.91409142,\n",
       "         8.15484549])"
      ]
     },
     "execution_count": 55,
     "metadata": {},
     "output_type": "execute_result"
    }
   ],
   "source": [
    "np.e * array_compra"
   ]
  },
  {
   "cell_type": "code",
   "execution_count": 56,
   "metadata": {},
   "outputs": [],
   "source": [
    "ln = np.log(1)"
   ]
  },
  {
   "cell_type": "code",
   "execution_count": 57,
   "metadata": {},
   "outputs": [],
   "source": [
    "log_10 = np.log10(1)"
   ]
  },
  {
   "cell_type": "code",
   "execution_count": 58,
   "metadata": {},
   "outputs": [
    {
     "data": {
      "text/plain": [
       "270"
      ]
     },
     "execution_count": 58,
     "metadata": {},
     "output_type": "execute_result"
    }
   ],
   "source": [
    "array_compra.sum()"
   ]
  },
  {
   "cell_type": "code",
   "execution_count": null,
   "metadata": {},
   "outputs": [],
   "source": []
  },
  {
   "cell_type": "markdown",
   "metadata": {
    "tags": []
   },
   "source": [
    "### Resumen operaciones matemáticas entre arrays"
   ]
  },
  {
   "cell_type": "markdown",
   "metadata": {
    "slideshow": {
     "slide_type": "slide"
    }
   },
   "source": [
    "Reglas:\n",
    "1. Debe de coincidir los tamaños de los arrays.\n",
    "2. Operadores matemáticos (+, *, exp, log,...) se aplican elemento por elemento.\n",
    "3. Operaciones reductoras (sumar, promeido, std, skew, kurtosis, prod,...) se aplican a todo el arreglo almenos que definas un index."
   ]
  },
  {
   "cell_type": "markdown",
   "metadata": {
    "tags": []
   },
   "source": [
    "### Operaciones matemáticas en el arrays"
   ]
  },
  {
   "cell_type": "code",
   "execution_count": null,
   "metadata": {},
   "outputs": [],
   "source": []
  },
  {
   "cell_type": "markdown",
   "metadata": {
    "tags": []
   },
   "source": [
    "#### Sumar todos los elementos en el array"
   ]
  },
  {
   "cell_type": "code",
   "execution_count": 59,
   "metadata": {},
   "outputs": [
    {
     "data": {
      "text/plain": [
       "array([100,  98,  19,  50,   3])"
      ]
     },
     "execution_count": 59,
     "metadata": {},
     "output_type": "execute_result"
    }
   ],
   "source": [
    "array_compra"
   ]
  },
  {
   "cell_type": "code",
   "execution_count": 60,
   "metadata": {},
   "outputs": [
    {
     "data": {
      "text/plain": [
       "270"
      ]
     },
     "execution_count": 60,
     "metadata": {},
     "output_type": "execute_result"
    }
   ],
   "source": [
    "array_compra.sum()"
   ]
  },
  {
   "cell_type": "code",
   "execution_count": null,
   "metadata": {},
   "outputs": [],
   "source": []
  },
  {
   "cell_type": "markdown",
   "metadata": {
    "tags": []
   },
   "source": [
    "#### Multiplicar todos los elementos en el array"
   ]
  },
  {
   "cell_type": "code",
   "execution_count": 61,
   "metadata": {},
   "outputs": [
    {
     "data": {
      "text/plain": [
       "27930000"
      ]
     },
     "execution_count": 61,
     "metadata": {},
     "output_type": "execute_result"
    }
   ],
   "source": [
    "array_compra.prod()"
   ]
  },
  {
   "cell_type": "code",
   "execution_count": null,
   "metadata": {},
   "outputs": [],
   "source": []
  },
  {
   "cell_type": "markdown",
   "metadata": {
    "tags": []
   },
   "source": [
    "#### Calcular el promedio de los elementos en el array"
   ]
  },
  {
   "cell_type": "code",
   "execution_count": 62,
   "metadata": {},
   "outputs": [
    {
     "data": {
      "text/plain": [
       "54.0"
      ]
     },
     "execution_count": 62,
     "metadata": {},
     "output_type": "execute_result"
    }
   ],
   "source": [
    "array_compra.mean()"
   ]
  },
  {
   "cell_type": "code",
   "execution_count": null,
   "metadata": {},
   "outputs": [],
   "source": []
  },
  {
   "cell_type": "markdown",
   "metadata": {
    "tags": []
   },
   "source": [
    "#### Encontrar los valores mínimos y máximos en el array"
   ]
  },
  {
   "cell_type": "code",
   "execution_count": 63,
   "metadata": {},
   "outputs": [
    {
     "data": {
      "text/plain": [
       "3"
      ]
     },
     "execution_count": 63,
     "metadata": {},
     "output_type": "execute_result"
    }
   ],
   "source": [
    "array_compra.min()"
   ]
  },
  {
   "cell_type": "code",
   "execution_count": 64,
   "metadata": {},
   "outputs": [
    {
     "data": {
      "text/plain": [
       "100"
      ]
     },
     "execution_count": 64,
     "metadata": {},
     "output_type": "execute_result"
    }
   ],
   "source": [
    "array_compra.max()"
   ]
  },
  {
   "cell_type": "markdown",
   "metadata": {
    "tags": []
   },
   "source": [
    "#### Encontrar los index donde están los valores mínimos y máximos en un array"
   ]
  },
  {
   "cell_type": "code",
   "execution_count": 65,
   "metadata": {},
   "outputs": [
    {
     "data": {
      "text/plain": [
       "array([100,  98,  19,  50,   3])"
      ]
     },
     "execution_count": 65,
     "metadata": {},
     "output_type": "execute_result"
    }
   ],
   "source": [
    "array_compra"
   ]
  },
  {
   "cell_type": "code",
   "execution_count": 66,
   "metadata": {},
   "outputs": [
    {
     "data": {
      "text/plain": [
       "4"
      ]
     },
     "execution_count": 66,
     "metadata": {},
     "output_type": "execute_result"
    }
   ],
   "source": [
    "array_compra.argmin()"
   ]
  },
  {
   "cell_type": "code",
   "execution_count": 67,
   "metadata": {},
   "outputs": [
    {
     "data": {
      "text/plain": [
       "0"
      ]
     },
     "execution_count": 67,
     "metadata": {},
     "output_type": "execute_result"
    }
   ],
   "source": [
    "array_compra.argmax()"
   ]
  },
  {
   "cell_type": "markdown",
   "metadata": {
    "slideshow": {
     "slide_type": "subslide"
    },
    "tags": []
   },
   "source": [
    "### Calcular retornos aritmétricos diarios de un activo financiero"
   ]
  },
  {
   "cell_type": "markdown",
   "metadata": {
    "tags": []
   },
   "source": [
    "#### Gameplan:"
   ]
  },
  {
   "cell_type": "markdown",
   "metadata": {},
   "source": [
    "$$R_n=\\frac{P_{n+1} - P_{n}}{P_{n}}$$\n",
    "\n",
    "1. Importar datos de internet\n",
    "1. Calcular diferencia entre P$_{n+1}$ y P$_{n}$\n",
    "1. Dividir diferenia entre P$_n$\n",
    "1. Calcular media de los retornos\n",
    "1. Calcular $\\sigma$\n",
    "1. Graficar retornos\n",
    "    1. Números de retornos (eje x)\n",
    "    1. Titulo de la gráfica\n",
    "    1. Leyendas ejes X's y Y's\n",
    "1. Graficar línea retorno promedios"
   ]
  },
  {
   "cell_type": "markdown",
   "metadata": {
    "tags": []
   },
   "source": [
    "##### 1. Importar datos utilizando la función `loadtxt( )`"
   ]
  },
  {
   "cell_type": "code",
   "execution_count": 68,
   "metadata": {},
   "outputs": [],
   "source": [
    "url = 'https://raw.githubusercontent.com/carlosdeoncedos/analisisdeinversion2021/main/Datos/T5PreciosSimulados.csv'"
   ]
  },
  {
   "cell_type": "code",
   "execution_count": 69,
   "metadata": {},
   "outputs": [],
   "source": [
    "precios = np.loadtxt(url, usecols=[0], delimiter=',')"
   ]
  },
  {
   "cell_type": "code",
   "execution_count": 70,
   "metadata": {},
   "outputs": [
    {
     "data": {
      "text/plain": [
       "(250,)"
      ]
     },
     "execution_count": 70,
     "metadata": {},
     "output_type": "execute_result"
    }
   ],
   "source": [
    "np.shape(precios)"
   ]
  },
  {
   "cell_type": "markdown",
   "metadata": {},
   "source": [
    "Argumentos de `loadtxt( )`"
   ]
  },
  {
   "cell_type": "markdown",
   "metadata": {},
   "source": [
    "https://numpy.org/doc/stable/reference/generated/numpy.loadtxt.html"
   ]
  },
  {
   "cell_type": "markdown",
   "metadata": {},
   "source": [
    "##### 2. Calcular diferencia entre $P_{n+1}$ y $P_{n}$"
   ]
  },
  {
   "cell_type": "code",
   "execution_count": 71,
   "metadata": {},
   "outputs": [],
   "source": [
    "diferencia = precios[1:] - precios[:-1]"
   ]
  },
  {
   "cell_type": "code",
   "execution_count": 72,
   "metadata": {},
   "outputs": [
    {
     "data": {
      "text/plain": [
       "(249,)"
      ]
     },
     "execution_count": 72,
     "metadata": {},
     "output_type": "execute_result"
    }
   ],
   "source": [
    "np.shape(diferencia)"
   ]
  },
  {
   "cell_type": "markdown",
   "metadata": {},
   "source": [
    "##### 3. Dividir diferenia entre P$_n$"
   ]
  },
  {
   "cell_type": "code",
   "execution_count": 73,
   "metadata": {},
   "outputs": [],
   "source": [
    "retornos  = diferencia / precios[:-1]"
   ]
  },
  {
   "cell_type": "code",
   "execution_count": 74,
   "metadata": {},
   "outputs": [
    {
     "data": {
      "text/plain": [
       "array([ 5.34154152e-03, -1.25510033e-02, -1.46024954e-02, -1.26091207e-02,\n",
       "       -7.09832270e-03, -1.35248607e-02, -9.24660278e-03,  1.02896448e-04,\n",
       "        2.46270939e-03,  1.50043038e-02,  1.51822952e-02,  1.98822218e-02,\n",
       "        1.34644558e-02,  1.20478585e-03, -1.23470878e-02,  1.39702689e-02,\n",
       "       -1.58989041e-02, -1.81352115e-03,  3.01815789e-03,  2.19645104e-02,\n",
       "        1.16776985e-03, -1.85016511e-03, -9.54850891e-03, -7.03942185e-03,\n",
       "       -2.73940452e-02, -7.11320869e-03,  3.28727298e-03, -1.24922037e-02,\n",
       "       -2.10377541e-02,  2.62151273e-03,  1.24017928e-02, -6.67002572e-03,\n",
       "        6.11442902e-03,  1.85845872e-02,  2.38673661e-02,  1.03230271e-02,\n",
       "        6.62799976e-03,  2.65093565e-04, -5.52192022e-03,  1.47091351e-02,\n",
       "       -2.30173198e-04, -2.83029685e-03,  2.78739372e-03,  1.53588070e-02,\n",
       "       -3.84712734e-03,  8.17991317e-03, -5.93490049e-04, -2.45661046e-03,\n",
       "        1.44845668e-03, -4.71144274e-03,  1.09514497e-02,  1.01514871e-02,\n",
       "        3.88887436e-03, -4.95503510e-03, -1.06842371e-02,  1.70089665e-02,\n",
       "       -5.55547146e-03,  4.81493554e-03,  3.72857621e-02, -3.19903873e-03,\n",
       "       -1.16435056e-02, -7.62529049e-03,  1.60141306e-02,  1.46842337e-02,\n",
       "       -1.37511639e-02, -1.18217192e-02,  2.50862790e-02, -1.39807368e-02,\n",
       "        4.54157895e-03, -2.91751739e-04,  1.21173563e-02, -1.89674894e-02,\n",
       "       -1.61042436e-02,  3.46832095e-03, -8.28085825e-03,  4.25163785e-03,\n",
       "       -1.98578295e-02,  1.16392320e-02, -1.27219326e-02,  1.91193555e-02,\n",
       "       -2.35640240e-03,  1.04986723e-02, -8.14096403e-03,  4.75351715e-03,\n",
       "       -2.60688164e-03,  1.25430615e-02,  3.11722230e-03, -1.17108672e-02,\n",
       "        1.48543275e-02,  1.98756930e-02, -1.12003557e-02,  2.43870371e-02,\n",
       "        1.61081739e-02, -3.30015079e-03, -2.26687622e-02, -2.72889177e-03,\n",
       "        3.76010260e-02, -1.53282906e-02,  9.11520295e-03,  2.65514143e-02,\n",
       "        1.89699857e-02,  8.14857093e-03, -1.29126521e-04,  1.09850331e-03,\n",
       "        2.44283376e-02,  7.71314588e-03, -5.83272467e-03,  3.73952929e-02,\n",
       "        9.25030175e-03, -9.19911123e-03, -3.97569487e-02, -1.82037655e-02,\n",
       "       -3.68090721e-03, -1.97551756e-03, -5.57594430e-04,  1.48819670e-02,\n",
       "        2.01232157e-03, -1.09409101e-02, -2.48090619e-03, -1.80261356e-02,\n",
       "       -2.14585174e-02,  2.50827714e-03,  1.09558471e-02, -6.20079565e-03,\n",
       "       -1.01541831e-02, -2.13080910e-03,  1.39393016e-02, -8.52306750e-03,\n",
       "        3.99456556e-03, -1.34046494e-02,  1.99620314e-02,  3.87577534e-03,\n",
       "        5.57970355e-03, -6.84931001e-03,  4.67899347e-03,  9.21881306e-03,\n",
       "        1.03999938e-02, -6.56183250e-03, -2.22888424e-02,  6.55052335e-03,\n",
       "       -2.44561052e-02, -1.10989333e-02, -2.41544754e-03,  2.46648132e-03,\n",
       "        3.68586625e-03,  2.27369872e-03, -4.87842219e-03, -2.46002038e-02,\n",
       "       -1.46214837e-02,  8.74892204e-03, -6.43652692e-04,  1.08274720e-02,\n",
       "        2.02067322e-03,  2.20141369e-03,  3.73609691e-03, -1.46826915e-03,\n",
       "       -6.86073743e-03, -8.07909942e-03, -8.74218988e-03,  2.37504300e-03,\n",
       "        2.10687766e-03, -9.35998640e-03,  9.56197697e-04, -3.76945775e-03,\n",
       "        9.05792991e-03,  5.28535560e-03, -1.31864194e-02,  4.97934986e-03,\n",
       "       -1.66054296e-02,  1.88909359e-02,  1.90631767e-03,  2.08204000e-02,\n",
       "       -1.73330984e-02,  5.98691127e-04,  5.39380399e-03,  2.17080163e-02,\n",
       "        3.29321864e-03, -2.24812652e-03, -2.27227608e-03, -1.13328961e-02,\n",
       "       -5.93089458e-04,  5.30787219e-03,  1.39316075e-03, -4.37608846e-03,\n",
       "        9.03441679e-03,  1.90043804e-02, -2.27784997e-02,  1.58187480e-02,\n",
       "        5.38219313e-04,  3.49830755e-02, -2.50260862e-02, -2.19426328e-03,\n",
       "       -3.69115751e-03, -1.41744809e-02, -3.09908904e-03,  1.24191679e-02,\n",
       "        8.80837745e-03, -1.30027918e-02, -9.80243666e-03, -9.86509534e-04,\n",
       "       -4.47192445e-03,  5.34899411e-03, -1.88250715e-03, -9.73736228e-03,\n",
       "       -2.41816940e-02, -1.42529285e-02,  1.20155163e-02,  7.05901120e-03,\n",
       "       -7.98690146e-03, -2.56407348e-03, -1.30388365e-02,  2.99394275e-02,\n",
       "        1.24066013e-02,  6.94814207e-03, -7.12707838e-04,  7.05980780e-03,\n",
       "       -4.64292207e-03,  4.09775188e-03, -1.07902303e-02,  3.95443820e-03,\n",
       "       -9.96759594e-03,  2.58417468e-02,  1.76592985e-02,  8.38664227e-03,\n",
       "       -2.35296666e-02,  1.64302709e-02, -3.04754006e-03,  5.94009876e-03,\n",
       "       -1.54485284e-02, -9.80047982e-04,  4.21513762e-03, -1.63685609e-02,\n",
       "        9.45230892e-03,  2.58056629e-05,  1.25622182e-03,  1.43645902e-02,\n",
       "       -2.11950620e-02, -9.75864083e-03,  3.74485393e-03,  9.77464813e-03,\n",
       "       -6.00446946e-03, -2.36610679e-02, -1.43181017e-02, -2.87749766e-03,\n",
       "        2.63592473e-03, -1.49241007e-02,  1.14626897e-02,  5.96617649e-03,\n",
       "        1.00889956e-02])"
      ]
     },
     "execution_count": 74,
     "metadata": {},
     "output_type": "execute_result"
    }
   ],
   "source": [
    "retornos"
   ]
  },
  {
   "cell_type": "code",
   "execution_count": null,
   "metadata": {},
   "outputs": [],
   "source": []
  },
  {
   "cell_type": "markdown",
   "metadata": {},
   "source": [
    "##### 4. Calcular media de los retornos"
   ]
  },
  {
   "cell_type": "code",
   "execution_count": 75,
   "metadata": {},
   "outputs": [
    {
     "data": {
      "text/plain": [
       "0.0004222636601571489"
      ]
     },
     "execution_count": 75,
     "metadata": {},
     "output_type": "execute_result"
    }
   ],
   "source": [
    "promedio = retornos.mean()\n",
    "promedio"
   ]
  },
  {
   "cell_type": "markdown",
   "metadata": {},
   "source": [
    "5. Calcular $\\sigma$"
   ]
  },
  {
   "cell_type": "code",
   "execution_count": 76,
   "metadata": {},
   "outputs": [
    {
     "data": {
      "text/plain": [
       "0.012825141305966166"
      ]
     },
     "execution_count": 76,
     "metadata": {},
     "output_type": "execute_result"
    }
   ],
   "source": [
    "sigma = retornos.std()\n",
    "sigma"
   ]
  },
  {
   "cell_type": "markdown",
   "metadata": {},
   "source": [
    "6. Graficar retornos"
   ]
  },
  {
   "cell_type": "markdown",
   "metadata": {
    "tags": []
   },
   "source": [
    "###### 6.a Contar el número de días"
   ]
  },
  {
   "cell_type": "code",
   "execution_count": 77,
   "metadata": {},
   "outputs": [],
   "source": [
    "dias = len(retornos)"
   ]
  },
  {
   "cell_type": "code",
   "execution_count": 78,
   "metadata": {},
   "outputs": [
    {
     "data": {
      "text/plain": [
       "249"
      ]
     },
     "execution_count": 78,
     "metadata": {},
     "output_type": "execute_result"
    }
   ],
   "source": [
    "dias"
   ]
  },
  {
   "cell_type": "code",
   "execution_count": 79,
   "metadata": {},
   "outputs": [
    {
     "data": {
      "text/plain": [
       "array([  1,   2,   3,   4,   5,   6,   7,   8,   9,  10,  11,  12,  13,\n",
       "        14,  15,  16,  17,  18,  19,  20,  21,  22,  23,  24,  25,  26,\n",
       "        27,  28,  29,  30,  31,  32,  33,  34,  35,  36,  37,  38,  39,\n",
       "        40,  41,  42,  43,  44,  45,  46,  47,  48,  49,  50,  51,  52,\n",
       "        53,  54,  55,  56,  57,  58,  59,  60,  61,  62,  63,  64,  65,\n",
       "        66,  67,  68,  69,  70,  71,  72,  73,  74,  75,  76,  77,  78,\n",
       "        79,  80,  81,  82,  83,  84,  85,  86,  87,  88,  89,  90,  91,\n",
       "        92,  93,  94,  95,  96,  97,  98,  99, 100, 101, 102, 103, 104,\n",
       "       105, 106, 107, 108, 109, 110, 111, 112, 113, 114, 115, 116, 117,\n",
       "       118, 119, 120, 121, 122, 123, 124, 125, 126, 127, 128, 129, 130,\n",
       "       131, 132, 133, 134, 135, 136, 137, 138, 139, 140, 141, 142, 143,\n",
       "       144, 145, 146, 147, 148, 149, 150, 151, 152, 153, 154, 155, 156,\n",
       "       157, 158, 159, 160, 161, 162, 163, 164, 165, 166, 167, 168, 169,\n",
       "       170, 171, 172, 173, 174, 175, 176, 177, 178, 179, 180, 181, 182,\n",
       "       183, 184, 185, 186, 187, 188, 189, 190, 191, 192, 193, 194, 195,\n",
       "       196, 197, 198, 199, 200, 201, 202, 203, 204, 205, 206, 207, 208,\n",
       "       209, 210, 211, 212, 213, 214, 215, 216, 217, 218, 219, 220, 221,\n",
       "       222, 223, 224, 225, 226, 227, 228, 229, 230, 231, 232, 233, 234,\n",
       "       235, 236, 237, 238, 239, 240, 241, 242, 243, 244, 245, 246, 247,\n",
       "       248, 249])"
      ]
     },
     "execution_count": 79,
     "metadata": {},
     "output_type": "execute_result"
    }
   ],
   "source": [
    "dias = np.arange(1, len(retornos)+1)\n",
    "dias"
   ]
  },
  {
   "cell_type": "markdown",
   "metadata": {
    "tags": []
   },
   "source": [
    "###### 6.b y 6.c Generar gráfica, incluir titulo y leyendas en los ejes X y Y"
   ]
  },
  {
   "cell_type": "code",
   "execution_count": 80,
   "metadata": {},
   "outputs": [],
   "source": [
    "import matplotlib.pyplot as plt"
   ]
  },
  {
   "cell_type": "code",
   "execution_count": 81,
   "metadata": {},
   "outputs": [
    {
     "data": {
      "image/png": "[encoded data removed]",
      "text/plain": [
       "<Figure size 864x432 with 1 Axes>"
      ]
     },
     "metadata": {
      "needs_background": "light"
     },
     "output_type": "display_data"
    }
   ],
   "source": [
    "fig, ax = plt.subplots(figsize=(12,6))\n",
    "ax.plot(dias, retornos, c='navy')\n",
    "ax.set_title('Retornos ARITMETRICOS diarios');"
   ]
  },
  {
   "cell_type": "code",
   "execution_count": 82,
   "metadata": {},
   "outputs": [
    {
     "data": {
      "image/png": "[encoded data removed]",
      "text/plain": [
       "<Figure size 864x432 with 1 Axes>"
      ]
     },
     "metadata": {
      "needs_background": "light"
     },
     "output_type": "display_data"
    }
   ],
   "source": [
    "fig, ax = plt.subplots(figsize=(12,6))\n",
    "ax.plot(dias, retornos, c='navy')\n",
    "ax.set_title('Retornos ARITMETRICOS diarios')\n",
    "ax.axhline(promedio, c='r', ls=':');"
   ]
  },
  {
   "cell_type": "code",
   "execution_count": null,
   "metadata": {},
   "outputs": [],
   "source": []
  },
  {
   "cell_type": "markdown",
   "metadata": {},
   "source": [
    "##### Generar línea horizontal con el promedio de los retornos"
   ]
  },
  {
   "cell_type": "code",
   "execution_count": null,
   "metadata": {},
   "outputs": [],
   "source": []
  },
  {
   "cell_type": "markdown",
   "metadata": {
    "tags": []
   },
   "source": [
    "### Comparando arrays"
   ]
  },
  {
   "cell_type": "code",
   "execution_count": 83,
   "metadata": {},
   "outputs": [],
   "source": [
    "a = np.array([10,5,0])\n",
    "b = np.array([3,5,8])"
   ]
  },
  {
   "cell_type": "code",
   "execution_count": 84,
   "metadata": {},
   "outputs": [
    {
     "data": {
      "text/plain": [
       "array([ True, False, False])"
      ]
     },
     "execution_count": 84,
     "metadata": {},
     "output_type": "execute_result"
    }
   ],
   "source": [
    "a>b"
   ]
  },
  {
   "cell_type": "code",
   "execution_count": 85,
   "metadata": {},
   "outputs": [
    {
     "data": {
      "text/plain": [
       "array([False,  True, False])"
      ]
     },
     "execution_count": 85,
     "metadata": {},
     "output_type": "execute_result"
    }
   ],
   "source": [
    "a == b"
   ]
  },
  {
   "cell_type": "code",
   "execution_count": 86,
   "metadata": {},
   "outputs": [
    {
     "data": {
      "text/plain": [
       "array([False, False,  True])"
      ]
     },
     "execution_count": 86,
     "metadata": {},
     "output_type": "execute_result"
    }
   ],
   "source": [
    "b > 5"
   ]
  },
  {
   "cell_type": "code",
   "execution_count": null,
   "metadata": {},
   "outputs": [],
   "source": []
  },
  {
   "cell_type": "markdown",
   "metadata": {
    "tags": []
   },
   "source": [
    "#### Comparar utilizando la función `logical_and`"
   ]
  },
  {
   "cell_type": "markdown",
   "metadata": {},
   "source": [
    "> \"*`logical_and` calcula el valor verdadero de $x_1$ y $x_2$* con cada elemento del array\". https://numpy.org/doc/stable/reference/generated/numpy.logical_and.html "
   ]
  },
  {
   "cell_type": "code",
   "execution_count": 87,
   "metadata": {},
   "outputs": [
    {
     "data": {
      "text/plain": [
       "array([False,  True, False])"
      ]
     },
     "execution_count": 87,
     "metadata": {},
     "output_type": "execute_result"
    }
   ],
   "source": [
    "np.logical_and(a>4, a<6)"
   ]
  },
  {
   "cell_type": "markdown",
   "metadata": {
    "tags": []
   },
   "source": [
    "#### Comparar utilizando la función `logical_or`"
   ]
  },
  {
   "cell_type": "markdown",
   "metadata": {},
   "source": [
    "> \"*`logical_and` calcula el valor verdadero de $x_1$ y $x_2$* con cada elemento del array\". https://numpy.org/doc/stable/reference/generated/numpy.logical_and.html "
   ]
  },
  {
   "cell_type": "code",
   "execution_count": 88,
   "metadata": {},
   "outputs": [
    {
     "data": {
      "text/plain": [
       "array([10,  5,  0])"
      ]
     },
     "execution_count": 88,
     "metadata": {},
     "output_type": "execute_result"
    }
   ],
   "source": [
    "a"
   ]
  },
  {
   "cell_type": "code",
   "execution_count": 89,
   "metadata": {},
   "outputs": [
    {
     "data": {
      "text/plain": [
       "array([ True, False,  True])"
      ]
     },
     "execution_count": 89,
     "metadata": {},
     "output_type": "execute_result"
    }
   ],
   "source": [
    "np.logical_or(a<4, a>6)"
   ]
  },
  {
   "cell_type": "code",
   "execution_count": null,
   "metadata": {},
   "outputs": [],
   "source": []
  },
  {
   "cell_type": "markdown",
   "metadata": {
    "tags": []
   },
   "source": [
    "#### Una especie del IF de excel en NumPy: `where( )`"
   ]
  },
  {
   "cell_type": "markdown",
   "metadata": {},
   "source": [
    "> Sintaxis:  where(evaluación, $respuesta_1$ si es verdadero, $respuesta_2$ si es falso)"
   ]
  },
  {
   "cell_type": "code",
   "execution_count": 90,
   "metadata": {},
   "outputs": [],
   "source": [
    "a = np.array([4,6,8])"
   ]
  },
  {
   "cell_type": "code",
   "execution_count": 91,
   "metadata": {},
   "outputs": [
    {
     "data": {
      "text/plain": [
       "array([0, 1, 0])"
      ]
     },
     "execution_count": 91,
     "metadata": {},
     "output_type": "execute_result"
    }
   ],
   "source": [
    "np.where(a==6, 1, 0)"
   ]
  },
  {
   "cell_type": "markdown",
   "metadata": {
    "tags": []
   },
   "source": [
    "### Identificar volumen transacción mayor a 80 mil millones"
   ]
  },
  {
   "cell_type": "markdown",
   "metadata": {},
   "source": [
    "Pregunta:  _Entre mayor volumen de transacción diaria es un indicativo de que el activo está en una alza o una baja_?"
   ]
  },
  {
   "cell_type": "markdown",
   "metadata": {
    "tags": []
   },
   "source": [
    "#### Gameplan:"
   ]
  },
  {
   "cell_type": "markdown",
   "metadata": {},
   "source": [
    "1. Cargar precios BTC/USD.\n",
    "1. Generar _filtro_.\n",
    "1. Encontrar días que el volumen de transacción es mayor al filtro.\n",
    "1. Visualizar resultados."
   ]
  },
  {
   "cell_type": "markdown",
   "metadata": {
    "tags": []
   },
   "source": [
    "##### 1. Cargar precios BTC/USD"
   ]
  },
  {
   "cell_type": "code",
   "execution_count": 92,
   "metadata": {},
   "outputs": [],
   "source": [
    "url = 'https://raw.githubusercontent.com/carlosdeoncedos/analisisdeinversion2021/main/Datos/BTC-USD.csv'"
   ]
  },
  {
   "cell_type": "code",
   "execution_count": 93,
   "metadata": {},
   "outputs": [],
   "source": [
    "btc = np.loadtxt(url, delimiter=',')"
   ]
  },
  {
   "cell_type": "code",
   "execution_count": 94,
   "metadata": {},
   "outputs": [
    {
     "data": {
      "text/plain": [
       "array([[1.08454111e+04, 1.08565283e+04, 1.06896709e+04, 1.07876182e+04,\n",
       "        2.07596220e+10],\n",
       "       [1.07850107e+04, 1.09158438e+04, 1.04935527e+04, 1.06233301e+04,\n",
       "        2.71782278e+10],\n",
       "       [1.06243906e+04, 1.06628135e+04, 1.04403115e+04, 1.05851641e+04,\n",
       "        2.31278393e+10],\n",
       "       ...,\n",
       "       [4.22008984e+04, 4.27751445e+04, 4.09316641e+04, 4.10345430e+04,\n",
       "        3.02149406e+10],\n",
       "       [4.10649844e+04, 4.25452578e+04, 4.08296680e+04, 4.15643633e+04,\n",
       "        3.06023599e+10],\n",
       "       [4.15732695e+04, 4.40090117e+04, 4.14725781e+04, 4.37744688e+04,\n",
       "        3.13376645e+10]])"
      ]
     },
     "execution_count": 94,
     "metadata": {},
     "output_type": "execute_result"
    }
   ],
   "source": [
    "btc"
   ]
  },
  {
   "cell_type": "code",
   "execution_count": 95,
   "metadata": {},
   "outputs": [],
   "source": [
    "APERTURA = 0\n",
    "MAXIMO = 1\n",
    "MINIMO = 2\n",
    "CIERRE = 3\n",
    "VOLUMEN = 4"
   ]
  },
  {
   "cell_type": "markdown",
   "metadata": {
    "tags": []
   },
   "source": [
    "##### 2. Generar _filtro_"
   ]
  },
  {
   "cell_type": "code",
   "execution_count": 96,
   "metadata": {},
   "outputs": [],
   "source": [
    "percentil = np.percentile(btc[:,VOLUMEN], 98)"
   ]
  },
  {
   "cell_type": "code",
   "execution_count": 97,
   "metadata": {},
   "outputs": [
    {
     "data": {
      "text/plain": [
       "95600657103.43996"
      ]
     },
     "execution_count": 97,
     "metadata": {},
     "output_type": "execute_result"
    }
   ],
   "source": [
    "percentil"
   ]
  },
  {
   "cell_type": "code",
   "execution_count": 98,
   "metadata": {},
   "outputs": [],
   "source": [
    "filtro = btc[:,VOLUMEN]>=percentil"
   ]
  },
  {
   "cell_type": "code",
   "execution_count": 99,
   "metadata": {},
   "outputs": [
    {
     "data": {
      "text/plain": [
       "array([False, False, False, False, False, False, False, False, False,\n",
       "       False, False, False, False, False, False, False, False, False,\n",
       "       False, False, False, False, False, False, False, False, False,\n",
       "       False, False, False, False, False, False, False, False, False,\n",
       "       False, False, False, False, False, False, False, False, False,\n",
       "       False, False, False, False, False, False, False, False, False,\n",
       "       False, False, False, False, False, False, False, False, False,\n",
       "       False, False, False, False, False, False, False, False, False,\n",
       "       False, False, False, False, False, False, False, False, False,\n",
       "       False, False, False, False, False, False, False, False, False,\n",
       "       False, False, False, False, False, False, False, False, False,\n",
       "       False,  True, False, False, False, False, False, False, False,\n",
       "       False, False, False, False, False, False, False, False, False,\n",
       "       False,  True, False, False, False, False, False, False, False,\n",
       "       False, False,  True, False, False, False, False, False, False,\n",
       "       False, False, False, False, False, False, False, False,  True,\n",
       "       False, False,  True, False, False, False, False, False, False,\n",
       "       False, False, False, False, False, False, False, False, False,\n",
       "       False, False, False, False, False, False, False, False, False,\n",
       "       False, False, False, False, False, False, False, False, False,\n",
       "       False, False, False, False, False, False, False, False, False,\n",
       "       False, False, False, False, False, False, False, False,  True,\n",
       "       False, False, False, False, False, False, False, False, False,\n",
       "       False, False, False, False, False, False, False, False, False,\n",
       "       False, False, False, False, False, False,  True, False, False,\n",
       "       False, False, False,  True, False, False, False, False, False,\n",
       "       False, False, False, False, False, False, False, False, False,\n",
       "       False, False, False, False, False, False, False, False, False,\n",
       "       False, False, False, False, False, False, False, False, False,\n",
       "       False, False, False, False, False, False, False, False, False,\n",
       "       False, False, False, False, False, False, False, False, False,\n",
       "       False, False, False, False, False, False, False, False, False,\n",
       "       False, False, False, False, False, False, False, False, False,\n",
       "       False, False, False, False, False, False, False, False, False,\n",
       "       False, False, False, False, False, False, False, False, False,\n",
       "       False, False, False, False, False, False, False, False, False,\n",
       "       False, False, False, False, False, False, False, False, False,\n",
       "       False, False, False, False, False, False, False, False, False,\n",
       "       False, False, False, False, False, False, False, False, False,\n",
       "       False, False, False, False, False, False, False, False, False,\n",
       "       False, False, False])"
      ]
     },
     "execution_count": 99,
     "metadata": {},
     "output_type": "execute_result"
    }
   ],
   "source": [
    "filtro"
   ]
  },
  {
   "cell_type": "code",
   "execution_count": 100,
   "metadata": {},
   "outputs": [
    {
     "data": {
      "text/plain": [
       "2"
      ]
     },
     "execution_count": 100,
     "metadata": {},
     "output_type": "execute_result"
    }
   ],
   "source": [
    "True + True"
   ]
  },
  {
   "cell_type": "code",
   "execution_count": 101,
   "metadata": {},
   "outputs": [
    {
     "data": {
      "text/plain": [
       "1"
      ]
     },
     "execution_count": 101,
     "metadata": {},
     "output_type": "execute_result"
    }
   ],
   "source": [
    "False + True"
   ]
  },
  {
   "cell_type": "code",
   "execution_count": 102,
   "metadata": {},
   "outputs": [],
   "source": [
    "btc_dias_alto_volumen  = np.sum(filtro)"
   ]
  },
  {
   "cell_type": "code",
   "execution_count": 103,
   "metadata": {},
   "outputs": [
    {
     "data": {
      "text/plain": [
       "8"
      ]
     },
     "execution_count": 103,
     "metadata": {},
     "output_type": "execute_result"
    }
   ],
   "source": [
    "btc_dias_alto_volumen"
   ]
  },
  {
   "cell_type": "markdown",
   "metadata": {
    "tags": []
   },
   "source": [
    "##### 3. Encontrar días que el volumen de transacción es mayor al filtro"
   ]
  },
  {
   "cell_type": "code",
   "execution_count": 104,
   "metadata": {},
   "outputs": [],
   "source": [
    "index_alto_volumen = np.where(filtro)[0]"
   ]
  },
  {
   "cell_type": "code",
   "execution_count": 105,
   "metadata": {},
   "outputs": [
    {
     "data": {
      "text/plain": [
       "array([100, 118, 128, 143, 146, 197, 222, 228])"
      ]
     },
     "execution_count": 105,
     "metadata": {},
     "output_type": "execute_result"
    }
   ],
   "source": [
    "index_alto_volumen"
   ]
  },
  {
   "cell_type": "markdown",
   "metadata": {
    "tags": []
   },
   "source": [
    "##### 4. Visualizar resultados"
   ]
  },
  {
   "cell_type": "code",
   "execution_count": 106,
   "metadata": {},
   "outputs": [
    {
     "data": {
      "image/png": "[encoded data removed]",
      "text/plain": [
       "<Figure size 864x432 with 1 Axes>"
      ]
     },
     "metadata": {
      "needs_background": "light"
     },
     "output_type": "display_data"
    }
   ],
   "source": [
    "fig, ax = plt.subplots(figsize=(12,6))\n",
    "ax.plot(btc[:,CIERRE], c='navy');"
   ]
  },
  {
   "cell_type": "code",
   "execution_count": 107,
   "metadata": {},
   "outputs": [
    {
     "data": {
      "image/png": "[encoded data removed]",
      "text/plain": [
       "<Figure size 864x432 with 1 Axes>"
      ]
     },
     "metadata": {
      "needs_background": "light"
     },
     "output_type": "display_data"
    }
   ],
   "source": [
    "fig, ax = plt.subplots(figsize=(12,6))\n",
    "ax.plot(btc[:,CIERRE], c='navy')\n",
    "ax.plot(index_alto_volumen, btc[index_alto_volumen, CIERRE], 'ro');"
   ]
  },
  {
   "cell_type": "markdown",
   "metadata": {
    "tags": []
   },
   "source": [
    "### Estadísticas"
   ]
  },
  {
   "cell_type": "markdown",
   "metadata": {
    "tags": []
   },
   "source": [
    "#### Promedio"
   ]
  },
  {
   "cell_type": "code",
   "execution_count": 108,
   "metadata": {},
   "outputs": [
    {
     "data": {
      "text/plain": [
       "(363, 5)"
      ]
     },
     "execution_count": 108,
     "metadata": {},
     "output_type": "execute_result"
    }
   ],
   "source": [
    "np.shape(btc)"
   ]
  },
  {
   "cell_type": "code",
   "execution_count": 109,
   "metadata": {},
   "outputs": [
    {
     "data": {
      "text/plain": [
       "9435420347.415796"
      ]
     },
     "execution_count": 109,
     "metadata": {},
     "output_type": "execute_result"
    }
   ],
   "source": [
    "btc.mean()"
   ]
  },
  {
   "cell_type": "code",
   "execution_count": 110,
   "metadata": {},
   "outputs": [
    {
     "data": {
      "text/plain": [
       "array([3.76494933e+04, 3.87971742e+04, 3.63713252e+04, 3.77348494e+04,\n",
       "       4.71769512e+10])"
      ]
     },
     "execution_count": 110,
     "metadata": {},
     "output_type": "execute_result"
    }
   ],
   "source": [
    "btc.mean(axis=0)"
   ]
  },
  {
   "cell_type": "code",
   "execution_count": 111,
   "metadata": {},
   "outputs": [
    {
     "data": {
      "text/plain": [
       "array([4.15193304e+09, 5.43565413e+09, 4.62557631e+09, 3.41881052e+09,\n",
       "       3.50936706e+09, 3.87704694e+09, 4.45300030e+09, 3.52688622e+09,\n",
       "       4.39243282e+09, 4.57560469e+09, 3.99373449e+09, 4.82069449e+09,\n",
       "       4.89745577e+09, 5.12710527e+09, 3.82609511e+09, 3.65667200e+09,\n",
       "       4.77216327e+09, 6.18317379e+09, 8.68295249e+09, 6.94596225e+09,\n",
       "       5.79500533e+09, 4.90847400e+09, 4.88139459e+09, 5.89230209e+09,\n",
       "       6.74998634e+09, 7.17347452e+09, 1.12999106e+10, 6.11630779e+09,\n",
       "       6.06130391e+09, 4.89078258e+09, 6.15430196e+09, 5.97400129e+09,\n",
       "       7.02328417e+09, 8.17127619e+09, 7.96758085e+09, 7.00500285e+09,\n",
       "       5.32642714e+09, 6.82983541e+09, 5.11499987e+09, 5.95448743e+09,\n",
       "       6.83516443e+09, 6.31991144e+09, 5.49635492e+09, 4.73078630e+09,\n",
       "       6.30536641e+09, 7.80138357e+09, 9.81297429e+09, 7.39702530e+09,\n",
       "       7.39858938e+09, 7.93005707e+09, 8.25610152e+09, 8.54823715e+09,\n",
       "       1.02939280e+10, 8.74208664e+09, 1.22793814e+10, 7.77731258e+09,\n",
       "       6.52022207e+09, 6.22680589e+09, 9.54571123e+09, 9.92674706e+09,\n",
       "       7.47755456e+09, 6.38607891e+09, 6.77449288e+09, 5.44850613e+09,\n",
       "       5.05877050e+09, 5.37928692e+09, 6.33847276e+09, 6.88408930e+09,\n",
       "       5.10944112e+09, 5.58394264e+09, 4.35053092e+09, 5.09010894e+09,\n",
       "       4.49481488e+09, 5.34841196e+09, 8.88181859e+09, 1.42757391e+10,\n",
       "       8.07759757e+09, 7.69752810e+09, 7.56886462e+09, 9.17056130e+09,\n",
       "       8.83434510e+09, 1.02292512e+10, 8.21617065e+09, 8.41369848e+09,\n",
       "       9.66654993e+09, 1.32960005e+10, 9.81136997e+09, 9.05321092e+09,\n",
       "       1.02575110e+10, 9.35101603e+09, 8.14608363e+09, 1.35731089e+10,\n",
       "       1.57330734e+10, 1.62327205e+10, 1.35094911e+10, 1.50579150e+10,\n",
       "       1.69524588e+10, 1.76215357e+10, 1.23968649e+10, 1.59961807e+10,\n",
       "       2.46642286e+10, 1.49546833e+10, 1.38728915e+10, 1.27232287e+10,\n",
       "       1.35521816e+10, 1.15412669e+10, 1.04719994e+10, 9.90236941e+09,\n",
       "       1.14488684e+10, 1.33669429e+10, 1.51286400e+10, 1.54414798e+10,\n",
       "       9.67097358e+09, 9.72879180e+09, 1.19794373e+10, 1.20511100e+10,\n",
       "       1.25153774e+10, 1.57896573e+10, 2.35790278e+10, 1.30283930e+10,\n",
       "       1.05509353e+10, 1.22801069e+10, 1.26177448e+10, 1.22333928e+10,\n",
       "       1.37676447e+10, 1.17196433e+10, 1.42652380e+10, 1.31001593e+10,\n",
       "       2.02934339e+10, 1.83620065e+10, 1.74602545e+10, 1.62778195e+10,\n",
       "       1.53110463e+10, 1.40501290e+10, 1.42497735e+10, 1.54140190e+10,\n",
       "       1.54099555e+10, 1.61641497e+10, 1.04109862e+10, 1.26991423e+10,\n",
       "       1.36291368e+10, 1.03795626e+10, 1.84105277e+10, 2.12204405e+10,\n",
       "       1.27391437e+10, 1.09013524e+10, 7.01936373e+10, 9.18222649e+09,\n",
       "       1.06888137e+10, 1.07782980e+10, 9.50621861e+09, 1.06442023e+10,\n",
       "       1.04688030e+10, 9.72522446e+09, 6.87275178e+09, 8.62753196e+09,\n",
       "       9.71952666e+09, 1.01824883e+10, 1.14591598e+10, 1.13545140e+10,\n",
       "       1.11380346e+10, 1.21340133e+10, 8.78029340e+09, 1.32839202e+10,\n",
       "       1.19500043e+10, 1.20517085e+10, 1.11492544e+10, 9.81282123e+09,\n",
       "       1.00723932e+10, 1.03887290e+10, 1.13043360e+10, 1.12870485e+10,\n",
       "       1.41134882e+10, 1.36000043e+10, 1.13304823e+10, 9.45335283e+09,\n",
       "       9.53736091e+09, 1.15251628e+10, 1.08828700e+10, 1.31042123e+10,\n",
       "       1.23338800e+10, 1.17456196e+10, 1.19283158e+10, 1.01499791e+10,\n",
       "       1.21413015e+10, 1.32116525e+10, 1.51291064e+10, 1.06108169e+10,\n",
       "       9.33108837e+09, 1.16477416e+10, 9.25609854e+09, 1.03657859e+10,\n",
       "       1.39967403e+10, 1.54904065e+10, 1.21909268e+10, 1.68586512e+10,\n",
       "       1.32278009e+10, 1.94938207e+10, 1.30690178e+10, 1.35699093e+10,\n",
       "       1.09853667e+10, 1.49597685e+10, 1.73337740e+10, 9.80293919e+09,\n",
       "       9.22346219e+09, 1.16568492e+10, 9.88968811e+09, 9.60015859e+09,\n",
       "       9.21782915e+09, 1.04792309e+10, 8.56733168e+09, 7.63552677e+09,\n",
       "       1.03426737e+10, 1.37129856e+10, 1.38483077e+10, 1.39047025e+10,\n",
       "       1.36868502e+10, 1.30766426e+10, 1.31813846e+10, 1.43553548e+10,\n",
       "       1.22617241e+10, 1.50431234e+10, 1.93442701e+10, 1.11475395e+10,\n",
       "       1.18322483e+10, 1.28096117e+10, 1.49807634e+10, 1.12375079e+10,\n",
       "       2.52716308e+10, 1.76564197e+10, 1.64103541e+10, 1.14754845e+10,\n",
       "       1.56938832e+10, 1.34719464e+10, 1.12424139e+10, 1.02693783e+10,\n",
       "       8.64222482e+09, 1.10400680e+10, 9.04623091e+09, 6.32924423e+09,\n",
       "       7.80199847e+09, 6.92791419e+09, 6.61420313e+09, 7.09218079e+09,\n",
       "       8.36624826e+09, 7.19192373e+09, 5.78271675e+09, 6.73681527e+09,\n",
       "       9.98043653e+09, 1.07946120e+10, 8.71523623e+09, 7.73997693e+09,\n",
       "       7.58487472e+09, 8.13385234e+09, 8.62981473e+09, 9.28406218e+09,\n",
       "       7.84235846e+09, 7.41936468e+09, 7.24020692e+09, 6.24148452e+09,\n",
       "       7.33283496e+09, 1.05618346e+10, 1.17928959e+10, 9.26344834e+09,\n",
       "       6.62470082e+09, 8.04620747e+09, 7.71710242e+09, 7.10235491e+09,\n",
       "       6.77853240e+09, 7.58032024e+09, 6.81183544e+09, 7.56781872e+09,\n",
       "       7.74582182e+09, 4.87681910e+09, 4.98488964e+09, 5.34433836e+09,\n",
       "       5.30027929e+09, 4.95923288e+09, 5.98210595e+09, 5.48723081e+09,\n",
       "       4.59440162e+09, 4.02177301e+09, 4.86432685e+09, 3.82419762e+09,\n",
       "       4.27533229e+09, 4.26013064e+09, 4.73992070e+09, 3.77902901e+09,\n",
       "       3.75762272e+09, 4.08698292e+09, 4.62967765e+09, 5.64062975e+09,\n",
       "       3.91107186e+09, 4.51043554e+09, 4.33296853e+09, 4.17136483e+09,\n",
       "       1.02044549e+10, 7.01950462e+09, 7.74051277e+09, 5.43346120e+09,\n",
       "       6.61458917e+09, 5.16060250e+09, 5.33772033e+09, 5.11908474e+09,\n",
       "       5.23799706e+09, 5.07454365e+09, 7.03703809e+09, 7.64532999e+09,\n",
       "       8.00620737e+09, 7.26056835e+09, 7.74685170e+09, 6.70924055e+09,\n",
       "       6.86397847e+09, 6.74476018e+09, 6.34888878e+09, 6.24230873e+09,\n",
       "       6.19782911e+09, 6.55541267e+09, 6.69030898e+09, 6.43886058e+09,\n",
       "       7.44089895e+09, 6.94141190e+09, 8.11708031e+09, 5.07423425e+09,\n",
       "       6.86105042e+09, 7.07227273e+09, 6.52930860e+09, 6.53334825e+09,\n",
       "       6.90225369e+09, 5.71365983e+09, 5.17796911e+09, 6.36943976e+09,\n",
       "       6.94611051e+09, 7.82791815e+09, 7.90165349e+09, 8.64127566e+09,\n",
       "       7.49430557e+09, 6.06457588e+09, 7.77686272e+09, 1.30420511e+10,\n",
       "       9.80158946e+09, 7.73456842e+09, 7.83096985e+09, 6.90000322e+09,\n",
       "       5.57643252e+09, 8.19402489e+09, 7.73046738e+09, 6.09693739e+09,\n",
       "       6.35289705e+09, 5.74558075e+09, 5.71516438e+09, 5.39358269e+09,\n",
       "       8.78200513e+09, 9.74025144e+09, 7.62797562e+09, 6.84884819e+09,\n",
       "       8.56790389e+09, 6.32097751e+09, 6.13227855e+09, 6.19604021e+09,\n",
       "       6.04302150e+09, 6.12050518e+09, 6.26756707e+09])"
      ]
     },
     "execution_count": 111,
     "metadata": {},
     "output_type": "execute_result"
    }
   ],
   "source": [
    "btc.mean(axis=1)"
   ]
  },
  {
   "cell_type": "markdown",
   "metadata": {},
   "source": [
    "#### Varianza"
   ]
  },
  {
   "cell_type": "code",
   "execution_count": 112,
   "metadata": {},
   "outputs": [
    {
     "data": {
      "text/plain": [
       "array([2.11834337e+08, 2.22468515e+08, 1.97774055e+08, 2.10059206e+08,\n",
       "       6.32394789e+20])"
      ]
     },
     "execution_count": 112,
     "metadata": {},
     "output_type": "execute_result"
    }
   ],
   "source": [
    "btc.var(axis=0)"
   ]
  },
  {
   "cell_type": "markdown",
   "metadata": {},
   "source": [
    "#### Desviación standard"
   ]
  },
  {
   "cell_type": "code",
   "execution_count": 113,
   "metadata": {},
   "outputs": [
    {
     "data": {
      "text/plain": [
       "array([1.45545298e+04, 1.49153785e+04, 1.40632164e+04, 1.44934194e+04,\n",
       "       2.51474609e+10])"
      ]
     },
     "execution_count": 113,
     "metadata": {},
     "output_type": "execute_result"
    }
   ],
   "source": [
    "btc.std(axis=0)"
   ]
  },
  {
   "cell_type": "markdown",
   "metadata": {},
   "source": [
    "#### Mediana"
   ]
  },
  {
   "cell_type": "code",
   "execution_count": null,
   "metadata": {},
   "outputs": [],
   "source": []
  },
  {
   "cell_type": "markdown",
   "metadata": {
    "tags": []
   },
   "source": [
    "### Números aleatorios"
   ]
  },
  {
   "cell_type": "code",
   "execution_count": 114,
   "metadata": {},
   "outputs": [
    {
     "data": {
      "text/plain": [
       "0.22856423360166211"
      ]
     },
     "execution_count": 114,
     "metadata": {},
     "output_type": "execute_result"
    }
   ],
   "source": [
    "np.random.rand()"
   ]
  },
  {
   "cell_type": "markdown",
   "metadata": {
    "tags": []
   },
   "source": [
    "#### Números aleatorios con semilla"
   ]
  },
  {
   "cell_type": "code",
   "execution_count": 115,
   "metadata": {},
   "outputs": [
    {
     "data": {
      "text/plain": [
       "0.7777024105738202"
      ]
     },
     "execution_count": 115,
     "metadata": {},
     "output_type": "execute_result"
    }
   ],
   "source": [
    "np.random.seed(13)\n",
    "np.random.rand()"
   ]
  },
  {
   "cell_type": "code",
   "execution_count": 116,
   "metadata": {},
   "outputs": [],
   "source": [
    "np.random.seed(2021)"
   ]
  },
  {
   "cell_type": "code",
   "execution_count": 117,
   "metadata": {},
   "outputs": [
    {
     "data": {
      "text/plain": [
       "array([0.60597828, 0.73336936, 0.13894716, 0.31267308])"
      ]
     },
     "execution_count": 117,
     "metadata": {},
     "output_type": "execute_result"
    }
   ],
   "source": [
    "np.random.rand(4)"
   ]
  },
  {
   "cell_type": "code",
   "execution_count": 118,
   "metadata": {},
   "outputs": [
    {
     "data": {
      "text/plain": [
       "array([[0.99724328, 0.12816238, 0.17899311],\n",
       "       [0.75292543, 0.66216051, 0.78431013]])"
      ]
     },
     "execution_count": 118,
     "metadata": {},
     "output_type": "execute_result"
    }
   ],
   "source": [
    "np.random.rand(2,3)"
   ]
  },
  {
   "cell_type": "code",
   "execution_count": 119,
   "metadata": {},
   "outputs": [
    {
     "data": {
      "text/plain": [
       "6"
      ]
     },
     "execution_count": 119,
     "metadata": {},
     "output_type": "execute_result"
    }
   ],
   "source": [
    "np.random.randint(5,10)"
   ]
  },
  {
   "cell_type": "markdown",
   "metadata": {},
   "source": [
    "# FINAL DE LA CLASE 5 DE OCTUBRE, 2021"
   ]
  },
  {
   "cell_type": "markdown",
   "metadata": {},
   "source": [
    "HASTA LA CELDA ANTERIOR LLEGAMOS EN LA CLASE DEL 5 DE OCTUBRE"
   ]
  },
  {
   "cell_type": "markdown",
   "metadata": {},
   "source": [
    "# CONTINUACIóN DE LA CLASE:"
   ]
  },
  {
   "cell_type": "markdown",
   "metadata": {
    "slideshow": {
     "slide_type": "subslide"
    },
    "tags": []
   },
   "source": [
    "## Trabajando con arrays"
   ]
  },
  {
   "cell_type": "markdown",
   "metadata": {
    "slideshow": {
     "slide_type": "fragment"
    }
   },
   "source": [
    "![](https://www.dropbox.com/s/lfuin99pnevccbn/03_array_2d.png?raw=1)"
   ]
  },
  {
   "cell_type": "code",
   "execution_count": null,
   "metadata": {},
   "outputs": [],
   "source": []
  },
  {
   "cell_type": "markdown",
   "metadata": {
    "slideshow": {
     "slide_type": "subslide"
    }
   },
   "source": [
    "![](https://www.dropbox.com/s/n06rwk0iodn5yxm/04_array_shape.png?raw=1)"
   ]
  },
  {
   "cell_type": "code",
   "execution_count": null,
   "metadata": {},
   "outputs": [],
   "source": []
  },
  {
   "cell_type": "markdown",
   "metadata": {
    "slideshow": {
     "slide_type": "subslide"
    }
   },
   "source": [
    "![](https://www.dropbox.com/s/vvifxoxfrwqj3aa/05_array_size.png?raw=1)"
   ]
  },
  {
   "cell_type": "code",
   "execution_count": null,
   "metadata": {},
   "outputs": [],
   "source": []
  },
  {
   "cell_type": "markdown",
   "metadata": {
    "slideshow": {
     "slide_type": "subslide"
    }
   },
   "source": [
    "#### Leer un elemento de un array"
   ]
  },
  {
   "cell_type": "markdown",
   "metadata": {},
   "source": [
    "![](https://www.dropbox.com/s/lfuin99pnevccbn/03_array_2d.png?raw=1)"
   ]
  },
  {
   "cell_type": "code",
   "execution_count": null,
   "metadata": {},
   "outputs": [],
   "source": []
  },
  {
   "cell_type": "markdown",
   "metadata": {
    "slideshow": {
     "slide_type": "subslide"
    }
   },
   "source": [
    "#### Cambiar un elemento de un array"
   ]
  },
  {
   "cell_type": "markdown",
   "metadata": {
    "slideshow": {
     "slide_type": "subslide"
    }
   },
   "source": [
    "![](https://www.dropbox.com/s/3mn49w92l4i89g0/07_array_elemento.png?raw=1)"
   ]
  },
  {
   "cell_type": "code",
   "execution_count": null,
   "metadata": {},
   "outputs": [],
   "source": []
  },
  {
   "cell_type": "markdown",
   "metadata": {
    "slideshow": {
     "slide_type": "subslide"
    },
    "tags": []
   },
   "source": [
    "### Slicing"
   ]
  },
  {
   "cell_type": "markdown",
   "metadata": {},
   "source": [
    "$$array[LimiteInferior:LimiteSuperior:Pasos]$$"
   ]
  },
  {
   "cell_type": "markdown",
   "metadata": {
    "slideshow": {
     "slide_type": "subslide"
    }
   },
   "source": [
    "#### Slicing en array de 1D"
   ]
  },
  {
   "cell_type": "code",
   "execution_count": null,
   "metadata": {},
   "outputs": [],
   "source": []
  },
  {
   "cell_type": "markdown",
   "metadata": {
    "slideshow": {
     "slide_type": "subslide"
    }
   },
   "source": [
    "#### Slicing en array de 2D"
   ]
  },
  {
   "cell_type": "markdown",
   "metadata": {},
   "source": [
    "$$array[LimInfFila:LimSupFila:Pasos,LimInfColumna:LimSupColumna:Pasos]$$"
   ]
  },
  {
   "cell_type": "markdown",
   "metadata": {
    "slideshow": {
     "slide_type": "subslide"
    },
    "tags": []
   },
   "source": [
    "### Ejericio Construir array 2D"
   ]
  },
  {
   "cell_type": "markdown",
   "metadata": {
    "slideshow": {
     "slide_type": "subslide"
    }
   },
   "source": [
    "<img src=\"https://www.dropbox.com/s/ll7zezl88m3k5bz/08_array_2d.png?raw=1\" width=\"400\">"
   ]
  },
  {
   "cell_type": "code",
   "execution_count": null,
   "metadata": {},
   "outputs": [],
   "source": []
  },
  {
   "cell_type": "markdown",
   "metadata": {
    "slideshow": {
     "slide_type": "subslide"
    },
    "tags": []
   },
   "source": [
    "#### <font color='orange'>Hacer un slice en fila naranja"
   ]
  },
  {
   "cell_type": "markdown",
   "metadata": {
    "slideshow": {
     "slide_type": "subslide"
    }
   },
   "source": [
    "<img src=\"https://www.dropbox.com/s/ll7zezl88m3k5bz/08_array_2d.png?raw=1\" width=\"400\">"
   ]
  },
  {
   "cell_type": "code",
   "execution_count": null,
   "metadata": {},
   "outputs": [],
   "source": []
  },
  {
   "cell_type": "markdown",
   "metadata": {
    "slideshow": {
     "slide_type": "subslide"
    },
    "tags": []
   },
   "source": [
    "#### <font color='red'>Hacer un slice solo en la columna roja"
   ]
  },
  {
   "cell_type": "markdown",
   "metadata": {
    "slideshow": {
     "slide_type": "subslide"
    }
   },
   "source": [
    "<img src=\"https://www.dropbox.com/s/ll7zezl88m3k5bz/08_array_2d.png?raw=1\" width=\"400\">"
   ]
  },
  {
   "cell_type": "code",
   "execution_count": null,
   "metadata": {},
   "outputs": [],
   "source": []
  },
  {
   "cell_type": "markdown",
   "metadata": {
    "slideshow": {
     "slide_type": "subslide"
    },
    "tags": []
   },
   "source": [
    "#### <font color=#2B65EC>Partir elementos en color azul"
   ]
  },
  {
   "cell_type": "markdown",
   "metadata": {
    "slideshow": {
     "slide_type": "subslide"
    }
   },
   "source": [
    "<img src=\"https://www.dropbox.com/s/ll7zezl88m3k5bz/08_array_2d.png?raw=1\" width=\"400\">"
   ]
  },
  {
   "cell_type": "code",
   "execution_count": null,
   "metadata": {},
   "outputs": [],
   "source": []
  },
  {
   "cell_type": "markdown",
   "metadata": {
    "slideshow": {
     "slide_type": "subslide"
    },
    "tags": []
   },
   "source": [
    "#### <font color=#0020C2>Partir elementos en los recuadros azules"
   ]
  },
  {
   "cell_type": "markdown",
   "metadata": {
    "slideshow": {
     "slide_type": "subslide"
    }
   },
   "source": [
    "<img src=\"https://www.dropbox.com/s/ll7zezl88m3k5bz/08_array_2d.png?raw=1\" width=\"400\">"
   ]
  },
  {
   "cell_type": "code",
   "execution_count": null,
   "metadata": {},
   "outputs": [],
   "source": []
  },
  {
   "cell_type": "markdown",
   "metadata": {
    "slideshow": {
     "slide_type": "subslide"
    },
    "tags": []
   },
   "source": [
    "## NumPy Vs Python"
   ]
  },
  {
   "cell_type": "code",
   "execution_count": null,
   "metadata": {},
   "outputs": [],
   "source": []
  },
  {
   "cell_type": "markdown",
   "metadata": {
    "slideshow": {
     "slide_type": "subslide"
    }
   },
   "source": [
    "Todas las imagenes son bajadas de internet"
   ]
  }
 ],
 "metadata": {
  "kernelspec": {
   "display_name": "Python 3 (ipykernel)",
   "language": "python",
   "name": "python3"
  },
  "language_info": {
   "codemirror_mode": {
    "name": "ipython",
    "version": 3
   },
   "file_extension": ".py",
   "mimetype": "text/x-python",
   "name": "python",
   "nbconvert_exporter": "python",
   "pygments_lexer": "ipython3",
   "version": "3.9.7"
  }
 },
 "nbformat": 4,
 "nbformat_minor": 4
}
